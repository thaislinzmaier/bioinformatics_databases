{
  "cells": [
    {
      "cell_type": "markdown",
      "metadata": {
        "id": "5Lbahw9vwuR_"
      },
      "source": [
        "# ACCESS BIOINFORMATICS DATABASES WITH BIO-PYTHON"
      ]
    },
    {
      "cell_type": "markdown",
      "metadata": {
        "id": "Ply40l_7wuSF"
      },
      "source": [
        "1. [NCBI](#1.-NCBI)<br>\n",
        "    1.1. [Nucleotide BLAST](#1.1.-Nucleotide-BLAST)<br>\n",
        "    1.2. [Protein BLAST](#1.2.-Protein-BLAST)\n",
        "    \n",
        "2. [ENTREZ](#2.-ENTREZ)<br>\n",
        "    2.1. [PUBMED](#2.1.-PUBMED)<br>\n",
        "    2.2. [Nucleotide](#2.2.-Nucleotide)\n",
        "    \n",
        "3. [PDB](#3.-PDB)\n",
        "\n",
        "4. [EXPASY](#4.-EXPASY)<br>\n",
        "    4.1. [PROSITE](#4.1.-PROSITE)<br>\n",
        "    4.2. [ScanProsite](#4.2.-ScanProsite)\n",
        "    \n",
        "5. [KEGG](#5.-KEGG)"
      ]
    },
    {
      "cell_type": "markdown",
      "metadata": {
        "id": "GbvdXjiRwuSJ"
      },
      "source": [
        "# 1. NCBI"
      ]
    },
    {
      "cell_type": "markdown",
      "metadata": {
        "id": "3k-MtYPjwuSL"
      },
      "source": [
        "### Import Modules"
      ]
    },
    {
      "cell_type": "code",
      "execution_count": null,
      "metadata": {
        "id": "GHsh3VQdwuSM"
      },
      "outputs": [],
      "source": [
        "from Bio.Blast import NCBIWWW\n",
        "from Bio import SeqIO, SearchIO"
      ]
    },
    {
      "cell_type": "code",
      "execution_count": null,
      "metadata": {
        "id": "qlDQKtTfwuSO"
      },
      "outputs": [],
      "source": [
        "#help(NCBIWWW)"
      ]
    },
    {
      "cell_type": "markdown",
      "metadata": {
        "id": "xb0KIIyzwuSP"
      },
      "source": [
        "## 1.1. Nucleotide BLAST"
      ]
    },
    {
      "cell_type": "code",
      "execution_count": null,
      "metadata": {
        "id": "hOym3zS4wuSP",
        "outputId": "f8073d59-55b5-4a75-d9ad-6547583f9c59"
      },
      "outputs": [
        {
          "name": "stdout",
          "output_type": "stream",
          "text": [
            "notebook.ipynb\tnuc_seq.fasta  prot_seq.fasta\r\n"
          ]
        }
      ],
      "source": [
        "!ls"
      ]
    },
    {
      "cell_type": "code",
      "execution_count": null,
      "metadata": {
        "id": "GTuxuEWgwuSR",
        "outputId": "bafafd6f-22c0-4cba-bd6f-3d7d8334586f"
      },
      "outputs": [
        {
          "data": {
            "text/plain": [
              "774"
            ]
          },
          "execution_count": 5,
          "metadata": {},
          "output_type": "execute_result"
        }
      ],
      "source": [
        "nuc_record = SeqIO.read(\"nuc_seq.fasta\", format = \"fasta\")\n",
        "len(nuc_record)"
      ]
    },
    {
      "cell_type": "code",
      "execution_count": null,
      "metadata": {
        "id": "AxLagwThwuSS",
        "outputId": "6dad195e-d917-4c65-e823-15971b8b8181"
      },
      "outputs": [
        {
          "data": {
            "text/plain": [
              "'MT598137.1 Severe acute respiratory syndrome coronavirus 2 isolate SARS-CoV-2/human/IRN/PN-2142-S/2020 surface glycoprotein (S) gene, partial cds'"
            ]
          },
          "execution_count": 6,
          "metadata": {},
          "output_type": "execute_result"
        }
      ],
      "source": [
        "nuc_record.description"
      ]
    },
    {
      "cell_type": "code",
      "execution_count": null,
      "metadata": {
        "id": "iJPA54tkwuST",
        "outputId": "07c9f882-7b49-4b03-ab3d-cd4fb7fd6b6d"
      },
      "outputs": [
        {
          "data": {
            "text/plain": [
              "Seq('ATCGCTCCAGGGCAAACTGGAAAGATTGCTGATTATAATTATAAATTACCAGAT...GGT')"
            ]
          },
          "execution_count": 7,
          "metadata": {},
          "output_type": "execute_result"
        }
      ],
      "source": [
        "nuc_record.seq\n"
      ]
    },
    {
      "cell_type": "code",
      "execution_count": null,
      "metadata": {
        "id": "EvOPF0AJwuST"
      },
      "outputs": [],
      "source": [
        "result_handle = NCBIWWW.qblast(\"blastn\", \"nt\", nuc_record.seq) #tipo de algoritmo, tipo de sequencia do database, sequencia de dados\n",
        "blast_result = SearchIO.read(result_handle, \"blast-xml\")"
      ]
    },
    {
      "cell_type": "code",
      "execution_count": null,
      "metadata": {
        "id": "b5X62hd-wuSU",
        "outputId": "b0f881e3-600d-4734-8032-83413e6f2c40"
      },
      "outputs": [
        {
          "name": "stdout",
          "output_type": "stream",
          "text": [
            "Program: blastn (2.14.1+)\n",
            "  Query: No (774)\n",
            "         definition line\n",
            " Target: nt\n",
            "   Hits: ----  -----  ----------------------------------------------------------\n",
            "            #  # HSP  ID + description\n",
            "         ----  -----  ----------------------------------------------------------\n",
            "            0      1  gi|2618521021|gb|OR781269.1|  Severe acute respiratory ...\n",
            "            1      1  gi|2618520491|gb|OR781229.1|  Severe acute respiratory ...\n"
          ]
        }
      ],
      "source": [
        "print(blast_result[0:2])"
      ]
    },
    {
      "cell_type": "code",
      "execution_count": null,
      "metadata": {
        "id": "addmYLUMwuSU",
        "outputId": "b07f078c-a19e-4224-fa4d-826863f2a476"
      },
      "outputs": [
        {
          "name": "stdout",
          "output_type": "stream",
          "text": [
            "Sequence ID: gi|2618521021|gb|OR781269.1|\n",
            "Sequence Description: Severe acute respiratory syndrome coronavirus 2 isolate SARS-CoV-2/human/USA/CA-LACPHL-AY03140/2020, complete genome\n",
            "E-value: 0.0\n"
          ]
        }
      ],
      "source": [
        "Seq = blast_result[0]\n",
        "print(f\"Sequence ID: {Seq.id}\")\n",
        "print(f\"Sequence Description: {Seq.description}\")\n",
        "\n",
        "details = Seq[0]\n",
        "\n",
        "print(f\"E-value: {details.evalue}\")"
      ]
    },
    {
      "cell_type": "code",
      "execution_count": null,
      "metadata": {
        "id": "8fPYY4i2wuSW",
        "outputId": "215fc10f-739c-4a05-ade5-f73c817b0166"
      },
      "outputs": [
        {
          "name": "stdout",
          "output_type": "stream",
          "text": [
            "alignment:\n",
            "Alignment with 2 rows and 774 columns\n",
            "ATCGCTCCAGGGCAAACTGGAAAGATTGCTGATTATAATTATAA...GGT No\n",
            "ATCGCTCCAGGGCAAACTGGAAAGATTGCTGATTATAATTATAA...GGT gi|2618521021|gb|OR781269.1|\n"
          ]
        }
      ],
      "source": [
        "print(f\"alignment:\\n{details.aln}\")"
      ]
    },
    {
      "cell_type": "markdown",
      "metadata": {
        "id": "NrKdUK5-wuSX"
      },
      "source": [
        "## 1.2. Protein BLAST"
      ]
    },
    {
      "cell_type": "code",
      "execution_count": null,
      "metadata": {
        "id": "tzZZBF8hwuSX",
        "outputId": "86e8bd1a-ce83-4ec9-92d8-43d3aa3d3a67"
      },
      "outputs": [
        {
          "data": {
            "text/plain": [
              "258"
            ]
          },
          "execution_count": 12,
          "metadata": {},
          "output_type": "execute_result"
        }
      ],
      "source": [
        "prot_record = SeqIO.read(\"prot_seq.fasta\", format=\"fasta\")\n",
        "len(prot_record)"
      ]
    },
    {
      "cell_type": "code",
      "execution_count": null,
      "metadata": {
        "id": "KLj7hcrNwuSX"
      },
      "outputs": [],
      "source": [
        "result_handle = NCBIWWW.qblast(\"blastp\", \"pdb\", prot_record.seq)\n",
        "blast_result = SearchIO.read(result_handle, \"blast-xml\")"
      ]
    },
    {
      "cell_type": "code",
      "execution_count": null,
      "metadata": {
        "id": "uchHcHn5wuSY",
        "outputId": "9954d15f-ad19-4976-b42f-9bcb18521aa2"
      },
      "outputs": [
        {
          "name": "stdout",
          "output_type": "stream",
          "text": [
            "Program: blastp (2.14.1+)\n",
            "  Query: unnamed (258)\n",
            "         protein product\n",
            " Target: pdb\n",
            "   Hits: ----  -----  ----------------------------------------------------------\n",
            "            #  # HSP  ID + description\n",
            "         ----  -----  ----------------------------------------------------------\n",
            "            0      1  pdb|8ELJ|A  Chain A, Spike glycoprotein [Severe acute r...\n",
            "            1      1  pdb|7CAB|A  Chain A, Spike glycoprotein [Severe acute r...\n"
          ]
        }
      ],
      "source": [
        "print(blast_result[0:2])"
      ]
    },
    {
      "cell_type": "code",
      "execution_count": null,
      "metadata": {
        "id": "ewAqV03bwuSY",
        "outputId": "8eac28a1-4eb5-47ec-e2b5-a8c5a34c1199"
      },
      "outputs": [
        {
          "name": "stdout",
          "output_type": "stream",
          "text": [
            "Sequence ID: pdb|8ELJ|A\n",
            "Sequence Description: Chain A, Spike glycoprotein [Severe acute respiratory syndrome coronavirus 2]\n",
            "E-value: 0.0\n"
          ]
        }
      ],
      "source": [
        "Seq = blast_result [0]\n",
        "print(f\"Sequence ID: {Seq.id}\")\n",
        "print(f\"Sequence Description: {Seq.description}\")\n",
        "\n",
        "details = Seq[0]\n",
        "print(f\"E-value: {details.evalue}\")"
      ]
    },
    {
      "cell_type": "code",
      "execution_count": null,
      "metadata": {
        "id": "lA4Evs48wuSY",
        "outputId": "28595b31-fba4-4913-ffc4-00f635e03814"
      },
      "outputs": [
        {
          "name": "stdout",
          "output_type": "stream",
          "text": [
            "alignment:\n",
            " Alignment with 2 rows and 258 columns\n",
            "IAPGQTGKIADYNYKLPDDFTGCVIAWNSNNLDSKVGGNYNYLY...PIG unnamed\n",
            "IAPGQTGKIADYNYKLPDDFTGCVIAWNSNNLDSKVGGNYNYLY...PIG pdb|8ELJ|A\n"
          ]
        }
      ],
      "source": [
        "print(f\"alignment:\\n {details.aln}\")"
      ]
    },
    {
      "cell_type": "markdown",
      "metadata": {
        "id": "M-bai--NwuSZ"
      },
      "source": [
        "------------------------------------------------------"
      ]
    },
    {
      "cell_type": "markdown",
      "metadata": {
        "id": "Ccqy47lhwuSZ"
      },
      "source": [
        "# 2. ENTREZ"
      ]
    },
    {
      "cell_type": "markdown",
      "metadata": {
        "id": "C4yT73bKwuSZ"
      },
      "source": [
        "### Import Modules"
      ]
    },
    {
      "cell_type": "code",
      "execution_count": null,
      "metadata": {
        "id": "NQoebH5VwuSZ"
      },
      "outputs": [],
      "source": [
        "from Bio import Entrez"
      ]
    },
    {
      "cell_type": "code",
      "execution_count": null,
      "metadata": {
        "id": "UnONsTwJwuSa",
        "outputId": "4970e64b-6bc1-4a8e-b8d6-d7c5f42a3a15"
      },
      "outputs": [
        {
          "name": "stdout",
          "output_type": "stream",
          "text": [
            "Help on package Bio.Entrez in Bio:\n",
            "\n",
            "NAME\n",
            "    Bio.Entrez - Provides code to access NCBI over the WWW.\n",
            "\n",
            "DESCRIPTION\n",
            "    The main Entrez web page is available at:\n",
            "    http://www.ncbi.nlm.nih.gov/Entrez/\n",
            "    \n",
            "    Entrez Programming Utilities web page is available at:\n",
            "    http://www.ncbi.nlm.nih.gov/books/NBK25501/\n",
            "    \n",
            "    This module provides a number of functions like ``efetch`` (short for\n",
            "    Entrez Fetch) which will return the data as a handle object. This is\n",
            "    a standard interface used in Python for reading data from a file, or\n",
            "    in this case a remote network connection, and provides methods like\n",
            "    ``.read()`` or offers iteration over the contents line by line. See\n",
            "    also \"What the heck is a handle?\" in the Biopython Tutorial and\n",
            "    Cookbook: http://biopython.org/DIST/docs/tutorial/Tutorial.html\n",
            "    http://biopython.org/DIST/docs/tutorial/Tutorial.pdf\n",
            "    The handle returned by these functions can be either in text mode or\n",
            "    in binary mode, depending on the data requested and the results\n",
            "    returned by NCBI Entrez. Typically, XML data will be in binary mode\n",
            "    while other data will be in text mode, as required by the downstream\n",
            "    parser to parse the data.\n",
            "    \n",
            "    Unlike a handle to a file on disk from the ``open(filename)`` function,\n",
            "    which has a ``.name`` attribute giving the filename, the handles from\n",
            "    ``Bio.Entrez`` all have a ``.url`` attribute instead giving the URL\n",
            "    used to connect to the NCBI Entrez API.\n",
            "    \n",
            "    All the functions that send requests to the NCBI Entrez API will\n",
            "    automatically respect the NCBI rate limit (of 3 requests per second\n",
            "    without an API key, or 10 requests per second with an API key) and\n",
            "    will automatically retry when encountering transient failures\n",
            "    (i.e. connection failures or HTTP 5XX codes). By default, Biopython\n",
            "    does a maximum of three tries before giving up, and sleeps for 15\n",
            "    seconds between tries. You can tweak these parameters by setting\n",
            "    ``Bio.Entrez.max_tries`` and ``Bio.Entrez.sleep_between_tries``.\n",
            "    \n",
            "    The Entrez module also provides an XML parser which takes a handle\n",
            "    as input.\n",
            "    \n",
            "    Variables:\n",
            "    \n",
            "        - email        Set the Entrez email parameter (default is not set).\n",
            "        - tool         Set the Entrez tool parameter (default is ``biopython``).\n",
            "        - api_key      Personal API key from NCBI. If not set, only 3 queries per\n",
            "          second are allowed. 10 queries per seconds otherwise with a\n",
            "          valid API key.\n",
            "        - max_tries    Configures how many times failed requests will be\n",
            "          automatically retried on error (default is 3).\n",
            "        - sleep_between_tries   The delay, in seconds, before retrying a request on\n",
            "          error (default is 15).\n",
            "    \n",
            "    Functions:\n",
            "    \n",
            "        - efetch       Retrieves records in the requested format from a list of one or\n",
            "          more primary IDs or from the user's environment\n",
            "        - epost        Posts a file containing a list of primary IDs for future use in\n",
            "          the user's environment to use with subsequent search strategies\n",
            "        - esearch      Searches and retrieves primary IDs (for use in EFetch, ELink,\n",
            "          and ESummary) and term translations and optionally retains\n",
            "          results for future use in the user's environment.\n",
            "        - elink        Checks for the existence of an external or Related Articles link\n",
            "          from a list of one or more primary IDs.  Retrieves primary IDs\n",
            "          and relevancy scores for links to Entrez databases or Related\n",
            "          Articles;  creates a hyperlink to the primary LinkOut provider\n",
            "          for a specific ID and database, or lists LinkOut URLs\n",
            "          and Attributes for multiple IDs.\n",
            "        - einfo        Provides field index term counts, last update, and available\n",
            "          links for each database.\n",
            "        - esummary     Retrieves document summaries from a list of primary IDs or from\n",
            "          the user's environment.\n",
            "        - egquery      Provides Entrez database counts in XML for a single search\n",
            "          using Global Query.\n",
            "        - espell       Retrieves spelling suggestions.\n",
            "        - ecitmatch    Retrieves PubMed IDs (PMIDs) that correspond to a set of\n",
            "          input citation strings.\n",
            "    \n",
            "        - read         Parses the XML results returned by any of the above functions.\n",
            "          Alternatively, the XML data can be read from a file opened in binary mode.\n",
            "          Typical usage is:\n",
            "    \n",
            "              >>> from Bio import Entrez\n",
            "              >>> Entrez.email = \"Your.Name.Here@example.org\"\n",
            "              >>> handle = Entrez.einfo() # or esearch, efetch, ...\n",
            "              >>> record = Entrez.read(handle)\n",
            "              >>> handle.close()\n",
            "    \n",
            "           where record is now a Python dictionary or list.\n",
            "    \n",
            "        - parse        Parses the XML results returned by those of the above functions\n",
            "          which can return multiple records - such as efetch, esummary\n",
            "          and elink. Typical usage is:\n",
            "    \n",
            "              >>> handle = Entrez.esummary(db=\"pubmed\", id=\"19304878,14630660\", retmode=\"xml\")\n",
            "              >>> records = Entrez.parse(handle)\n",
            "              >>> for record in records:\n",
            "              ...     # each record is a Python dictionary or list.\n",
            "              ...     print(record['Title'])\n",
            "              Biopython: freely available Python tools for computational molecular biology and bioinformatics.\n",
            "              PDB file parser and structure class implemented in Python.\n",
            "              >>> handle.close()\n",
            "    \n",
            "          This function is appropriate only if the XML file contains\n",
            "          multiple records, and is particular useful for large files.\n",
            "    \n",
            "        - _open        Internally used function.\n",
            "\n",
            "PACKAGE CONTENTS\n",
            "    Parser\n",
            "\n",
            "FUNCTIONS\n",
            "    ecitmatch(**keywds)\n",
            "        Retrieve PMIDs for input citation strings, returned as a handle.\n",
            "        \n",
            "        ECitMatch retrieves PubMed IDs (PMIDs) that correspond to a set of input\n",
            "        citation strings.\n",
            "        \n",
            "        See the online documentation for an explanation of the parameters:\n",
            "        http://www.ncbi.nlm.nih.gov/books/NBK25499/#chapter4.ECitMatch\n",
            "        \n",
            "        Return a handle to the results, by default in plain text\n",
            "        \n",
            "        Raises an IOError exception if there's a network error.\n",
            "        \n",
            "        Short example:\n",
            "        \n",
            "        >>> from Bio import Entrez\n",
            "        >>> Entrez.email = \"Your.Name.Here@example.org\"\n",
            "        >>> citation_1 = {\"journal_title\": \"proc natl acad sci u s a\",\n",
            "        ...               \"year\": \"1991\", \"volume\": \"88\", \"first_page\": \"3248\",\n",
            "        ...               \"author_name\": \"mann bj\", \"key\": \"citation_1\"}\n",
            "        >>> handle = Entrez.ecitmatch(db=\"pubmed\", bdata=[citation_1])\n",
            "        >>> print(handle.read().strip().split(\"|\"))\n",
            "        ['proc natl acad sci u s a', '1991', '88', '3248', 'mann bj', 'citation_1', '2014248']\n",
            "        >>> handle.close()\n",
            "    \n",
            "    efetch(db, **keywords)\n",
            "        Fetch Entrez results which are returned as a handle.\n",
            "        \n",
            "        EFetch retrieves records in the requested format from a list or set of one or\n",
            "        more UIs or from user's environment.\n",
            "        \n",
            "        See the online documentation for an explanation of the parameters:\n",
            "        http://www.ncbi.nlm.nih.gov/books/NBK25499/#chapter4.EFetch\n",
            "        \n",
            "        Return a handle to the results.\n",
            "        \n",
            "        Raises an IOError exception if there's a network error.\n",
            "        \n",
            "        Short example:\n",
            "        \n",
            "        >>> from Bio import Entrez\n",
            "        >>> Entrez.email = \"Your.Name.Here@example.org\"\n",
            "        >>> handle = Entrez.efetch(db=\"nucleotide\", id=\"AY851612\", rettype=\"gb\", retmode=\"text\")\n",
            "        >>> print(handle.readline().strip())\n",
            "        LOCUS       AY851612                 892 bp    DNA     linear   PLN 10-APR-2007\n",
            "        >>> handle.close()\n",
            "        \n",
            "        This will automatically use an HTTP POST rather than HTTP GET if there\n",
            "        are over 200 identifiers as recommended by the NCBI.\n",
            "        \n",
            "        **Warning:** The NCBI changed the default retmode in Feb 2012, so many\n",
            "        databases which previously returned text output now give XML.\n",
            "    \n",
            "    egquery(**keywds)\n",
            "        Provide Entrez database counts for a global search.\n",
            "        \n",
            "        EGQuery provides Entrez database counts in XML for a single search\n",
            "        using Global Query.\n",
            "        \n",
            "        See the online documentation for an explanation of the parameters:\n",
            "        http://www.ncbi.nlm.nih.gov/books/NBK25499/#chapter4.EGQuery\n",
            "        \n",
            "        Return a handle to the results in XML format.\n",
            "        \n",
            "        Raises an IOError exception if there's a network error.\n",
            "        \n",
            "        This quick example based on a longer version from the Biopython\n",
            "        Tutorial just checks there are over 60 matches for 'Biopython'\n",
            "        in PubMedCentral:\n",
            "        \n",
            "        >>> from Bio import Entrez\n",
            "        >>> Entrez.email = \"Your.Name.Here@example.org\"\n",
            "        >>> handle = Entrez.egquery(term=\"biopython\")\n",
            "        >>> record = Entrez.read(handle)\n",
            "        >>> handle.close()\n",
            "        >>> for row in record[\"eGQueryResult\"]:\n",
            "        ...     if \"pmc\" in row[\"DbName\"]:\n",
            "        ...         print(int(row[\"Count\"]) > 60)\n",
            "        True\n",
            "    \n",
            "    einfo(**keywds)\n",
            "        Return a summary of the Entrez databases as a results handle.\n",
            "        \n",
            "        EInfo provides field names, index term counts, last update, and\n",
            "        available links for each Entrez database.\n",
            "        \n",
            "        See the online documentation for an explanation of the parameters:\n",
            "        http://www.ncbi.nlm.nih.gov/books/NBK25499/#chapter4.EInfo\n",
            "        \n",
            "        Return a handle to the results, by default in XML format.\n",
            "        \n",
            "        Raises an IOError exception if there's a network error.\n",
            "        \n",
            "        Short example:\n",
            "        \n",
            "        >>> from Bio import Entrez\n",
            "        >>> Entrez.email = \"Your.Name.Here@example.org\"\n",
            "        >>> record = Entrez.read(Entrez.einfo())\n",
            "        >>> 'pubmed' in record['DbList']\n",
            "        True\n",
            "    \n",
            "    elink(**keywds)\n",
            "        Check for linked external articles and return a handle.\n",
            "        \n",
            "        ELink checks for the existence of an external or Related Articles link\n",
            "        from a list of one or more primary IDs;  retrieves IDs and relevancy\n",
            "        scores for links to Entrez databases or Related Articles; creates a\n",
            "        hyperlink to the primary LinkOut provider for a specific ID and\n",
            "        database, or lists LinkOut URLs and attributes for multiple IDs.\n",
            "        \n",
            "        See the online documentation for an explanation of the parameters:\n",
            "        http://www.ncbi.nlm.nih.gov/books/NBK25499/#chapter4.ELink\n",
            "        \n",
            "        Return a handle to the results, by default in XML format.\n",
            "        \n",
            "        Raises an IOError exception if there's a network error.\n",
            "        \n",
            "        This example finds articles related to the Biopython application\n",
            "        note's entry in the PubMed database:\n",
            "        \n",
            "        >>> from Bio import Entrez\n",
            "        >>> Entrez.email = \"Your.Name.Here@example.org\"\n",
            "        >>> pmid = \"19304878\"\n",
            "        >>> handle = Entrez.elink(dbfrom=\"pubmed\", id=pmid, linkname=\"pubmed_pubmed\")\n",
            "        >>> record = Entrez.read(handle)\n",
            "        >>> handle.close()\n",
            "        >>> print(record[0][\"LinkSetDb\"][0][\"LinkName\"])\n",
            "        pubmed_pubmed\n",
            "        >>> linked = [link[\"Id\"] for link in record[0][\"LinkSetDb\"][0][\"Link\"]]\n",
            "        >>> \"17121776\" in linked\n",
            "        True\n",
            "        \n",
            "        This is explained in much more detail in the Biopython Tutorial.\n",
            "    \n",
            "    epost(db, **keywds)\n",
            "        Post a file of identifiers for future use.\n",
            "        \n",
            "        Posts a file containing a list of UIs for future use in the user's\n",
            "        environment to use with subsequent search strategies.\n",
            "        \n",
            "        See the online documentation for an explanation of the parameters:\n",
            "        http://www.ncbi.nlm.nih.gov/books/NBK25499/#chapter4.EPost\n",
            "        \n",
            "        Return a handle to the results.\n",
            "        \n",
            "        Raises an IOError exception if there's a network error.\n",
            "    \n",
            "    esearch(db, term, **keywds)\n",
            "        Run an Entrez search and return a handle to the results.\n",
            "        \n",
            "        ESearch searches and retrieves primary IDs (for use in EFetch, ELink\n",
            "        and ESummary) and term translations, and optionally retains results\n",
            "        for future use in the user's environment.\n",
            "        \n",
            "        See the online documentation for an explanation of the parameters:\n",
            "        http://www.ncbi.nlm.nih.gov/books/NBK25499/#chapter4.ESearch\n",
            "        \n",
            "        Return a handle to the results which are always in XML format.\n",
            "        \n",
            "        Raises an IOError exception if there's a network error.\n",
            "        \n",
            "        Short example:\n",
            "        \n",
            "        >>> from Bio import Entrez\n",
            "        >>> Entrez.email = \"Your.Name.Here@example.org\"\n",
            "        >>> handle = Entrez.esearch(db=\"nucleotide\", retmax=10, term=\"opuntia[ORGN] accD\", idtype=\"acc\")\n",
            "        >>> record = Entrez.read(handle)\n",
            "        >>> handle.close()\n",
            "        >>> int(record[\"Count\"]) >= 2\n",
            "        True\n",
            "        >>> \"EF590893.1\" in record[\"IdList\"]\n",
            "        True\n",
            "        >>> \"EF590892.1\" in record[\"IdList\"]\n",
            "        True\n",
            "    \n",
            "    espell(**keywds)\n",
            "        Retrieve spelling suggestions as a results handle.\n",
            "        \n",
            "        ESpell retrieves spelling suggestions, if available.\n",
            "        \n",
            "        See the online documentation for an explanation of the parameters:\n",
            "        http://www.ncbi.nlm.nih.gov/books/NBK25499/#chapter4.ESpell\n",
            "        \n",
            "        Return a handle to the results, by default in XML format.\n",
            "        \n",
            "        Raises an IOError exception if there's a network error.\n",
            "        \n",
            "        Short example:\n",
            "        \n",
            "        >>> from Bio import Entrez\n",
            "        >>> Entrez.email = \"Your.Name.Here@example.org\"\n",
            "        >>> record = Entrez.read(Entrez.espell(term=\"biopythooon\"))\n",
            "        >>> print(record[\"Query\"])\n",
            "        biopythooon\n",
            "        >>> print(record[\"CorrectedQuery\"])\n",
            "        biopython\n",
            "    \n",
            "    esummary(**keywds)\n",
            "        Retrieve document summaries as a results handle.\n",
            "        \n",
            "        ESummary retrieves document summaries from a list of primary IDs or\n",
            "        from the user's environment.\n",
            "        \n",
            "        See the online documentation for an explanation of the parameters:\n",
            "        http://www.ncbi.nlm.nih.gov/books/NBK25499/#chapter4.ESummary\n",
            "        \n",
            "        Return a handle to the results, by default in XML format.\n",
            "        \n",
            "        Raises an IOError exception if there's a network error.\n",
            "        \n",
            "        This example discovers more about entry 19923 in the structure\n",
            "        database:\n",
            "        \n",
            "        >>> from Bio import Entrez\n",
            "        >>> Entrez.email = \"Your.Name.Here@example.org\"\n",
            "        >>> handle = Entrez.esummary(db=\"structure\", id=\"19923\")\n",
            "        >>> record = Entrez.read(handle)\n",
            "        >>> handle.close()\n",
            "        >>> print(record[0][\"Id\"])\n",
            "        19923\n",
            "        >>> print(record[0][\"PdbDescr\"])\n",
            "        Crystal Structure Of E. Coli Aconitase B\n",
            "    \n",
            "    parse(handle, validate=True, escape=False)\n",
            "        Parse an XML file from the NCBI Entrez Utilities into python objects.\n",
            "        \n",
            "        This function parses an XML file created by NCBI's Entrez Utilities,\n",
            "        returning a multilevel data structure of Python lists and dictionaries.\n",
            "        This function is suitable for XML files that (in Python) can be represented\n",
            "        as a list of individual records. Whereas 'read' reads the complete file\n",
            "        and returns a single Python list, 'parse' is a generator function that\n",
            "        returns the records one by one. This function is therefore particularly\n",
            "        useful for parsing large files.\n",
            "        \n",
            "        Most XML files returned by NCBI's Entrez Utilities can be parsed by\n",
            "        this function, provided its DTD is available. Biopython includes the\n",
            "        DTDs for most commonly used Entrez Utilities.\n",
            "        \n",
            "        The handle must be in binary mode. This allows the parser to detect the\n",
            "        encoding from the XML file, and to use it to convert all text in the XML\n",
            "        to the correct Unicode string. The functions in Bio.Entrez to access NCBI\n",
            "        Entrez will automatically return XML data in binary mode. For files,\n",
            "        please use mode \"rb\" when opening the file, as in\n",
            "        \n",
            "            >>> from Bio import Entrez\n",
            "            >>> handle = open(\"Entrez/pubmed1.xml\", \"rb\")  # opened in binary mode\n",
            "            >>> records = Entrez.parse(handle)\n",
            "            >>> for record in records:\n",
            "            ...     print(record['MedlineCitation']['Article']['Journal']['Title'])\n",
            "            ...\n",
            "            Social justice (San Francisco, Calif.)\n",
            "            Biochimica et biophysica acta\n",
            "            >>> handle.close()\n",
            "        \n",
            "        If validate is True (default), the parser will validate the XML file\n",
            "        against the DTD, and raise an error if the XML file contains tags that\n",
            "        are not represented in the DTD. If validate is False, the parser will\n",
            "        simply skip such tags.\n",
            "        \n",
            "        If escape is True, all characters that are not valid HTML are replaced\n",
            "        by HTML escape characters to guarantee that the returned strings are\n",
            "        valid HTML fragments. For example, a less-than sign (<) is replaced by\n",
            "        &lt;. If escape is False (default), the string is returned as is.\n",
            "        \n",
            "        Whereas the data structure seems to consist of generic Python lists,\n",
            "        dictionaries, strings, and so on, each of these is actually a class\n",
            "        derived from the base type. This allows us to store the attributes\n",
            "        (if any) of each element in a dictionary my_element.attributes, and\n",
            "        the tag name in my_element.tag.\n",
            "    \n",
            "    read(handle, validate=True, escape=False)\n",
            "        Parse an XML file from the NCBI Entrez Utilities into python objects.\n",
            "        \n",
            "        This function parses an XML file created by NCBI's Entrez Utilities,\n",
            "        returning a multilevel data structure of Python lists and dictionaries.\n",
            "        Most XML files returned by NCBI's Entrez Utilities can be parsed by\n",
            "        this function, provided its DTD is available. Biopython includes the\n",
            "        DTDs for most commonly used Entrez Utilities.\n",
            "        \n",
            "        The handle must be in binary mode. This allows the parser to detect the\n",
            "        encoding from the XML file, and to use it to convert all text in the XML\n",
            "        to the correct Unicode string. The functions in Bio.Entrez to access NCBI\n",
            "        Entrez will automatically return XML data in binary mode. For files,\n",
            "        please use mode \"rb\" when opening the file, as in\n",
            "        \n",
            "            >>> from Bio import Entrez\n",
            "            >>> handle = open(\"Entrez/esearch1.xml\", \"rb\")  # opened in binary mode\n",
            "            >>> record = Entrez.read(handle)\n",
            "            >>> print(record['QueryTranslation'])\n",
            "            biopython[All Fields]\n",
            "            >>> handle.close()\n",
            "        \n",
            "        If validate is True (default), the parser will validate the XML file\n",
            "        against the DTD, and raise an error if the XML file contains tags that\n",
            "        are not represented in the DTD. If validate is False, the parser will\n",
            "        simply skip such tags.\n",
            "        \n",
            "        If escape is True, all characters that are not valid HTML are replaced\n",
            "        by HTML escape characters to guarantee that the returned strings are\n",
            "        valid HTML fragments. For example, a less-than sign (<) is replaced by\n",
            "        &lt;. If escape is False (default), the string is returned as is.\n",
            "        \n",
            "        Whereas the data structure seems to consist of generic Python lists,\n",
            "        dictionaries, strings, and so on, each of these is actually a class\n",
            "        derived from the base type. This allows us to store the attributes\n",
            "        (if any) of each element in a dictionary my_element.attributes, and\n",
            "        the tag name in my_element.tag.\n",
            "\n",
            "DATA\n",
            "    api_key = None\n",
            "    email = None\n",
            "    max_tries = 3\n",
            "    sleep_between_tries = 15\n",
            "    tool = 'biopython'\n",
            "\n",
            "FILE\n",
            "    /home/rhyme/.local/lib/python3.6/site-packages/Bio/Entrez/__init__.py\n",
            "\n",
            "\n"
          ]
        }
      ],
      "source": [
        "help(Entrez)"
      ]
    },
    {
      "cell_type": "code",
      "execution_count": null,
      "metadata": {
        "id": "nfC-f5RuwuSa"
      },
      "outputs": [],
      "source": [
        "Entrez.email = \"thaislinzmaier@gmail.com\""
      ]
    },
    {
      "cell_type": "code",
      "execution_count": null,
      "metadata": {
        "id": "VAlrO29QwuSa",
        "outputId": "145977af-f9e2-493d-bea0-9cbc71d6cf9a"
      },
      "outputs": [
        {
          "data": {
            "text/plain": [
              "['pubmed', 'protein', 'nuccore', 'ipg', 'nucleotide', 'structure', 'genome', 'annotinfo', 'assembly', 'bioproject', 'biosample', 'blastdbinfo', 'books', 'cdd', 'clinvar', 'gap', 'gapplus', 'grasp', 'dbvar', 'gene', 'gds', 'geoprofiles', 'homologene', 'medgen', 'mesh', 'nlmcatalog', 'omim', 'orgtrack', 'pmc', 'popset', 'proteinclusters', 'pcassay', 'protfam', 'pccompound', 'pcsubstance', 'seqannot', 'snp', 'sra', 'taxonomy', 'biocollections', 'gtr']"
            ]
          },
          "execution_count": 20,
          "metadata": {},
          "output_type": "execute_result"
        }
      ],
      "source": [
        "handle = Entrez.einfo()\n",
        "record = Entrez.read(handle)\n",
        "record[\"DbList\"]"
      ]
    },
    {
      "cell_type": "markdown",
      "metadata": {
        "id": "rR5Y0fp5wuSa"
      },
      "source": [
        "## 2.1. PUBMED"
      ]
    },
    {
      "cell_type": "code",
      "execution_count": null,
      "metadata": {
        "id": "jaSrNR9NwuSb",
        "outputId": "82229afe-c3bf-4fc0-9071-0a0dcec75122"
      },
      "outputs": [
        {
          "data": {
            "text/plain": [
              "'PubMed bibliographic record'"
            ]
          },
          "execution_count": 22,
          "metadata": {},
          "output_type": "execute_result"
        }
      ],
      "source": [
        "handle = Entrez.einfo(db=\"pubmed\")\n",
        "record = Entrez.read(handle)\n",
        "record[\"DbInfo\"][\"Description\"]"
      ]
    },
    {
      "cell_type": "code",
      "execution_count": null,
      "metadata": {
        "id": "02NMCXNcwuSb",
        "outputId": "8c4bd4d2-02f1-4998-8ee5-8d1fcd83df03"
      },
      "outputs": [
        {
          "data": {
            "text/plain": [
              "'36443380'"
            ]
          },
          "execution_count": 23,
          "metadata": {},
          "output_type": "execute_result"
        }
      ],
      "source": [
        "record[\"DbInfo\"][\"Count\"]"
      ]
    },
    {
      "cell_type": "code",
      "execution_count": null,
      "metadata": {
        "id": "zYtEvzzUwuSb",
        "outputId": "7076b160-ad09-4d9d-d4f0-9f90c048254e"
      },
      "outputs": [
        {
          "data": {
            "text/plain": [
              "['37810457', '37668712', '37577677', '36818783', '36245797', '36094101', '35497637', '35496474', '35402671', '34735950', '34484417', '34434786', '34189012', '33994075', '33902722', '33809815', '33242467', '32044951', '31762715', '31278684']"
            ]
          },
          "execution_count": 24,
          "metadata": {},
          "output_type": "execute_result"
        }
      ],
      "source": [
        "handle = Entrez.esearch(db=\"pubmed\", term=\"biopython\")\n",
        "record = Entrez.read(handle)\n",
        "record[\"IdList\"]"
      ]
    },
    {
      "cell_type": "code",
      "execution_count": null,
      "metadata": {
        "id": "jfQzvdvLwuSc",
        "outputId": "9f53aa1e-02c7-4945-a6e7-70b8b68b93c1"
      },
      "outputs": [
        {
          "name": "stdout",
          "output_type": "stream",
          "text": [
            "['Arora C', 'De Oliveira Rosa N', 'Matic M', 'Cascone M', 'Miglionico P', 'Raimondi F'] EXPANSION: a webserver to explore the functional consequences of protein-coding alternative splice variants in cancer genomics. 2023 Bioinformatics advances\n",
            "['Rustagi V', 'Gupta SRR', 'Bajaj M', 'Singh A', 'Singh IK'] PepAnalyzer: predicting peptide properties using its sequence. 2023 Sep 5 Amino acids\n",
            "['Li Y', 'Yang R'] PxBLAT: An Ergonomic and Efficient Python Binding Library for BLAT. 2023 Oct 24 bioRxiv : the preprint server for biology\n",
            "['Olds CG', 'Berta-Thompson JW', 'Loucks JJ', 'Levy RA', 'Wilson AW'] Applying a modified metabarcoding approach for the sequencing of macrofungal specimens from fungarium collections. 2023 Jan-Feb Applications in plant sciences\n",
            "['Nallasamy V', 'Seshiah M'] Energy Profile Bayes and Thompson Optimized Convolutional Neural Network protein structure prediction. 2023 Neural computing & applications\n",
            "['Rashid S', 'Ng TA', 'Kwoh CK'] Jupytope: computational extraction of structural properties of viral epitopes. 2022 Nov 19 Briefings in bioinformatics\n",
            "['He L', 'Cornish TC', 'Kricka LJ', 'Vandergriff TW', 'Yancey K', 'Nguyen K', 'Park JY'] Trends in dermatology eponyms. 2022 Jun JAAD international\n",
            "['Scott S', 'Grigson S', 'Hartkopf F', 'Hallwirth CV', 'Alexander IE', 'Bauer DC', 'Wilson LOW'] A bioinformatic pipeline for simulating viral integration data. 2022 Jun Data in brief\n",
            "['Omonhinmin C', 'Onuselogu C'] rbcL gene in global molecular data repository. 2022 Jun Data in brief\n",
            "['Zelenova M', 'Ivanova A', 'Semyonov S', 'Gankin Y'] Analysis of 329,942 SARS-CoV-2 records retrieved from GISAID database. 2021 Dec Computers in biology and medicine\n",
            "['Li Y', 'Wang J', 'Li Y', 'Liu C', 'Gong X', 'Zhuang Y', 'Chen L', 'Sun K'] Identification of Immune-Related Genes in Sepsis due to Community-Acquired Pneumonia. 2021 Computational and mathematical methods in medicine\n",
            "['Cornish TC', 'Kricka LJ', 'Park JY'] A Biopython-based method for comprehensively searching for eponyms in Pubmed. 2021 MethodsX\n",
            "['Purohit S', 'Satapathy SC', 'Sibi Chakkaravarthy S', 'Zhang YD'] Correlation-Based Analysis of COVID-19 Virus Genome Versus Other Fatal Virus Genomes. 2021 Jun 24 Arabian journal for science and engineering\n",
            "['Floch A', 'Téletchéa S', 'Tournamille C', 'de Brevern AG', 'Pirenne F'] A Review of the Literature Organized Into a New Database: RHeference. 2021 Apr Transfusion medicine reviews\n",
            "['Torkian B', 'Hann S', 'Preisner E', 'Norman RS'] BLAST-QC: automated analysis of BLAST results. 2020 Aug 12 Environmental microbiome\n",
            "['Ochoa R', 'Cossio P'] PepFun: Open Source Protocols for Peptide-Related Computational Analysis. 2021 Mar 16 Molecules (Basel, Switzerland)\n",
            "['Kricka LJ', 'Cornish TC', 'Park JY'] Eponyms in clinical chemistry. 2021 Jan Clinica chimica acta; international journal of clinical chemistry\n",
            "['Ireland SM', 'Martin ACR'] atomium-a Python structure parser. 2020 May 1 Bioinformatics (Oxford, England)\n",
            "['Chen G', 'Feng Y', 'Sun Z', 'Gao Y', 'Wu C', 'Zhang H', 'Cao J', 'Chen Z', 'Cao J', 'Zhu Y', 'Zhang S'] mRNA and lncRNA Expression Profiling of Radiation-Induced Gastric Injury Reveals Potential Radiation-Responsive Transcription Factors. 2019 Oct-Dec Dose-response : a publication of International Hormesis Society\n",
            "['Bonnal RJP', 'Yates A', 'Goto N', 'Gautier L', 'Willis S', 'Fields C', 'Katayama T', 'Prins P'] Sharing Programming Resources Between Bio* Projects. 2019 Methods in molecular biology (Clifton, N.J.)\n"
          ]
        }
      ],
      "source": [
        "handle = Entrez.esummary(db=\"pubmed\", id='37810457, 37668712, 37577677, 36818783, 36245797, 36094101, 35497637, 35496474, 35402671, 34735950, 34484417, 34434786, 34189012, 33994075, 33902722, 33809815, 33242467, 32044951, 31762715, 31278684')\n",
        "records = Entrez.parse(handle)\n",
        "\n",
        "\n",
        "for record in records:\n",
        "    print(record['AuthorList'], record['Title'], record['PubDate'], record['FullJournalName'])"
      ]
    },
    {
      "cell_type": "code",
      "execution_count": null,
      "metadata": {
        "id": "yjLIYovZwuSc",
        "outputId": "151a1509-3936-408c-abb3-c019038b0659"
      },
      "outputs": [
        {
          "name": "stdout",
          "output_type": "stream",
          "text": [
            "b'<?xml version=\"1.0\" ?>\\n<!DOCTYPE PubmedArticleSet PUBLIC \"-//NLM//DTD PubMedArticle, 1st January 2023//EN\" \"https://dtd.nlm.nih.gov/ncbi/pubmed/out/pubmed_230101.dtd\">\\n<PubmedArticleSet>\\n<PubmedArticle><MedlineCitation Status=\"MEDLINE\" Owner=\"NLM\"><PMID Version=\"1\">19811691</PMID><DateCompleted><Year>2010</Year><Month>02</Month><Day>12</Day></DateCompleted><DateRevised><Year>2021</Year><Month>10</Month><Day>20</Day></DateRevised><Article PubModel=\"Electronic\"><Journal><ISSN IssnType=\"Electronic\">1471-2105</ISSN><JournalIssue CitedMedium=\"Internet\"><Volume>10 Suppl 11</Volume><Issue>Suppl 11</Issue><PubDate><Year>2009</Year><Month>Oct</Month><Day>08</Day></PubDate></JournalIssue><Title>BMC bioinformatics</Title><ISOAbbreviation>BMC Bioinformatics</ISOAbbreviation></Journal><ArticleTitle>Exploratory visual analysis of conserved domains on multiple sequence alignments.</ArticleTitle><Pagination><StartPage>S7</StartPage><MedlinePgn>S7</MedlinePgn></Pagination><ELocationID EIdType=\"doi\" ValidYN=\"Y\">10.1186/1471-2105-10-S11-S7</ELocationID><Abstract><AbstractText Label=\"BACKGROUND\" NlmCategory=\"BACKGROUND\">Multiple alignment of protein sequences can provide insight into sequence conservation across many species and thus allow identification of those sections of the sequence most critical to protein function. This insight can be augmented by joint display of conserved domains along the sequences. By fusing this metadata visually, biologists can analyze sequence conservation and functional motifs simultaneously and efficiently.</AbstractText><AbstractText Label=\"RESULTS\" NlmCategory=\"RESULTS\">We present MSAVis, a new approach combining luminance and hue for simultaneous visualization of conserved motifs and sequence alignment. Input for the algorithm is a multiple sequence alignment in a standard format. The NCBI Conserved Domain Database (CDD) is used for finding conserved domains along the alignment. The visualization quickly identifies conserved domains, and allows both macro (sequence-long) and micro (small amino-acid neighborhood) views.</AbstractText><AbstractText Label=\"CONCLUSION\" NlmCategory=\"CONCLUSIONS\">MSAVis utilizes two visual cues, luminance and hue, to facilitate at-a-glance summary of the conservation of a user-provided protein alignment while enabling multiple comparisons among functional domains. These visual cues are preattentive and separable so that the relationship between conservation strength and domain membership can be understood. The MSAVis software, written in Python and using BioPython and OpenGL, can be found at http://agbase.msstate.edu/tools/MSAVis.html.</AbstractText></Abstract><AuthorList CompleteYN=\"Y\"><Author ValidYN=\"Y\"><LastName>Jankun-Kelly</LastName><ForeName>T J</ForeName><Initials>TJ</Initials><AffiliationInfo><Affiliation>Institute for Digital Biology and Department of Computer Science and Engineering, Bagley College of Engineering, Mississippi State University, Mississippi, USA. tjk@acm.org</Affiliation></AffiliationInfo></Author><Author ValidYN=\"Y\"><LastName>Lindeman</LastName><ForeName>Andrew D</ForeName><Initials>AD</Initials></Author><Author ValidYN=\"Y\"><LastName>Bridges</LastName><ForeName>Susan M</ForeName><Initials>SM</Initials></Author></AuthorList><Language>eng</Language><PublicationTypeList><PublicationType UI=\"D016428\">Journal Article</PublicationType><PublicationType UI=\"D013486\">Research Support, U.S. Gov\\'t, Non-P.H.S.</PublicationType></PublicationTypeList><ArticleDate DateType=\"Electronic\"><Year>2009</Year><Month>10</Month><Day>08</Day></ArticleDate></Article><MedlineJournalInfo><Country>England</Country><MedlineTA>BMC Bioinformatics</MedlineTA><NlmUniqueID>100965194</NlmUniqueID><ISSNLinking>1471-2105</ISSNLinking></MedlineJournalInfo><ChemicalList><Chemical><RegistryNumber>0</RegistryNumber><NameOfSubstance UI=\"D011506\">Proteins</NameOfSubstance></Chemical></ChemicalList><CitationSubset>IM</CitationSubset><MeshHeadingList><MeshHeading><DescriptorName UI=\"D000595\" MajorTopicYN=\"N\">Amino Acid Sequence</DescriptorName></MeshHeading><MeshHeading><DescriptorName UI=\"D019295\" MajorTopicYN=\"N\">Computational Biology</DescriptorName><QualifierName UI=\"Q000379\" MajorTopicYN=\"Y\">methods</QualifierName></MeshHeading><MeshHeading><DescriptorName UI=\"D030562\" MajorTopicYN=\"N\">Databases, Protein</DescriptorName></MeshHeading><MeshHeading><DescriptorName UI=\"D008969\" MajorTopicYN=\"N\">Molecular Sequence Data</DescriptorName></MeshHeading><MeshHeading><DescriptorName UI=\"D017434\" MajorTopicYN=\"Y\">Protein Structure, Tertiary</DescriptorName></MeshHeading><MeshHeading><DescriptorName UI=\"D011506\" MajorTopicYN=\"N\">Proteins</DescriptorName><QualifierName UI=\"Q000737\" MajorTopicYN=\"N\">chemistry</QualifierName></MeshHeading><MeshHeading><DescriptorName UI=\"D016415\" MajorTopicYN=\"Y\">Sequence Alignment</DescriptorName></MeshHeading><MeshHeading><DescriptorName UI=\"D020539\" MajorTopicYN=\"N\">Sequence Analysis, Protein</DescriptorName><QualifierName UI=\"Q000379\" MajorTopicYN=\"Y\">methods</QualifierName></MeshHeading></MeshHeadingList></MedlineCitation><PubmedData><History><PubMedPubDate PubStatus=\"entrez\"><Year>2009</Year><Month>10</Month><Day>9</Day><Hour>6</Hour><Minute>0</Minute></PubMedPubDate><PubMedPubDate PubStatus=\"pubmed\"><Year>2009</Year><Month>10</Month><Day>14</Day><Hour>6</Hour><Minute>0</Minute></PubMedPubDate><PubMedPubDate PubStatus=\"medline\"><Year>2010</Year><Month>2</Month><Day>13</Day><Hour>6</Hour><Minute>0</Minute></PubMedPubDate></History><PublicationStatus>epublish</PublicationStatus><ArticleIdList><ArticleId IdType=\"pubmed\">19811691</ArticleId><ArticleId IdType=\"pmc\">PMC3226196</ArticleId><ArticleId IdType=\"doi\">10.1186/1471-2105-10-S11-S7</ArticleId><ArticleId IdType=\"pii\">1471-2105-10-S11-S7</ArticleId></ArticleIdList><ReferenceList><Reference><Citation>Larkin M, Blackshields G, Brown N, Chenna R, McGettigan P, McWilliam H, Valentin F, Wallace I, Wilm A, Lopez R, Thompson J, Gibson T, Higgins D. ClustalW and ClustalX version 2. Bioinformatics. 2007;23(21):2947&#x2013;2948. doi: 10.1093/bioinformatics/btm404.</Citation><ArticleIdList><ArticleId IdType=\"doi\">10.1093/bioinformatics/btm404</ArticleId><ArticleId IdType=\"pubmed\">17846036</ArticleId></ArticleIdList></Reference><Reference><Citation>A Conserved Domain Database and Search Service. http://www.ncbi.nlm.nih.gov/Structure/cdd/cdd.shtml</Citation></Reference><Reference><Citation>Marchler-Bauer A, Anderson J, Cherukuri P, DeWeese-Scott C, Geer L, Gwadz M, He S, Hurwitz D, Jackson J, Ke Z, Lanczycki C, Liebert C, Liu C, Lu F, Marchler G, Mullokandov M, Shoemaker B, Simonyan V, Song J, Thiessen P, Yamashita R, Yin J, Zhang D, Bryant S. CDD: A Conserved Domain Database for protein classification. Nucleic Acids Research. 2005. pp. D192&#x2013;D196.</Citation><ArticleIdList><ArticleId IdType=\"pmc\">PMC540023</ArticleId><ArticleId IdType=\"pubmed\">15608175</ArticleId></ArticleIdList></Reference><Reference><Citation>Lungu M, Xu K.  In: Human-Centered Visualization Environments, Volume 4417 of Lecture Notes in Computer Science. Kerren A, Ebert A, Meyer J, editor. Springer; 2006. Biomedical Information Visualization; pp. 311&#x2013;342.http://dx.doi.org/10.1007/978-3-540-71949-6_8</Citation><ArticleIdList><ArticleId IdType=\"doi\">10.1007/978-3-540-71949-6_8</ArticleId></ArticleIdList></Reference><Reference><Citation>Schneider TD, Stephens RM. Sequence Logos: A New Way to Display Consensus Sequences. Nucleic Acids Research. 1990;18:6097&#x2013;6100. doi: 10.1093/nar/18.20.6097.</Citation><ArticleIdList><ArticleId IdType=\"doi\">10.1093/nar/18.20.6097</ArticleId><ArticleId IdType=\"pmc\">PMC332411</ArticleId><ArticleId IdType=\"pubmed\">2172928</ArticleId></ArticleIdList></Reference><Reference><Citation>Slack J, Hildebrand K, Munzner T, John KS. In: Proceedings of the German Conference on Bioinformatics. Giegerich R, Stoye J, editor. Vol. 53. 2004. SequenceJuxtaposer: Fluid Navigation For Large-Scale Sequence Comparison in Context; pp. 37&#x2013;42.</Citation></Reference><Reference><Citation>Mayor C, Brudno M, Schwartz JR, Poliakov A, Rubin EM, Frazer KA, Pachter LS, Dubchak I. VISTA: Visualizing Global DNA Sequence Alignments of Arbitrary Length. Bioinformatics. 2000;16(11):1046&#x2013;1047. doi: 10.1093/bioinformatics/16.11.1046.</Citation><ArticleIdList><ArticleId IdType=\"doi\">10.1093/bioinformatics/16.11.1046</ArticleId><ArticleId IdType=\"pubmed\">11159318</ArticleId></ArticleIdList></Reference><Reference><Citation>Shah N, Couronne O, Pennacchio LA, Brudno M, Batzoglou S, Bethel EW, Rubin EM, Hamann B, Dubchak I. Phylo-VISTA: Interactive visualization of multiple DNA sequence alignments. Bioinformatics. 2004;20(5):636&#x2013;643. doi: 10.1093/bioinformatics/btg459.</Citation><ArticleIdList><ArticleId IdType=\"doi\">10.1093/bioinformatics/btg459</ArticleId><ArticleId IdType=\"pubmed\">15033870</ArticleId></ArticleIdList></Reference><Reference><Citation>Spell R, Brady R, Dietrich F. BARD: A visualization tool for biological sequence analysis. IEEE Symposium on Information Visualization 2003. 2003. pp. 219&#x2013;225.</Citation></Reference><Reference><Citation>InterPro. http://www.ebi.ac.uk/interpro/</Citation></Reference><Reference><Citation>Hunter S, Apweiler R, Attwood TK, Bairoch A, Bateman A, Binns D, Bork P, Das U, Daugherty L, Duquenne L, Finn RD, Gough J, Haft D, Hulo N, Kahn D, Kelly E, Laugraud A, Letunic I, Lonsdale D, Lopez R, Madera M, Maslen J, McAnulla C, McDowall J, Mistry J, Mitchell A, Mulder N, Natale D, Orengo C, Quinn AF, Selengut JD, Sigrist CJA, Thimma M, Thomas PD, Valentin F, Wilson D, Wu CH, Yeats C. InterPro: The integrative protein signature database. Nucleic Acids Research. 2009. pp. D211&#x2013;D215.</Citation><ArticleIdList><ArticleId IdType=\"doi\">10.1093/nar/gkn785</ArticleId><ArticleId IdType=\"pmc\">PMC2686546</ArticleId><ArticleId IdType=\"pubmed\">18940856</ArticleId></ArticleIdList></Reference><Reference><Citation>Consortium TU. The Universal Protein Resource (UniProt) Nucleic Acids Research. 2008. pp. D190&#x2013;D195.</Citation><ArticleIdList><ArticleId IdType=\"pmc\">PMC2238893</ArticleId><ArticleId IdType=\"pubmed\">18045787</ArticleId></ArticleIdList></Reference><Reference><Citation>UniProt. http://www.uniprot.org/</Citation></Reference><Reference><Citation>Clamp M, Cuff J, Searle S, Barton G. The Jalview Java alignment editor. Bioinformatics. 2004;20(3):426&#x2013;427. doi: 10.1093/bioinformatics/btg430.</Citation><ArticleIdList><ArticleId IdType=\"doi\">10.1093/bioinformatics/btg430</ArticleId><ArticleId IdType=\"pubmed\">14960472</ArticleId></ArticleIdList></Reference><Reference><Citation>Felsensein J. PHYLIP. http://evolution.genetics.washington.edu/phylip.html</Citation></Reference><Reference><Citation>Henikoff S, Henikoff JG. Amino acid substitution matrices from protein blocks. Proc Natl Acad Sci USA. 1992;89(22):10915&#x2013;10919. doi: 10.1073/pnas.89.22.10915.</Citation><ArticleIdList><ArticleId IdType=\"doi\">10.1073/pnas.89.22.10915</ArticleId><ArticleId IdType=\"pmc\">PMC50453</ArticleId><ArticleId IdType=\"pubmed\">1438297</ArticleId></ArticleIdList></Reference><Reference><Citation>McLaren K. The development of the CIE 1976 (L*a*b*) uniform colour-space and colour-difference formula. Journal of the Society of Dyers and Colourists. 1976;92:338&#x2013;341.</Citation></Reference><Reference><Citation>Ware C. Information Visualization: Perception for Design. 2. Morgan Kaufmann; 2004.</Citation></Reference><Reference><Citation>Pirolli P, Card SK. Information Foraging. Psychological Review. 1999;4:643&#x2013;674. doi: 10.1037/0033-295X.106.4.643.</Citation><ArticleIdList><ArticleId IdType=\"doi\">10.1037/0033-295X.106.4.643</ArticleId></ArticleIdList></Reference><Reference><Citation>Cock P, Antao T, Chang J, Chapman B, Cox C, Dalke A, Friedberg I, Hamelryck T, Kauff F, Wilczynski B, de Hoon M. Biopython: Freely available Python tools for computational molecular biology and bioinformatics. Bioinformatics. 2009;25(11):1422&#x2013;1423. doi: 10.1093/bioinformatics/btp163.</Citation><ArticleIdList><ArticleId IdType=\"doi\">10.1093/bioinformatics/btp163</ArticleId><ArticleId IdType=\"pmc\">PMC2682512</ArticleId><ArticleId IdType=\"pubmed\">19304878</ArticleId></ArticleIdList></Reference><Reference><Citation>PyOpenGL. http://pyopengl.sourceforge.net/</Citation></Reference><Reference><Citation>wxPython. http://wxpython.org/</Citation></Reference><Reference><Citation>McCarthy F, Wang N, Magee G, Nanduri B, Lawrence M, Camon E, Burrell D, Hill D, Dolan M, Williams W, Luthe D, Bridges S, Burgess S. AgBase: A Functional Genomics Resource for Agriculture. BMC Genomics. 2006;7(229)</Citation><ArticleIdList><ArticleId IdType=\"pmc\">PMC1618847</ArticleId><ArticleId IdType=\"pubmed\">16961921</ArticleId></ArticleIdList></Reference><Reference><Citation>MSAVis. http://agbase.msstate.edu/tools/MSAVis.html</Citation></Reference><Reference><Citation>Bailey TL, Boden M, Buske FA, Frith M, Grant CE, Clementi L, Ren J, Li WW, Noble WS. MEME SUITE: Tools for motif discovery and searching. Nucleic Acids Research. 2009. http://dx.doi.org/10.1093/nar/gkp335</Citation><ArticleIdList><ArticleId IdType=\"doi\">10.1093/nar/gkp335</ArticleId><ArticleId IdType=\"pmc\">PMC2703892</ArticleId><ArticleId IdType=\"pubmed\">19458158</ArticleId></ArticleIdList></Reference><Reference><Citation>The MEME Suite. http://meme.nbcr.net/</Citation></Reference><Reference><Citation>Nicholas KB, Nicholas HB, Deerfield DW. GeneDoc: Analysis and visualization of genetic variation. EMBNEW NEWS. 1997;4:14.</Citation></Reference><Reference><Citation>GeneDoc. http://www.nrbsc.org/gfx/genedoc/</Citation></Reference><Reference><Citation>Hall T. BioEdit Sequence Alignment Editor. http://www.mbio.ncsu.edu/BioEdit/bioedit.html</Citation></Reference></ReferenceList></PubmedData></PubmedArticle></PubmedArticleSet>'\n"
          ]
        }
      ],
      "source": [
        "handle = Entrez.efetch(db=\"pubmed\", id=\"19811691\")\n",
        "print(handle.read())"
      ]
    },
    {
      "cell_type": "markdown",
      "metadata": {
        "id": "Tkjcl2UYwuSc"
      },
      "source": [
        "## 2.2. Nucleotide"
      ]
    },
    {
      "cell_type": "code",
      "execution_count": null,
      "metadata": {
        "id": "T1MIQ7dUwuSc",
        "outputId": "93b40c2c-4749-4a0c-f336-0613329ddeae"
      },
      "outputs": [
        {
          "data": {
            "text/plain": [
              "['2619429679', '2619429667', '2619429657', '2619429645', '2619429633', '2619429621', '2619429609', '2619429597', '2619429585', '2619429573']"
            ]
          },
          "execution_count": 29,
          "metadata": {},
          "output_type": "execute_result"
        }
      ],
      "source": [
        "handle = Entrez.esearch(db=\"nucleotide\", retmax = 10, term=\"Severe acute respiratory syndrome\")\n",
        "record = Entrez.read(handle)\n",
        "record[\"IdList\"]"
      ]
    },
    {
      "cell_type": "code",
      "execution_count": null,
      "metadata": {
        "scrolled": true,
        "id": "WyUI0o5qwuSd",
        "outputId": "e0021bbc-a648-4019-d2e4-26b47a3cad64"
      },
      "outputs": [
        {
          "name": "stdout",
          "output_type": "stream",
          "text": [
            "LOCUS       OR792343               29749 bp    RNA     linear   VRL 09-NOV-2023\n",
            "DEFINITION  Severe acute respiratory syndrome coronavirus 2 isolate\n",
            "            SARS-CoV-2/human/USA/IL-RIPHL_21385_G/2023 ORF1ab polyprotein\n",
            "            (ORF1ab), ORF1a polyprotein (ORF1ab), surface glycoprotein (S),\n",
            "            ORF3a protein (ORF3a), envelope protein (E), membrane glycoprotein\n",
            "            (M), ORF6 protein (ORF6), ORF7a protein (ORF7a), and ORF7b (ORF7b)\n",
            "            genes, complete cds; ORF8 gene, complete sequence; and nucleocapsid\n",
            "            phosphoprotein (N) and ORF10 protein (ORF10) genes, complete cds.\n",
            "ACCESSION   OR792343\n",
            "VERSION     OR792343.1\n",
            "DBLINK      BioProject: PRJNA903175, PRJNA900277\n",
            "KEYWORDS    .\n",
            "SOURCE      Severe acute respiratory syndrome coronavirus 2 (SARS-CoV-2)\n",
            "  ORGANISM  Severe acute respiratory syndrome coronavirus 2\n",
            "            Viruses; Riboviria; Orthornavirae; Pisuviricota; Pisoniviricetes;\n",
            "            Nidovirales; Cornidovirineae; Coronaviridae; Orthocoronavirinae;\n",
            "            Betacoronavirus; Sarbecovirus; Severe acute respiratory\n",
            "            syndrome-related coronavirus.\n",
            "REFERENCE   1  (bases 1 to 29749)\n",
            "  AUTHORS   Green,S., Barbian,H., Kunstman,K., Bobrovska,S., Araujo-Perez,F.,\n",
            "            Perez,E., Chau,C., Balangue,G., Wu,A., Dominguez,M., Jeon,T. and\n",
            "            Boyd,L.\n",
            "  TITLE     Direct Submission\n",
            "  JOURNAL   Submitted (09-NOV-2023) Regional Innovative Public Health\n",
            "            Laboratory, Regional Innovative Public Health Laboratory, 1750 W.\n",
            "            Harrison St., Chicago, IL 60612, USA\n",
            "COMMENT     ##Assembly-Data-START##\n",
            "            Assembly Method       :: BWA v. 0.7.17-r1188; iVar v. 1.3.1\n",
            "            Sequencing Technology :: Illumina\n",
            "            ##Assembly-Data-END##\n",
            "FEATURES             Location/Qualifiers\n",
            "     source          1..29749\n",
            "                     /organism=\"Severe acute respiratory syndrome coronavirus\n",
            "                     2\"\n",
            "                     /mol_type=\"genomic RNA\"\n",
            "                     /isolate=\"SARS-CoV-2/human/USA/IL-RIPHL_21385_G/2023\"\n",
            "                     /isolation_source=\"nasopharyngeal swab\"\n",
            "                     /host=\"Homo sapiens\"\n",
            "                     /db_xref=\"taxon:2697049\"\n",
            "                     /country=\"USA: Illinois, Chicago\"\n",
            "                     /collection_date=\"2023-09-28\"\n",
            "     gene            235..21515\n",
            "                     /gene=\"ORF1ab\"\n",
            "     CDS             join(235..13428,13428..21515)\n",
            "                     /gene=\"ORF1ab\"\n",
            "                     /ribosomal_slippage\n",
            "                     /codon_start=1\n",
            "                     /product=\"ORF1ab polyprotein\"\n",
            "                     /protein_id=\"WPB14837.1\"\n",
            "                     /translation=\"MESLVPGFNEKTHVQLSLPVLQVRDVLVRGFGDSVEEVLSEARQ\n",
            "                     HLRDGTCGLVEVEKGVLPQLEQPYVFIKRSDARTAPHGHVMVELVAELEGIQYGRSGE\n",
            "                     TLGVLVPHVGEIPVAYRKVLLRKNGNKGAGGHRYGADLKSFDLGDELGTDPYEDFQEN\n",
            "                     WNTKHSSGVTRELMRELNGGAYTRYVDNNFCGPDGYPLECIKDLLARAGKASCTLSEQ\n",
            "                     LDFIDTKRGVYCCREHEHEIAWYTERSEKSYELQTPFEIKLAKKFDTFNGECPNFVFP\n",
            "                     LNSIIKTIQPGVEKKKLDGFMGRIRSVYPVASPNECNQMCLSTLMKCDHCGETSWQTG\n",
            "                     DFVKATCEFCGTENLTKEGATTCGYLPQNAVVKIYCPACHNSEVGPEHSLAEYHNESG\n",
            "                     LKTILRKGGRTIAFGGCVFSYVGCHNKCAYWVPRASANIGCNHTGVVGEGSEGLNDNL\n",
            "                     LEILQKEKVNINIVGDFKLNEEIAIILASFSASTSAFVETVKGLDYKAFKQIVESCGN\n",
            "                     FKVTKGKAKKGAWNIGEQKSILSPLYAFASEAARVVRSIFSRTLETAQNSVRVLQKAA\n",
            "                     ITILDGISQYSLRLIDAMMFTSDLATNNLVVMAYITGGVVQLTSQWLTNIFGTVYEKL\n",
            "                     KPVLDWLEAKFKEGVEFLRDGWEIVKFISTCACEIVGGQIVTCAKEIKESVQTFFKLV\n",
            "                     NKFLALCADSIIIGGAKLKALNLGETFVTHSKGLYRKCVKSREETGLLMPLKAPKEII\n",
            "                     FLEGETLPTEVLTEEVVLKTGDLQPLEQPTSEAVEAPLVGTPVCINGLMLLEIKDTEK\n",
            "                     YCALAPNMMVTNNTFTLKGGAPTKVTFGDDTVIEVQGYKSVNIIFELDERIDKVLNEK\n",
            "                     CSAYTVELGTEVNEFACVVADAVIKTLQPVSELLTPLGIDLDEWSMATYYLFDESGEF\n",
            "                     KLASHMYCSFYPPDEDEEEGDCEEEEFEPSTQYEYGTEDDYQGKPLEFGATSAALQPE\n",
            "                     EEQEEDWLDDDSQQTVGQQDGSEDNQTTTIQTIVEVQPQLEMELTPVVQTIEVNSFSG\n",
            "                     YLKLTDNVYIKNADIVEEAKKVKPTVVVNAANVYLKHGGGVAGALNKATNNAMQVESD\n",
            "                     DYIATNGPLKVGGSCVLSGHNLAKHCLHVVGPNVNKGEDIQLLKSAYENFNQHEVLLA\n",
            "                     PLLSAGIFGADPIHSLRVCVDTVRTNVYLAVFDKNLYDKLVSSFLEMKSEKQVEQKIA\n",
            "                     EIPKEEVKPFITESKPSVEQRKQDDKKIKACVEEVTTTLEETKFLTENLLLYIDINGN\n",
            "                     LHPDSATLVSDIDITFLKKDAPYIVGDVVQEGVLTAVVIPTKKASGTTEMLAKALRKV\n",
            "                     PTDNYITTYPGQGLNGYTVEEAKTVLKKCKSAFYILPSIISNEKQEILGTVSWNLREM\n",
            "                     LAHAEETRKLMPVCVETKAIVSTIQRKYKGIKIQEGVVDYGARFYFYTSKTTVASLIN\n",
            "                     TLNDLNETLVTMPLGYVTHGLNLEEAARYMRSLKVPATVSVSSPDAVTAYNGYLTSSS\n",
            "                     KTPEEHFIETISLAGSYKDWSYSGQSTQLGIEFLKRGDKSVYYTSNPTTFHLDGEVIT\n",
            "                     FDNLKTLLSLREVRTIKVFTTVDNINLHTQVVDMSMTYGQQFGPTYLDGADVTKIKPH\n",
            "                     NSHEGKTFYVLPNDDTLRVEAFEYYHTTDPSFLGRYMSALNHTKKWKYPQVNGLTSIK\n",
            "                     WADNNCYLATALLTLQQIELKFNPPALQDAYYRARAGEAANFCALILAYCNKTVGELG\n",
            "                     DVRETMSYLFQHANLDSCKRVLNVVCKTCGQQQTTLKGVEAVMYMGTLSYEQFKKGVQ\n",
            "                     IPCTCGKQATKYLVQQESPFVMMSAPPAQYELKHGTFTCASEYTGNYQCGHYKHITSK\n",
            "                     ETLYCIDGALLTKSSEYKGPITDVFYKENSYTTTIKPVTYKLDGVVCTEIDPKLDNYY\n",
            "                     KKDNSYFTEQPIDLVPNQPYPNASFDNFKFVCDNIKFADDLNQLTGYKKPASRELKVT\n",
            "                     FFPDLNGDVVAIDYKHYTPSFKKGAKLLHKPIVWHVNNATNKATYKPNTWCIRCLWST\n",
            "                     KPVETSNSFDVLKSEDAQGMDNLACEDLKPVSEEVVENPTIQKDVLECNVKTTEVVGD\n",
            "                     IILKPANNSLKITEEVGHTDLMAAYVDNSSLTIKKPNELSRVLGLKTLATHGLAAVNS\n",
            "                     VPWDTIANYAKPFLNKVVSTTTNIVTRCLNRVCTNYMPYFFTLLLQLCTFTRSTNSRI\n",
            "                     KASMPTTIAKNTVKSVGKFCLEASFNYLKSPNFSKLINIIIWFLLLSVCLGSLIYSTA\n",
            "                     ALGVLMSNLGMPSYCTGYREGYLNSTNVTIATYCTGSIPCSVCLSGLDSLDTYPSLET\n",
            "                     IQITISSFKWDLTAFGLVAEWFLAYILFTRFFYVLGLAAIMQLFFSYFAVHFISNSWL\n",
            "                     MWLIINLVQMAPISAMVRMYIFFASFYYVWKSYVHVVDGCNSSTCMMCYKRNRATRVE\n",
            "                     CTTIVNGVRRSFYVYANGGKGFCKLHNWNCVNCDTFCAGSTFISDEVARDLSLQFKRP\n",
            "                     INPTDQSSYIVDSVTVKNGSIHLYFDKAGQKTYERHSLSHFVNLDNLRANNTKGSLPI\n",
            "                     NVIVFDGKSKCEESSAKSASVYYSQLMCQPILLLDQALVSDVGDSAEVAVKMFDAYVN\n",
            "                     TFSSTFNVPMEKLKTLVATAEAELAKNVSLDNVLSTFISAARQGFVDSDVETKDVVEC\n",
            "                     LKLSHQSDIEVTGDSCNNYMLTYNKVENMTPRDLGACIDCSARHINAQVAKSHNIALI\n",
            "                     WNVKDFMSLSEQLRKQIRSAAKKNNLPFKLTCATTRQVVNVVTTKIALKGGKIVNNWL\n",
            "                     KQLIKVTLVFLFVAAIFYLITPVHVMSKHTDFSSEIIGYKAIDGGVTRDIASTDTCFA\n",
            "                     NKHADFDTWFSQRGGSYTNDKACPLIAAVITREVGFVVPGLPGTILRTTNGDFLHFLP\n",
            "                     RVFSAVGNICYTPSKLIEYTDFATSACVLAAECTIFKDASGKPVPYCYDTNVLEGSVA\n",
            "                     YESLRPDTRYVLMDGSIIQFPNTYLEGSVRVVTTFDSEYCRHGTCERSEAGVCVSTSG\n",
            "                     RWVLNNDYYRSLPGVFCGVDAVNLFTNMFTPLIQPIGALDISASIVAGGIVAIVVTCL\n",
            "                     AYYFMRFRRAFGEYSHVVAFNTLLFLMSFIVLCLTPVYSFLPGVYSVIYLYLTFYLTN\n",
            "                     DVSFLAHIQWMVMFTPLVPFWITIAYIICISTKHFYWFFSNYLKRRVVFNGVSFSTFE\n",
            "                     EAALCTFLLNKEMYLKLRSDVLLPFTQYNRYLALYNKYKYFSGAMDTTSYREAACCHL\n",
            "                     AKALNDFSNSGSDVLYQPPQISITSAVLQSGFRKMAFPSGKVEGCMVQVTCGTTTLNG\n",
            "                     LWLDDVVYCPRHVICTSEDMLNPNYEDLLIRKSNHNFLVQAGNVQLRVIGHSMQNCVL\n",
            "                     KLKVDTANPKTPKYKFVRIQPGQTFSVLACYNGSPSGVYQCAMRHNFTIKGSFLNGSC\n",
            "                     GSVGFNIDYDCVSFCYMHHMELPTGVHAGTDLEGNFYGPFVDRQTAQAAGTDTTITVN\n",
            "                     VLAWLYAAVINGDRWFLNRFTTTLNDFNLVAMKYNYEPLTQDHVDILGPLSAQTGIAV\n",
            "                     LDMCASLKELLQNGMNGRTILGSALLEDEFTPFDVVRQCSGVTFQSAVKRTIKGTHHW\n",
            "                     LLLTILTSLLVLVQSTQWSLFFFLYENAFLPFAMGIIAMSAFAMMFVKHKHAFLCLFL\n",
            "                     LPSLATVAYFNMVYMPASWVMRIMTWLDMVDTSLKLKDCVMYASAVVLLILMTARTVY\n",
            "                     DDGARRVWTLMNVLTLVYKVYYGNALDQAISMWALIISVTSNYSGVVTTVMFLARGIV\n",
            "                     FMCVEYCPIFFITGNTLQCIMLVYCFLGYFCTCYFGLFCLLNRYFRLTLGVYDYLVST\n",
            "                     QEFRYMNSQGLLPPKNSIDAFKLNIKLLGVGGKPCIKVATVQSKMSDVKCTSVVLLSV\n",
            "                     LQQLRVESSSKLWAQCVQLHNDILLAKDTTEAFEKMVSLLSVLLSMQGAVDINKLCEE\n",
            "                     MLDNRATLQAIASEFSSLPSYAAFATAQEAYEQAVANGDSEVVLKKLKKSLNVAKSEF\n",
            "                     DRDAAMQRKLEKMADQAMTQMYKQARSEDKRAKVTSAMQTMLFTMLRKLDNDALNNII\n",
            "                     NNARDGCVPLNIIPLTTASKLMVVIPDYNTYKNTCDGTTFTYASALWEIQQVVDADSK\n",
            "                     IVQLSEISMDNSPNLAWPLIVTALRANSAVKLQNNELSPVALRQMSCAAGTTQTACTD\n",
            "                     DNALAYYNTTKGGRFVLALLSDLQDLKWARFPKSDGTGTIYTELEPPCRFVTDTPKGP\n",
            "                     KVKYLYFIKGLNNLNRGMVLGSLAATVRLQAGNATEVPANSTVLSFCAFAVDAAKAYK\n",
            "                     DYLASGGQPITNCVKMLCTHTGTGQAITVTPEANMDQESFGGASCCLYCRCHIDHPNP\n",
            "                     KGFCDLKGKYVQIPTTCANDPVGFTLKNTVCTVCGMWKGYGCSCDQLREPMLQSADAQ\n",
            "                     SFLNRVCGVSAARLTPCGTGTSTDVVYRAFDIYNDKVAGFAKFLKTNCCRFQEKDEDD\n",
            "                     NLIDSYFVVKRHTFSNYQHEETIYNLLKDCPAVAKHDFFKFRIDGDMVPHISRQRLTK\n",
            "                     YTMADLVYALRSFDEGNCDTLKEILVTYNCCDDDYFNKKDWYDFVENPDILRVYANLG\n",
            "                     ERVRQALLKTVQFCDAMRNAGIVGVLTLDNQDLNGNWYDFGDFIQTTPGSGVPVVDSY\n",
            "                     YSLLMPILTLTRALTAESHVDTDLTKPYIKWDLLKYDFTEERLKLFDRYFKYWDQTYH\n",
            "                     PNCVNCLDDRCILHCANFNVLFSTVFPLTSFGPLVRKIFVDGVPFVVSTGYHFRELGV\n",
            "                     VHNQDVNLHSSRLSFKELLVYAADPAMHAASGNLLLDKRTTCFSVAALTNNVAFQTVK\n",
            "                     PGNFNKDFYDFAVSKGFFKEGSSVELKHFFFAQDGNAAISDYDYYRYNLPTMCDIRQL\n",
            "                     LFVVEVVDKYFDCYDGGCINANQVIVNNLDKSAGFPFNKWGKARLYYDSMSYEDQDAL\n",
            "                     FAYTKRNVIPTITQMNLKYAISAKNRARTVAGVSICSTMTNRQFHQKLLKSIAATRGA\n",
            "                     TVVIGTSKFYGGWHNMLKTVYSDVENPHLMGWDYPKCDRAMPNMLRIMASLVLARKHT\n",
            "                     TCCSLSHRFYRLANECAQVLSEMVMCGSSLYVKPGGTSSGDATTAYANSVFNICQAVT\n",
            "                     ANVNALLSTDGNKIADKYVRNLQHRLYECLYRNRDVDTDFVNEFYAYLRKHFSMMILS\n",
            "                     DDAVVCFNSTYASQGLVASIKNFKSVLYYQNNVFMSEAKCWTETDLTKGPHEFCSQHT\n",
            "                     MLVKQGDDYVYLPYPDPSRILGAGCFVDDIVKTDGTLMIERFVSLAIDAYPLTKHPNQ\n",
            "                     EYADVFHLYLQYIRKLHDELTGHMLDMYSVMLTNDNTSRYWEPEFYEAMYTPHTVLQA\n",
            "                     VGACVLCNSQTSLRCGACIRRPFLCCKCCYDHVIPTSHKLVLSVNPYVCNAPGCDVTD\n",
            "                     VTQLYLGGMSYYCKSHKPPISFPLCANGQVFGLYKNTCVGSDNVTDFNAIATCDWTNA\n",
            "                     GDYILANTCTERLKLFAAETLKATEETFKLSYGIATVREVLSDRELHLSWEVGKPRPP\n",
            "                     LNRNYVFTGYRVTKNSKVQIGEYTFEKGDYGGAVVYRGTTTYKLNVGDYFVLTSHTVM\n",
            "                     PLSAPTLVPQEHYVRITGLYPTLNISDEFSSNVANYQKVGMQKYSTLQGPPGTGKSHF\n",
            "                     AIGLALYYPSARIVYTACSHAAVDALCEKALKYLPIDKCSRIIPARARVECFDKFKVN\n",
            "                     STLEQYVFCTVNALPETTADIVVFDEISMATNYDLSVVNARLCAKHYVYIGDPAQLPA\n",
            "                     PRTLLTKGTLEPEYFNSVCRLMKTIGPDMFLGTCRRCPAEIVDTVSALVYDNKLKAHK\n",
            "                     DKSAQCFKMFYKGVITHDVSSAINRPQIGVVREFLTRNPAWRKAVFISPYNSQNAVAS\n",
            "                     KILGLPTQTVDSSQGSEYDYVIFTQTTETAHSCNVNRFNVAITRAKVGILCIMSDRDL\n",
            "                     YDKLQFTSLEIPRRNVATLQAENVTGLFKDCSKVITGLHPTQAPTHLSVDTKFKTEGL\n",
            "                     CVDVPGIPKDMTYRRLISMMGFKMNYQVNGYPNMFITREEAIRHVRAWIGFDVEGCHA\n",
            "                     TREAVGTNLPLQLGFSTGVNLVAVPTGYVDTPNNTDFSRVSAKPPPGDQFKHLIPLMY\n",
            "                     KGLPWNVVRIKIVQMLSDTLKNLSDRVVFVLWAHGFELTSMKYFVKIGPERTCCLCDR\n",
            "                     RATCFSTASDTYACWHHSIGFDYVYNPFMIDVQQWGFTGNLQSNHDLYCQVHGNAHVA\n",
            "                     SCDAIMTRCLAVHECFVKRVDWTIEYPIIGDELKINAACRKVQHMVVKAALLADKFPV\n",
            "                     LHDIGNPKAIKCVPQADVEWKFYDAQPCSDKAYKIEELFYSYATHSDKFTDGVCLFWN\n",
            "                     CNVDRYPANSIVCRFDTRVLSNLNLPGCDGGSLYVNKHAFHTPAFDKSAFVNLKQLPF\n",
            "                     FYYSDSPCESHGKQVVSDIDYVPLKSATCITRCNLGGAVCRHHANEYRLYLDAYNMMI\n",
            "                     SAGFSLWVYKQFDTYNLWNTFTRLQSLENVAFNVVNKGHFDGQQGEVPVSIINNTVYT\n",
            "                     KVDGVDVELFENKTTLPVNVAFELWAKRNIKPVPEVKILNNLGVDIAANTVIWDYKRD\n",
            "                     APAHISTIGVCSMTDIAKKPIETICAPLTVFFDGRVDGQVDLFRNARNGVLITEGSVK\n",
            "                     GLQPSVGPKQASLNGVTLIGEAVKTQFNYYKKVDGVVQQLPETYFTQSRNLQEFKPRS\n",
            "                     QMEIDFLELAMDEFIERYKLEGYAFEHIVYGDFSHSQLGGLHLLIGLAKRFKESPFEL\n",
            "                     EDFIPMDSTVKNYFITDAQTGSSKCVCSVIDLLLDDFVEIIKSQDLSVVSKVVKVTID\n",
            "                     YTEISFMLWCKDGHVETFYPKLQSSQAWQPGVAMPNLYKMQRMLLEKCDLQNYGDSAT\n",
            "                     LPKGIMMNVAKYTQLCQYLNTLTLAVPYNMRVIHFGAGSDKGVAPGTAVLRQWLPTGT\n",
            "                     LLVDSDLNDFVSDADSTLIGDCATVHTANKWDLIISDMYDPKTKNVTKENDSKEGFFT\n",
            "                     YICGFIQQKLALGGSVAIKITEHSWNADLYKLMGHFAWWTAFVTNVNASSSEAFLIGC\n",
            "                     NYLGKPREQIDGYVMHANYIFWRNTNPIQLSSYSLFDMSKFPLKLRGTAVMSLKEGQI\n",
            "                     NDMILSLLSKGRLIIRENNRVVISSDVLVNN\"\n",
            "     mat_peptide     235..774\n",
            "                     /gene=\"ORF1ab\"\n",
            "                     /product=\"leader protein\"\n",
            "     mat_peptide     775..2688\n",
            "                     /gene=\"ORF1ab\"\n",
            "                     /product=\"nsp2\"\n",
            "     mat_peptide     2689..8523\n",
            "                     /gene=\"ORF1ab\"\n",
            "                     /product=\"nsp3\"\n",
            "     mat_peptide     8524..10023\n",
            "                     /gene=\"ORF1ab\"\n",
            "                     /product=\"nsp4\"\n",
            "     mat_peptide     10024..10941\n",
            "                     /gene=\"ORF1ab\"\n",
            "                     /product=\"3C-like proteinase\"\n",
            "     mat_peptide     10942..11802\n",
            "                     /gene=\"ORF1ab\"\n",
            "                     /product=\"nsp6\"\n",
            "     mat_peptide     11803..12051\n",
            "                     /gene=\"ORF1ab\"\n",
            "                     /product=\"nsp7\"\n",
            "     mat_peptide     12052..12645\n",
            "                     /gene=\"ORF1ab\"\n",
            "                     /product=\"nsp8\"\n",
            "     mat_peptide     12646..12984\n",
            "                     /gene=\"ORF1ab\"\n",
            "                     /product=\"nsp9\"\n",
            "     mat_peptide     12985..13401\n",
            "                     /gene=\"ORF1ab\"\n",
            "                     /product=\"nsp10\"\n",
            "     mat_peptide     join(13402..13428,13428..16196)\n",
            "                     /gene=\"ORF1ab\"\n",
            "                     /product=\"RNA-dependent RNA polymerase\"\n",
            "     mat_peptide     16197..17999\n",
            "                     /gene=\"ORF1ab\"\n",
            "                     /product=\"helicase\"\n",
            "     mat_peptide     18000..19580\n",
            "                     /gene=\"ORF1ab\"\n",
            "                     /product=\"3'-to-5' exonuclease\"\n",
            "     mat_peptide     19581..20618\n",
            "                     /gene=\"ORF1ab\"\n",
            "                     /product=\"endoRNAse\"\n",
            "     mat_peptide     20619..21512\n",
            "                     /gene=\"ORF1ab\"\n",
            "                     /product=\"2'-O-ribose methyltransferase\"\n",
            "     CDS             235..13443\n",
            "                     /gene=\"ORF1ab\"\n",
            "                     /codon_start=1\n",
            "                     /product=\"ORF1a polyprotein\"\n",
            "                     /protein_id=\"WPB14838.1\"\n",
            "                     /translation=\"MESLVPGFNEKTHVQLSLPVLQVRDVLVRGFGDSVEEVLSEARQ\n",
            "                     HLRDGTCGLVEVEKGVLPQLEQPYVFIKRSDARTAPHGHVMVELVAELEGIQYGRSGE\n",
            "                     TLGVLVPHVGEIPVAYRKVLLRKNGNKGAGGHRYGADLKSFDLGDELGTDPYEDFQEN\n",
            "                     WNTKHSSGVTRELMRELNGGAYTRYVDNNFCGPDGYPLECIKDLLARAGKASCTLSEQ\n",
            "                     LDFIDTKRGVYCCREHEHEIAWYTERSEKSYELQTPFEIKLAKKFDTFNGECPNFVFP\n",
            "                     LNSIIKTIQPGVEKKKLDGFMGRIRSVYPVASPNECNQMCLSTLMKCDHCGETSWQTG\n",
            "                     DFVKATCEFCGTENLTKEGATTCGYLPQNAVVKIYCPACHNSEVGPEHSLAEYHNESG\n",
            "                     LKTILRKGGRTIAFGGCVFSYVGCHNKCAYWVPRASANIGCNHTGVVGEGSEGLNDNL\n",
            "                     LEILQKEKVNINIVGDFKLNEEIAIILASFSASTSAFVETVKGLDYKAFKQIVESCGN\n",
            "                     FKVTKGKAKKGAWNIGEQKSILSPLYAFASEAARVVRSIFSRTLETAQNSVRVLQKAA\n",
            "                     ITILDGISQYSLRLIDAMMFTSDLATNNLVVMAYITGGVVQLTSQWLTNIFGTVYEKL\n",
            "                     KPVLDWLEAKFKEGVEFLRDGWEIVKFISTCACEIVGGQIVTCAKEIKESVQTFFKLV\n",
            "                     NKFLALCADSIIIGGAKLKALNLGETFVTHSKGLYRKCVKSREETGLLMPLKAPKEII\n",
            "                     FLEGETLPTEVLTEEVVLKTGDLQPLEQPTSEAVEAPLVGTPVCINGLMLLEIKDTEK\n",
            "                     YCALAPNMMVTNNTFTLKGGAPTKVTFGDDTVIEVQGYKSVNIIFELDERIDKVLNEK\n",
            "                     CSAYTVELGTEVNEFACVVADAVIKTLQPVSELLTPLGIDLDEWSMATYYLFDESGEF\n",
            "                     KLASHMYCSFYPPDEDEEEGDCEEEEFEPSTQYEYGTEDDYQGKPLEFGATSAALQPE\n",
            "                     EEQEEDWLDDDSQQTVGQQDGSEDNQTTTIQTIVEVQPQLEMELTPVVQTIEVNSFSG\n",
            "                     YLKLTDNVYIKNADIVEEAKKVKPTVVVNAANVYLKHGGGVAGALNKATNNAMQVESD\n",
            "                     DYIATNGPLKVGGSCVLSGHNLAKHCLHVVGPNVNKGEDIQLLKSAYENFNQHEVLLA\n",
            "                     PLLSAGIFGADPIHSLRVCVDTVRTNVYLAVFDKNLYDKLVSSFLEMKSEKQVEQKIA\n",
            "                     EIPKEEVKPFITESKPSVEQRKQDDKKIKACVEEVTTTLEETKFLTENLLLYIDINGN\n",
            "                     LHPDSATLVSDIDITFLKKDAPYIVGDVVQEGVLTAVVIPTKKASGTTEMLAKALRKV\n",
            "                     PTDNYITTYPGQGLNGYTVEEAKTVLKKCKSAFYILPSIISNEKQEILGTVSWNLREM\n",
            "                     LAHAEETRKLMPVCVETKAIVSTIQRKYKGIKIQEGVVDYGARFYFYTSKTTVASLIN\n",
            "                     TLNDLNETLVTMPLGYVTHGLNLEEAARYMRSLKVPATVSVSSPDAVTAYNGYLTSSS\n",
            "                     KTPEEHFIETISLAGSYKDWSYSGQSTQLGIEFLKRGDKSVYYTSNPTTFHLDGEVIT\n",
            "                     FDNLKTLLSLREVRTIKVFTTVDNINLHTQVVDMSMTYGQQFGPTYLDGADVTKIKPH\n",
            "                     NSHEGKTFYVLPNDDTLRVEAFEYYHTTDPSFLGRYMSALNHTKKWKYPQVNGLTSIK\n",
            "                     WADNNCYLATALLTLQQIELKFNPPALQDAYYRARAGEAANFCALILAYCNKTVGELG\n",
            "                     DVRETMSYLFQHANLDSCKRVLNVVCKTCGQQQTTLKGVEAVMYMGTLSYEQFKKGVQ\n",
            "                     IPCTCGKQATKYLVQQESPFVMMSAPPAQYELKHGTFTCASEYTGNYQCGHYKHITSK\n",
            "                     ETLYCIDGALLTKSSEYKGPITDVFYKENSYTTTIKPVTYKLDGVVCTEIDPKLDNYY\n",
            "                     KKDNSYFTEQPIDLVPNQPYPNASFDNFKFVCDNIKFADDLNQLTGYKKPASRELKVT\n",
            "                     FFPDLNGDVVAIDYKHYTPSFKKGAKLLHKPIVWHVNNATNKATYKPNTWCIRCLWST\n",
            "                     KPVETSNSFDVLKSEDAQGMDNLACEDLKPVSEEVVENPTIQKDVLECNVKTTEVVGD\n",
            "                     IILKPANNSLKITEEVGHTDLMAAYVDNSSLTIKKPNELSRVLGLKTLATHGLAAVNS\n",
            "                     VPWDTIANYAKPFLNKVVSTTTNIVTRCLNRVCTNYMPYFFTLLLQLCTFTRSTNSRI\n",
            "                     KASMPTTIAKNTVKSVGKFCLEASFNYLKSPNFSKLINIIIWFLLLSVCLGSLIYSTA\n",
            "                     ALGVLMSNLGMPSYCTGYREGYLNSTNVTIATYCTGSIPCSVCLSGLDSLDTYPSLET\n",
            "                     IQITISSFKWDLTAFGLVAEWFLAYILFTRFFYVLGLAAIMQLFFSYFAVHFISNSWL\n",
            "                     MWLIINLVQMAPISAMVRMYIFFASFYYVWKSYVHVVDGCNSSTCMMCYKRNRATRVE\n",
            "                     CTTIVNGVRRSFYVYANGGKGFCKLHNWNCVNCDTFCAGSTFISDEVARDLSLQFKRP\n",
            "                     INPTDQSSYIVDSVTVKNGSIHLYFDKAGQKTYERHSLSHFVNLDNLRANNTKGSLPI\n",
            "                     NVIVFDGKSKCEESSAKSASVYYSQLMCQPILLLDQALVSDVGDSAEVAVKMFDAYVN\n",
            "                     TFSSTFNVPMEKLKTLVATAEAELAKNVSLDNVLSTFISAARQGFVDSDVETKDVVEC\n",
            "                     LKLSHQSDIEVTGDSCNNYMLTYNKVENMTPRDLGACIDCSARHINAQVAKSHNIALI\n",
            "                     WNVKDFMSLSEQLRKQIRSAAKKNNLPFKLTCATTRQVVNVVTTKIALKGGKIVNNWL\n",
            "                     KQLIKVTLVFLFVAAIFYLITPVHVMSKHTDFSSEIIGYKAIDGGVTRDIASTDTCFA\n",
            "                     NKHADFDTWFSQRGGSYTNDKACPLIAAVITREVGFVVPGLPGTILRTTNGDFLHFLP\n",
            "                     RVFSAVGNICYTPSKLIEYTDFATSACVLAAECTIFKDASGKPVPYCYDTNVLEGSVA\n",
            "                     YESLRPDTRYVLMDGSIIQFPNTYLEGSVRVVTTFDSEYCRHGTCERSEAGVCVSTSG\n",
            "                     RWVLNNDYYRSLPGVFCGVDAVNLFTNMFTPLIQPIGALDISASIVAGGIVAIVVTCL\n",
            "                     AYYFMRFRRAFGEYSHVVAFNTLLFLMSFIVLCLTPVYSFLPGVYSVIYLYLTFYLTN\n",
            "                     DVSFLAHIQWMVMFTPLVPFWITIAYIICISTKHFYWFFSNYLKRRVVFNGVSFSTFE\n",
            "                     EAALCTFLLNKEMYLKLRSDVLLPFTQYNRYLALYNKYKYFSGAMDTTSYREAACCHL\n",
            "                     AKALNDFSNSGSDVLYQPPQISITSAVLQSGFRKMAFPSGKVEGCMVQVTCGTTTLNG\n",
            "                     LWLDDVVYCPRHVICTSEDMLNPNYEDLLIRKSNHNFLVQAGNVQLRVIGHSMQNCVL\n",
            "                     KLKVDTANPKTPKYKFVRIQPGQTFSVLACYNGSPSGVYQCAMRHNFTIKGSFLNGSC\n",
            "                     GSVGFNIDYDCVSFCYMHHMELPTGVHAGTDLEGNFYGPFVDRQTAQAAGTDTTITVN\n",
            "                     VLAWLYAAVINGDRWFLNRFTTTLNDFNLVAMKYNYEPLTQDHVDILGPLSAQTGIAV\n",
            "                     LDMCASLKELLQNGMNGRTILGSALLEDEFTPFDVVRQCSGVTFQSAVKRTIKGTHHW\n",
            "                     LLLTILTSLLVLVQSTQWSLFFFLYENAFLPFAMGIIAMSAFAMMFVKHKHAFLCLFL\n",
            "                     LPSLATVAYFNMVYMPASWVMRIMTWLDMVDTSLKLKDCVMYASAVVLLILMTARTVY\n",
            "                     DDGARRVWTLMNVLTLVYKVYYGNALDQAISMWALIISVTSNYSGVVTTVMFLARGIV\n",
            "                     FMCVEYCPIFFITGNTLQCIMLVYCFLGYFCTCYFGLFCLLNRYFRLTLGVYDYLVST\n",
            "                     QEFRYMNSQGLLPPKNSIDAFKLNIKLLGVGGKPCIKVATVQSKMSDVKCTSVVLLSV\n",
            "                     LQQLRVESSSKLWAQCVQLHNDILLAKDTTEAFEKMVSLLSVLLSMQGAVDINKLCEE\n",
            "                     MLDNRATLQAIASEFSSLPSYAAFATAQEAYEQAVANGDSEVVLKKLKKSLNVAKSEF\n",
            "                     DRDAAMQRKLEKMADQAMTQMYKQARSEDKRAKVTSAMQTMLFTMLRKLDNDALNNII\n",
            "                     NNARDGCVPLNIIPLTTASKLMVVIPDYNTYKNTCDGTTFTYASALWEIQQVVDADSK\n",
            "                     IVQLSEISMDNSPNLAWPLIVTALRANSAVKLQNNELSPVALRQMSCAAGTTQTACTD\n",
            "                     DNALAYYNTTKGGRFVLALLSDLQDLKWARFPKSDGTGTIYTELEPPCRFVTDTPKGP\n",
            "                     KVKYLYFIKGLNNLNRGMVLGSLAATVRLQAGNATEVPANSTVLSFCAFAVDAAKAYK\n",
            "                     DYLASGGQPITNCVKMLCTHTGTGQAITVTPEANMDQESFGGASCCLYCRCHIDHPNP\n",
            "                     KGFCDLKGKYVQIPTTCANDPVGFTLKNTVCTVCGMWKGYGCSCDQLREPMLQSADAQ\n",
            "                     SFLNGFAV\"\n",
            "     mat_peptide     235..774\n",
            "                     /gene=\"ORF1ab\"\n",
            "                     /product=\"leader protein\"\n",
            "     mat_peptide     775..2688\n",
            "                     /gene=\"ORF1ab\"\n",
            "                     /product=\"nsp2\"\n",
            "     mat_peptide     2689..8523\n",
            "                     /gene=\"ORF1ab\"\n",
            "                     /product=\"nsp3\"\n",
            "     mat_peptide     8524..10023\n",
            "                     /gene=\"ORF1ab\"\n",
            "                     /product=\"nsp4\"\n",
            "     mat_peptide     10024..10941\n",
            "                     /gene=\"ORF1ab\"\n",
            "                     /product=\"3C-like proteinase\"\n",
            "     mat_peptide     10942..11802\n",
            "                     /gene=\"ORF1ab\"\n",
            "                     /product=\"nsp6\"\n",
            "     mat_peptide     11803..12051\n",
            "                     /gene=\"ORF1ab\"\n",
            "                     /product=\"nsp7\"\n",
            "     mat_peptide     12052..12645\n",
            "                     /gene=\"ORF1ab\"\n",
            "                     /product=\"nsp8\"\n",
            "     mat_peptide     12646..12984\n",
            "                     /gene=\"ORF1ab\"\n",
            "                     /product=\"nsp9\"\n",
            "     mat_peptide     12985..13401\n",
            "                     /gene=\"ORF1ab\"\n",
            "                     /product=\"nsp10\"\n",
            "     mat_peptide     13402..13440\n",
            "                     /gene=\"ORF1ab\"\n",
            "                     /product=\"nsp11\"\n",
            "     stem_loop       13436..13463\n",
            "                     /gene=\"ORF1ab\"\n",
            "                     /note=\"Coronavirus frameshifting stimulation element\n",
            "                     stem-loop 1\"\n",
            "     stem_loop       13448..13502\n",
            "                     /gene=\"ORF1ab\"\n",
            "                     /note=\"Coronavirus frameshifting stimulation element\n",
            "                     stem-loop 2\"\n",
            "     gene            21523..25332\n",
            "                     /gene=\"S\"\n",
            "     CDS             21523..25332\n",
            "                     /gene=\"S\"\n",
            "                     /codon_start=1\n",
            "                     /product=\"surface glycoprotein\"\n",
            "                     /protein_id=\"WPB14839.1\"\n",
            "                     /translation=\"MFVFLVLLPLVSSQCVNLITRTQSYTNSFTRGVYYPDKVFRSSV\n",
            "                     LHSTQDLFLPFFSNVTWFHAIHVSGTNGTKRFDNPALPFNDGVYFASTEKSNIIRGWI\n",
            "                     FGTTLDSKTQSLLIVNNATNVVIKVCEFQFCNDPFLDVYQKNNKSWMESEFRVYSSAN\n",
            "                     NCTFEYVSQPFLMDLEGKEGNFKNLREFVFKNIDGYFKIYSKHTPINLERDLPQGFSA\n",
            "                     LEPLVDLPIGINITRFQTLLALHRSYLTPVDSSSGWTAGAAAYYVGYLQPRTFLLKYN\n",
            "                     ENGTITDAVDCALDPLSETKCTLKSFTVEKGIYQTSNFRVQPTESIVRFPNITNLCPF\n",
            "                     HEVFNATTFASVYAWNRKRISNCVADYSVIYNFAPFFAFKCYGVSPTKLNDLCFTNVY\n",
            "                     ADSFVIRGNEVSQIAPGQTGNIADYNYKLPDDFTGCVIAWNSNKLDSKPSGNYNYLYR\n",
            "                     FLRKSKLKPFERDISTEIYQAGNKPCNGVAGPNCYSPLQSYGFRPTYGVGHQPYRVVV\n",
            "                     LSFELLHAPATVCGPKKSTNLVKNKCVNFNFNGLTGTGVLTESNKKFLPFQQFGRDIA\n",
            "                     DTIDAVRDPQTLEILDITPCSFGGVSVITPGTNTSNQVAVLYQGVNCTEVPVAIHADQ\n",
            "                     LTPTWRVYSTGSNVFQTRAGCLIGAEYVNNSYECDIPIGAGICASYQTQTKSHRRARS\n",
            "                     VASQSIIAYTMSLGAENLVAYSNNSIAIPTNFTISVTTEILPVSMTKTSVDCTMYICG\n",
            "                     DSTECSNLLLQYGSFCTQLKRALTGIAVEQDKNTQEVFAQVKQIYKTPPIKYFGGFNF\n",
            "                     SQILPDPSKPSKRSFIEDLLFNKVTLADAGFIKQYGDCLGDIAARDLICAQKFNGLTV\n",
            "                     LPPLLTDEMIAQYTSALLAGTITSGWTFGAGAALQIPFAMQMAYRFNGIGVTQNVLYE\n",
            "                     NQKLIANQFNSAIGKIQDSLSSTASALGKLQDVVNHNAQALNTLVKQLSSKFGAISSV\n",
            "                     LNDILSRLDKVEAEVQIDRLITGRLQSLQTYVTQQLIRAAEIRASANLAATKMSECVL\n",
            "                     GQSKRVDFCGKGYHLMSFPQSAPHGVVFLHVTYVPAQEKNFTTAPAICHDGKAHFPRE\n",
            "                     GVFVSNGTHWFVTQRNFYEPQIITTDNTFVSGNCDVVIGIVNNTVYDPLQPELDSFKE\n",
            "                     ELDKYFKNHTSPDVDLGDISGINASVVNIQKEIDRLNEVAKNLNESLIDLQELGKYEQ\n",
            "                     YIKWPWYIWLGFIAGLIAIVMVTIMLCCMTSCCSCLKGCCSCGSCCKFDEDDSEPVLK\n",
            "                     GVKLHYT\"\n",
            "     gene            25341..26168\n",
            "                     /gene=\"ORF3a\"\n",
            "     CDS             25341..26168\n",
            "                     /gene=\"ORF3a\"\n",
            "                     /codon_start=1\n",
            "                     /product=\"ORF3a protein\"\n",
            "                     /protein_id=\"WPB14840.1\"\n",
            "                     /translation=\"MDLFMRIFTIGTVTLKQGEIKDATPSDFVRATATIPIQASLPFG\n",
            "                     WLIVGVALLAVFQSASKIITLKKRWQLALSKGVHFVCNLLLLFVTVYSHLLLVAAGLE\n",
            "                     APFLYLYALVYFLQSINFVRIIMRLWLCWKCRSKNPLLYDANYFLCWHTNCYDYCIPY\n",
            "                     NSVTSSIVITSGDGTTSPISEHDYHIGGYTEKWESGVKDCVVLHSYFTSDYYQLYSTQ\n",
            "                     LSTDIGVEHVTFFIYNKIVDEPEEHVQIHTIDGSSGVVNPVMEPIYDEPTTTTSVPL\"\n",
            "     gene            26193..26420\n",
            "                     /gene=\"E\"\n",
            "     CDS             26193..26420\n",
            "                     /gene=\"E\"\n",
            "                     /codon_start=1\n",
            "                     /product=\"envelope protein\"\n",
            "                     /protein_id=\"WPB14841.1\"\n",
            "                     /translation=\"MYSFVSEEIGALIVNSVLLFLAFVVFLLVTLAILTALRLCAYCC\n",
            "                     NIVNVSLVKPSFYVYSRVKNLNSSRVPDLLV\"\n",
            "     gene            26471..27139\n",
            "                     /gene=\"M\"\n",
            "     CDS             26471..27139\n",
            "                     /gene=\"M\"\n",
            "                     /codon_start=1\n",
            "                     /product=\"membrane glycoprotein\"\n",
            "                     /protein_id=\"WPB14842.1\"\n",
            "                     /translation=\"MADSNGTITVEELKXXXXXXXXXXXXXXXXXXXLLQFAYANRNR\n",
            "                     FLYIIKLIFLWLLWPVTLTCFVLAAVYRINWITGGIAIAMACLVGLMWLSYFIASFRL\n",
            "                     FARTRSMWSFNPETNILLNVPLHGTILTRPLLESELVIGAVILRGHLRIAGHHLGRCD\n",
            "                     IKDLPKEITVATSRTLSYYKLGASQRVAGDSGFAAYSRYRIGNYKLNTDHSSSSDNIA\n",
            "                     LLVQ\"\n",
            "     gene            27150..27335\n",
            "                     /gene=\"ORF6\"\n",
            "     CDS             27150..27335\n",
            "                     /gene=\"ORF6\"\n",
            "                     /codon_start=1\n",
            "                     /product=\"ORF6 protein\"\n",
            "                     /protein_id=\"WPB14843.1\"\n",
            "                     /translation=\"MFHLVDFQVTIAEILLIIMRTFKVSIWNLDYIINLIIKNLSKSL\n",
            "                     TENKYSQLDEEQPMEIL\"\n",
            "     gene            27342..27707\n",
            "                     /gene=\"ORF7a\"\n",
            "     CDS             27342..27707\n",
            "                     /gene=\"ORF7a\"\n",
            "                     /codon_start=1\n",
            "                     /product=\"ORF7a protein\"\n",
            "                     /protein_id=\"WPB14844.1\"\n",
            "                     /translation=\"MKIILFLALITLATCELYHYQECVRGTTVLLKEPCSSGTYEGNS\n",
            "                     PFHPLADNKFALTCFSTQFAFACPDGVKHVYQLRARSVSPKLFIRQEEVQELYSPIFL\n",
            "                     IVAAIVFITLCFTLKRKTE\"\n",
            "     gene            27704..27835\n",
            "                     /gene=\"ORF7b\"\n",
            "     CDS             27704..27835\n",
            "                     /gene=\"ORF7b\"\n",
            "                     /codon_start=1\n",
            "                     /product=\"ORF7b\"\n",
            "                     /protein_id=\"WPB14845.1\"\n",
            "                     /translation=\"MIELSLIDFYLCFLAFLLFLVLIMLIIFWFSLELQDHNETCHA\"\n",
            "     gene            27842..28207\n",
            "                     /gene=\"ORF8\"\n",
            "     misc_feature    27842..28207\n",
            "                     /gene=\"ORF8\"\n",
            "                     /note=\"similar to ORF8 protein\"\n",
            "     gene            28222..29472\n",
            "                     /gene=\"N\"\n",
            "     CDS             28222..29472\n",
            "                     /gene=\"N\"\n",
            "                     /codon_start=1\n",
            "                     /product=\"nucleocapsid phosphoprotein\"\n",
            "                     /protein_id=\"WPB14846.1\"\n",
            "                     /translation=\"MSDNGPQNQRNALRITFGGPSDSTGSNQNGGARSKQRRPQGLPN\n",
            "                     NTASWFTALTQHGKEDLKFPRGQGVPINTNSSPDDQIGYYRRATRRIRGGDGKMKDLS\n",
            "                     PRWYFYYLGTGPEAGLPYGANKDGIIWVATEGALNTPKDHIGTRNPANNAAIVLQLPQ\n",
            "                     GTTLPKGFYAEGSRGGSQASSRSSSRSRNSSRNSTPGSSKRTSPARMAGNGGDAALAL\n",
            "                     LLLDRLNQLESKMSGKGQQQQGQTVTKKSAAEASKKPRQKRTATKAYNVTQAFGRRGP\n",
            "                     EQTQGNFGDQELIRQGTDYKHWPQIAQFAPSASAFFGMSRIGMEVTPSGTWLTYTGAI\n",
            "                     KLDDKDPNFKDQVILLNKHIDAYKTFPPTEPKKDKKKKADETQALPQRQKKQQTVTLL\n",
            "                     PAADLDDFSKQLQQSMSRADSTQA\"\n",
            "     gene            29497..29613\n",
            "                     /gene=\"ORF10\"\n",
            "     CDS             29497..29613\n",
            "                     /gene=\"ORF10\"\n",
            "                     /codon_start=1\n",
            "                     /product=\"ORF10 protein\"\n",
            "                     /protein_id=\"WPB14847.1\"\n",
            "                     /translation=\"MGYINVFAFPFTIYSLLLCRMNSRNYIAQVDVVNFNLT\"\n",
            "     stem_loop       29548..29583\n",
            "                     /gene=\"ORF10\"\n",
            "                     /note=\"Coronavirus 3' UTR pseudoknot stem-loop 1\"\n",
            "     stem_loop       29568..29596\n",
            "                     /gene=\"ORF10\"\n",
            "                     /note=\"Coronavirus 3' UTR pseudoknot stem-loop 2\"\n",
            "     stem_loop       29667..29681\n",
            "                     /note=\"Coronavirus 3' stem-loop II-like motif (s2m)\"\n",
            "ORIGIN      \n",
            "        1 ccaaccaact ttcgatctct tgtagatctg ttctctaaac gaactttaaa atctgtgtgg\n",
            "       61 ctgtcactcg gctgcatgct tagtgcactc acgcagtata attaataact aattactgtc\n",
            "      121 gttgacagga cacgagtaac tcgtctatct tctgcaggct gcttacggtt tcgtccgtgt\n",
            "      181 tgcagccgat catcagcaca tctaggtttt gtccgggtgt gaccgaaagg taagatggag\n",
            "      241 agccttgtcc ctggtttcaa cgagaaaaca cacgtccaac tcagtttgcc tgttttacag\n",
            "      301 gttcgcgacg tgctcgtacg tggctttgga gactccgtgg aggaggtctt atcagaggca\n",
            "      361 cgtcaacatc ttagagatgg cacttgtggc ttagtagaag ttgaaaaagg cgttttgcct\n",
            "      421 caacttgaac agccctatgt gttcatcaaa cgttcggatg ctcgaactgc acctcatggt\n",
            "      481 catgttatgg ttgagctggt agcagaactc gaaggcattc agtacggtcg tagtggtgag\n",
            "      541 acacttggtg tccttgtccc tcatgtgggc gaaataccag tggcttaccg caaggttctt\n",
            "      601 cttcgtaaga acggtaataa aggagctggt ggccataggt acggcgccga tctaaagtca\n",
            "      661 tttgacttag gcgacgagct tggcactgat ccttatgaag attttcaaga aaactggaac\n",
            "      721 actaaacata gcagtggtgt tacccgtgaa ctcatgcgtg agcttaacgg aggggcatac\n",
            "      781 actcgctatg tcgataacaa cttctgtggc cctgatggct accctcttga gtgcattaaa\n",
            "      841 gaccttctag cacgtgctgg taaagcttca tgcactttgt ccgaacaact ggactttatt\n",
            "      901 gacactaaga ggggtgtata ctgctgccgt gaacatgagc atgaaattgc ttggtacacg\n",
            "      961 gaacgttctg aaaagagcta tgaattgcag acaccttttg aaattaaatt ggcaaagaaa\n",
            "     1021 tttgacacct tcaatgggga atgtccaaat tttgtatttc ccttaaattc cataatcaag\n",
            "     1081 actattcaac caggggttga aaagaaaaag cttgatggct ttatgggtag aattcgatct\n",
            "     1141 gtctatccag ttgcgtcacc aaatgaatgc aaccaaatgt gcctttcaac tctcatgaag\n",
            "     1201 tgtgatcatt gtggtgaaac ttcatggcag acgggcgatt ttgttaaagc cacttgcgaa\n",
            "     1261 ttttgtggca ctgagaattt gactaaagaa ggtgccacta cttgtggtta cttaccccaa\n",
            "     1321 aatgctgttg ttaaaattta ttgtccagca tgtcacaatt cagaagtagg acctgagcat\n",
            "     1381 agtcttgccg aataccataa tgaatctggc ttgaaaacca ttcttcgtaa gggtggtcgc\n",
            "     1441 actattgcct ttggaggctg tgtgttctct tatgttggtt gccataacaa gtgtgcctat\n",
            "     1501 tgggttccac gtgctagcgc taacataggt tgtaaccata caggtgttgt tggagaaggt\n",
            "     1561 tccgaaggtc ttaatgacaa ccttcttgaa atactccaaa aagagaaagt caacatcaat\n",
            "     1621 attgttggtg actttaaact taatgaagag atcgccatta ttttggcatc tttttctgct\n",
            "     1681 tccacaagtg cttttgtgga aactgtgaaa ggtttggatt ataaagcatt caaacaaatt\n",
            "     1741 gttgaatcct gtggtaattt taaagttaca aaaggaaaag ctaaaaaagg tgcctggaat\n",
            "     1801 attggtgaac agaaatcaat actgagtcct ctttatgcat ttgcatcaga ggctgctcgt\n",
            "     1861 gttgtacgat caattttctc ccgcactctt gaaactgctc aaaattctgt gcgtgtttta\n",
            "     1921 cagaaggccg ctataacaat attagatgga atttcacagt attcactgag actcattgat\n",
            "     1981 gctatgatgt tcacatctga tttggctact aacaatctag ttgtaatggc ctacattaca\n",
            "     2041 ggtggtgttg ttcagttgac ttcgcagtgg ctaactaaca tctttggcac tgtttatgaa\n",
            "     2101 aaactcaaac ccgtccttga ttggcttgaa gcgaagttta aggaaggtgt agagtttctt\n",
            "     2161 agagacggtt gggaaattgt taaatttatc tcaacctgtg cttgtgaaat tgtcggtgga\n",
            "     2221 caaattgtca cctgtgcaaa ggaaattaag gagagtgttc agacattctt taagcttgta\n",
            "     2281 aataaatttt tggctttgtg tgctgactct atcattattg gtggagctaa acttaaagcc\n",
            "     2341 ttgaatttag gtgaaacatt tgtcacgcac tcaaagggat tgtacagaaa gtgtgttaaa\n",
            "     2401 tccagagaag aaactggcct actcatgcct ctaaaagccc caaaagaaat tatcttctta\n",
            "     2461 gagggagaaa cacttcccac agaagtgtta acagaggaag ttgtcttgaa aactggtgat\n",
            "     2521 ttacaaccat tagaacaacc tactagtgaa gctgttgaag ctccattggt tggtacacca\n",
            "     2581 gtttgtatta acgggcttat gttgctcgaa atcaaagaca cagaaaagta ctgtgccctt\n",
            "     2641 gcacctaata tgatggtaac aaacaatacc ttcacactca aaggcggtgc accaacaaag\n",
            "     2701 gttacttttg gtgatgacac tgtgatagaa gtgcaaggtt acaagagtgt gaatatcatt\n",
            "     2761 tttgaacttg atgaaaggat tgataaagta cttaatgaga agtgctctgc ctatacagtt\n",
            "     2821 gaactcggta cagaagtaaa tgagttcgcc tgtgttgtgg cagatgctgt cataaaaact\n",
            "     2881 ttgcaaccag tatctgaatt acttacacca ctgggcattg atttagatga gtggagtatg\n",
            "     2941 gctacatact acttatttga tgagtctggt gagtttaaat tggcttcaca tatgtattgt\n",
            "     3001 tctttttacc ctccagatga ggatgaagaa gaaggtgatt gtgaagaaga agagtttgag\n",
            "     3061 ccatcaactc aatatgagta tggtactgaa gatgattacc aaggtaaacc tttggaattt\n",
            "     3121 ggtgccactt ctgctgctct tcaacctgaa gaagagcaag aagaagattg gttagatgat\n",
            "     3181 gatagtcaac aaactgttgg tcaacaagac ggcagtgagg acaatcagac aactactatt\n",
            "     3241 caaacaattg ttgaggttca acctcaatta gagatggaac ttacaccagt tgttcagact\n",
            "     3301 attgaagtga atagttttag tggttattta aaacttactg acaatgtata cattaaaaat\n",
            "     3361 gcagacattg tggaagaagc taaaaaggta aaaccaacag tggttgttaa tgcagccaat\n",
            "     3421 gtttacctta aacatggagg aggtgttgca ggagccttaa ataaggctac taacaatgcc\n",
            "     3481 atgcaagttg aatctgatga ttacatagct actaatggac cacttaaagt gggtggtagt\n",
            "     3541 tgtgttttaa gcggacacaa tcttgctaaa cactgtcttc atgttgtcgg cccaaatgtt\n",
            "     3601 aacaaaggtg aagacattca acttcttaag agtgcttatg aaaattttaa tcagcacgaa\n",
            "     3661 gttctacttg caccattatt atcagctggt atttttggtg ctgaccctat acattcttta\n",
            "     3721 agagtttgtg tagatactgt tcgcacaaat gtctacttag ctgtctttga taaaaatctc\n",
            "     3781 tatgacaaac ttgtttcaag ctttttggaa atgaagagtg aaaagcaagt tgaacaaaag\n",
            "     3841 atcgctgaga ttcctaaaga ggaagttaag ccatttataa ctgaaagtaa accttcagtt\n",
            "     3901 gaacagagaa aacaagatga taagaaaatc aaagcttgtg ttgaagaagt tacaacaact\n",
            "     3961 ctggaagaaa ctaagttcct cacagaaaac ttgttacttt atattgacat taatggcaat\n",
            "     4021 cttcatccag attctgccac tcttgttagt gacattgaca tcactttctt aaagaaagat\n",
            "     4081 gctccatata tagtgggtga tgttgttcaa gagggtgttt taactgctgt ggttatacct\n",
            "     4141 actaaaaagg ctagtggcac tactgaaatg ctagcgaaag ctttgagaaa agtgccaaca\n",
            "     4201 gacaattata taaccactta cccgggtcag ggtttaaatg gttacactgt agaggaggca\n",
            "     4261 aagacagtgc ttaaaaagtg taaaagtgct ttttacattc taccatctat tatctctaat\n",
            "     4321 gagaagcaag aaattcttgg aactgtttct tggaatttgc gagaaatgct tgcacatgca\n",
            "     4381 gaagaaacac gcaaattaat gcctgtctgt gtggaaacta aagccatagt ttcaactata\n",
            "     4441 cagcgtaaat ataagggtat taaaatacaa gagggtgtgg ttgattatgg tgctagattt\n",
            "     4501 tacttttaca ccagtaaaac aactgtagcg tcacttatca acacacttaa cgatctaaat\n",
            "     4561 gaaactcttg ttacaatgcc acttggctat gtaacacatg gcttaaattt ggaagaagct\n",
            "     4621 gctcggtata tgagatctct caaagtgcca gctacagttt ctgtttcttc acctgatgct\n",
            "     4681 gttacagcgt ataatggtta tcttacttct tcttctaaaa cacctgaaga acattttatt\n",
            "     4741 gaaaccatct cacttgctgg ttcctataaa gattggtcct attctggaca atctacacaa\n",
            "     4801 ctaggtatag aatttcttaa gagaggtgat aaaagtgtat attacactag taatcctacc\n",
            "     4861 acattccacc tagatggtga agttatcacc tttgacaatc ttaagacact tctttctttg\n",
            "     4921 agagaagtga ggactattaa ggtgtttaca acagtagaca acattaacct ccacacgcaa\n",
            "     4981 gttgtggaca tgtcaatgac atatggacaa cagtttggtc caacttattt ggatggagct\n",
            "     5041 gatgttacta aaataaaacc tcataattca catgaaggta aaacatttta tgttttacct\n",
            "     5101 aatgatgaca ctctacgtgt tgaggctttt gagtactacc acacaactga tcctagtttt\n",
            "     5161 ctgggtaggt acatgtcagc attaaatcac actaaaaagt ggaaataccc acaagttaat\n",
            "     5221 ggtttaactt ctattaaatg ggcagataac aactgttatc ttgccactgc attgttaaca\n",
            "     5281 ctccaacaaa tagagttgaa gtttaatcca cctgctctac aagatgctta ttacagagca\n",
            "     5341 agggctggtg aagctgctaa cttttgtgca cttatcttag cctactgtaa taagacagta\n",
            "     5401 ggtgagttag gtgatgttag agaaacaatg agttacttgt ttcaacatgc caatttagat\n",
            "     5461 tcttgcaaaa gagtcttgaa cgtggtgtgt aaaacttgtg gacaacagca gacaaccctt\n",
            "     5521 aagggtgtag aagctgttat gtacatgggc acactttctt atgaacaatt taagaaaggt\n",
            "     5581 gttcagatac cttgtacgtg tggtaaacaa gctacaaaat atctagtaca acaggagtca\n",
            "     5641 ccttttgtta tgatgtcagc accacctgct cagtatgaac ttaagcatgg tacatttact\n",
            "     5701 tgtgctagtg agtacactgg taattaccag tgtggtcact ataaacatat aacttctaaa\n",
            "     5761 gaaactttgt attgcataga cggtgcttta cttacaaagt cctcagaata caaaggtcct\n",
            "     5821 attacggatg ttttctacaa agaaaacagt tacacaacaa ccataaaacc agttacttat\n",
            "     5881 aaattggatg gtgttgtttg tacagaaatt gaccctaagt tggacaatta ttataagaaa\n",
            "     5941 gacaattctt atttcacaga gcaaccaatt gatcttgtac caaaccaacc atatccaaac\n",
            "     6001 gcaagcttcg ataattttaa gtttgtatgt gataatatca aatttgctga tgatttaaac\n",
            "     6061 cagttaactg gttataagaa acctgcttca agagagctta aagttacatt tttccctgac\n",
            "     6121 ttaaatggtg atgtggtggc tattgattat aaacactaca caccctcttt taagaaagga\n",
            "     6181 gctaaattgt tacataaacc tattgtttgg catgttaaca atgcaactaa taaagccacg\n",
            "     6241 tataaaccaa atacctggtg tatacgttgt ctttggagca caaaaccagt tgaaacatca\n",
            "     6301 aattcgtttg atgtactgaa gtcagaggac gcgcagggaa tggataatct tgcctgcgaa\n",
            "     6361 gatctaaaac cagtctctga agaagtagtg gaaaatccta ccatacagaa agacgttctt\n",
            "     6421 gagtgtaatg tgaaaactac cgaagttgta ggagacatta tacttaaacc agcaaataat\n",
            "     6481 agtttaaaaa ttacagaaga ggttggccac acagatctaa tggctgctta tgtagacaat\n",
            "     6541 tctagtctta ctattaagaa acctaatgaa ttatctagag tattaggttt gaaaaccctt\n",
            "     6601 gctactcatg gtttagctgc tgttaatagt gtcccttggg atactatagc taattatgct\n",
            "     6661 aagccttttc ttaacaaagt tgttagtaca actactaaca tagttacacg gtgtttaaac\n",
            "     6721 cgtgtttgta ctaattatat gccttatttc tttactttat tgctacaatt gtgtactttt\n",
            "     6781 actagaagta caaattctag aattaaagca tctatgccga ctactatagc aaagaatact\n",
            "     6841 gttaagagtg tcggtaaatt ttgtctagag gcttcattta attatttgaa gtcacctaat\n",
            "     6901 ttttctaaac tgataaatat tataatttgg tttttactat taagtgtttg cctaggttct\n",
            "     6961 ttaatctact caaccgctgc tttaggtgtt ttaatgtcta atttaggcat gccttcttac\n",
            "     7021 tgtactggtt acagagaagg ctatttgaac tctactaatg tcactattgc aacctactgt\n",
            "     7081 actggttcta taccttgtag tgtttgtctt agtggtttag attctttaga cacctatcct\n",
            "     7141 tctttagaaa ctatacaaat taccatttca tcttttaaat gggatttaac tgcttttggc\n",
            "     7201 ttagttgcag agtggttttt ggcatatatt cttttcacta ggtttttcta tgtacttgga\n",
            "     7261 ttggctgcaa tcatgcaatt gtttttcagc tattttgcag tacattttat tagtaattct\n",
            "     7321 tggcttatgt ggttaataat taatcttgta caaatggccc cgatttcagc tatggttaga\n",
            "     7381 atgtacatct tctttgcatc attttattat gtatggaaaa gttatgtgca tgttgtagac\n",
            "     7441 ggttgtaatt catcaacttg tatgatgtgt tacaaacgta atagagcaac aagagtcgaa\n",
            "     7501 tgtacaacta ttgttaatgg tgttagaagg tctttttatg tctatgctaa tggaggtaaa\n",
            "     7561 ggcttttgca aactacacaa ttggaattgt gttaattgtg atacattctg tgctggtagt\n",
            "     7621 acatttatta gtgatgaagt tgcgagagac ttgtcactac agtttaaaag accaataaat\n",
            "     7681 cctactgacc agtcttctta catcgttgat agtgttacag tgaagaatgg ttccatccat\n",
            "     7741 ctttactttg ataaagctgg tcaaaagact tatgaaagac attctctctc tcattttgtt\n",
            "     7801 aacttagaca acctgagagc taataacact aaaggttcat tgcctattaa tgttatagtt\n",
            "     7861 tttgatggta aatcaaaatg tgaagaatca tctgcaaaat cagcgtctgt ttactacagt\n",
            "     7921 cagcttatgt gtcaacctat actgttacta gatcaggcat tagtgtctga tgttggtgat\n",
            "     7981 agtgcggaag ttgcagttaa aatgtttgat gcttacgtta atacgttttc atcaactttt\n",
            "     8041 aacgtaccaa tggaaaaact caaaacacta gttgcaactg cagaagctga acttgcaaag\n",
            "     8101 aatgtgtcct tagacaatgt cttatctact tttatttcag cagctcggca agggtttgtt\n",
            "     8161 gattcagatg tagaaactaa agatgttgtt gaatgtctta aattgtcaca tcaatctgac\n",
            "     8221 atagaagtta ctggcgatag ttgtaataac tatatgctca cctataacaa agttgaaaac\n",
            "     8281 atgacacccc gtgaccttgg tgcttgtatt gactgtagtg cgcgtcatat taatgcgcag\n",
            "     8341 gtagcaaaaa gtcacaacat tgctttgata tggaacgtta aagatttcat gtcattgtct\n",
            "     8401 gaacaactac gaaaacaaat acgtagtgct gctaaaaaga ataacttacc ttttaagttg\n",
            "     8461 acatgtgcaa ctactagaca agttgttaat gttgtaacaa caaagatagc acttaagggt\n",
            "     8521 ggtaaaattg ttaataattg gttgaagcag ttaattaaag ttacacttgt gttccttttt\n",
            "     8581 gttgctgcta ttttctattt aataacacct gttcatgtca tgtctaaaca tactgacttt\n",
            "     8641 tcaagtgaaa tcataggata caaggctatt gatggtggtg tcactcgtga catagcatct\n",
            "     8701 acagacactt gttttgctaa caaacatgct gattttgaca catggtttag ccagcgtggt\n",
            "     8761 ggtagttata ctaatgacaa agcttgccca ttgattgctg cagtcataac aagagaagtg\n",
            "     8821 ggttttgtcg tgcctggttt gcctggcacg atattacgca caactaatgg tgactttttg\n",
            "     8881 catttcttac ctagagtttt tagtgcagtt ggtaacatct gttacacacc atcaaaactt\n",
            "     8941 atagagtaca ctgactttgc aacatcagct tgtgttttgg ctgctgaatg tacaattttt\n",
            "     9001 aaagatgctt ctggtaagcc agtaccatat tgttatgata ccaatgtact agaaggttct\n",
            "     9061 gttgcttatg aaagtttacg ccctgacaca cgttatgtgc tcatggatgg ctctattatt\n",
            "     9121 caatttccta acacctacct tgaaggttct gttagagtgg taacaacttt tgattctgag\n",
            "     9181 tactgtagac acggcacttg tgaaagatca gaagctggtg tttgtgtatc tactagtggt\n",
            "     9241 agatgggtac ttaacaatga ttattacaga tctttaccag gagttttctg tggtgtagat\n",
            "     9301 gctgtaaatt tatttactaa tatgtttaca ccactaattc aacctattgg tgctttggac\n",
            "     9361 atatcagcat ctatagtagc tggtggtatt gtggctatcg tagtaacatg ccttgcctac\n",
            "     9421 tattttatga ggtttagaag agcttttggt gaatacagtc atgtagttgc ctttaatact\n",
            "     9481 ttactattcc ttatgtcatt cattgtactc tgtttaacac cagtttactc attcttacct\n",
            "     9541 ggtgtttatt ctgttattta cttgtacttg acattttatc ttactaatga tgtttctttt\n",
            "     9601 ttagcacata ttcagtggat ggttatgttc acacctttag tacctttctg gataacaatt\n",
            "     9661 gcttatatca tttgtatttc cacaaagcat ttctattggt tctttagtaa ttacctaaag\n",
            "     9721 agacgtgtag tctttaatgg tgtttccttt agtacttttg aagaagctgc gctgtgcacc\n",
            "     9781 tttttgttaa ataaagaaat gtatctaaag ttgcgtagtg atgtgctatt accttttacg\n",
            "     9841 caatataata gatacttagc tctttataat aagtacaagt attttagtgg agcaatggat\n",
            "     9901 acaactagct acagagaagc cgcttgttgt catctcgcaa aggctctcaa tgacttcagt\n",
            "     9961 aactcaggtt ctgatgttct ttaccaacca ccacaaatct ctatcacctc agctgttttg\n",
            "    10021 cagagtggtt ttagaaaaat ggcattccca tctggtaaag ttgagggttg tatggtacaa\n",
            "    10081 gtaacttgtg gtacaactac acttaacggt ctttggcttg atgacgtagt ttactgtcca\n",
            "    10141 agacatgtga tctgcacctc tgaagatatg cttaacccta attatgaaga tttactcatt\n",
            "    10201 cgtaagtcta atcataattt cttggtacag gctggtaatg ttcaactcag ggttattgga\n",
            "    10261 cattctatgc aaaattgtgt acttaagctt aaggttgata cagccaatcc taagacacct\n",
            "    10321 aagtataagt ttgttcgcat tcaaccagga cagacttttt cagtgttagc ttgttacaat\n",
            "    10381 ggttcaccat ctggtgttta ccaatgtgct atgagacaca atttcactat taagggttca\n",
            "    10441 ttccttaatg gttcatgtgg tagtgttggt tttaacatag attatgactg tgtctctttt\n",
            "    10501 tgttacatgc accatatgga attaccaact ggagttcatg ctggcacaga cttagaaggt\n",
            "    10561 aacttttatg gaccttttgt tgacaggcaa acagcacaag cagctggtac ggacacaact\n",
            "    10621 attacagtta atgttttagc ttggttgtac gctgctgtta taaatggaga caggtggttt\n",
            "    10681 ctcaatcgat ttaccacaac tcttaatgac tttaaccttg tggctatgaa gtacaattat\n",
            "    10741 gaacctctaa cacaagacca tgttgacata ctaggacctc tttctgctca aactggaatt\n",
            "    10801 gccgttttag atatgtgtgc ttcattaaaa gaattactgc aaaatggtat gaatggacgt\n",
            "    10861 accatattgg gtagtgcttt attagaagat gaatttacac cttttgatgt tgttagacaa\n",
            "    10921 tgctcaggtg ttactttcca aagtgcagtg aaaagaacaa tcaagggtac acaccactgg\n",
            "    10981 ttgttactca caattttgac ttcactttta gttttagtcc agagtactca atggtctttg\n",
            "    11041 ttcttttttt tgtatgaaaa tgccttttta ccttttgcta tgggtattat tgctatgtct\n",
            "    11101 gcttttgcaa tgatgtttgt caaacataag catgcatttc tctgtttgtt tttgttacct\n",
            "    11161 tctcttgcca ctgtagctta ttttaatatg gtctatatgc ctgctagttg ggtgatgcgt\n",
            "    11221 attatgacat ggttggatat ggttgatact agtttgaagc taaaagactg tgttatgtat\n",
            "    11281 gcatcagctg tagtgttact aatccttatg acagcaagaa ctgtgtatga tgatggtgct\n",
            "    11341 aggagagtgt ggacacttat gaatgtcttg acactcgttt ataaagttta ttatggtaat\n",
            "    11401 gctttagatc aagccatttc catgtgggct cttataatct ctgttacttc taactactca\n",
            "    11461 ggtgtagtta caactgtcat gtttttggcc agaggtattg tttttatgtg tgttgagtat\n",
            "    11521 tgccctattt tcttcataac tggtaataca cttcagtgta taatgctagt ttattgtttc\n",
            "    11581 ttaggctatt tttgtacttg ttactttggc ctcttttgtt tactcaaccg ctactttaga\n",
            "    11641 ctgactcttg gtgtttatga ttacttagtt tctacacagg agtttagata tatgaattca\n",
            "    11701 cagggactac tcccacccaa gaatagcata gatgccttca aactcaacat taaattgttg\n",
            "    11761 ggtgttggtg gcaaaccttg tatcaaagta gccactgtac agtctaaaat gtcagatgta\n",
            "    11821 aagtgcacat cagtagtctt actctcagtt ttgcaacaac tcagagtaga atcatcatct\n",
            "    11881 aaattgtggg ctcaatgtgt ccagttacac aatgacattc tcttagctaa agatactact\n",
            "    11941 gaagcctttg aaaaaatggt ttcactactt tctgttttgc tttccatgca gggtgctgta\n",
            "    12001 gacataaaca agctttgtga agaaatgctg gacaacaggg caaccttaca agctatagcc\n",
            "    12061 tcagagttta gttcccttcc atcatatgca gcttttgcta ctgctcaaga agcttatgag\n",
            "    12121 caggctgttg ctaatggtga ttctgaagtt gttcttaaaa agttgaagaa gtctttgaat\n",
            "    12181 gtggctaaat ctgaatttga ccgtgatgca gccatgcaac gtaagttgga aaagatggct\n",
            "    12241 gatcaagcta tgacccaaat gtataaacag gctagatctg aggacaagag ggcaaaagtt\n",
            "    12301 actagtgcta tgcagacaat gcttttcact atgcttagaa agttggataa tgatgcactc\n",
            "    12361 aacaacatta tcaacaatgc aagagatggt tgtgttccct tgaacataat acctcttaca\n",
            "    12421 acagcatcca aactaatggt tgtcatacca gactataaca catataaaaa tacgtgtgat\n",
            "    12481 ggtacaacat ttacttatgc atcagcattg tgggaaatcc aacaggttgt agatgcagat\n",
            "    12541 agtaaaattg ttcaacttag tgaaattagt atggacaatt cacctaattt agcatggcct\n",
            "    12601 cttattgtaa cagctttaag ggccaattct gctgtcaaat tacagaataa tgagcttagt\n",
            "    12661 cctgttgcac tacgacagat gtcttgtgct gccggtacta cacaaactgc ttgcactgat\n",
            "    12721 gacaatgcgt tagcttacta caacacaaca aagggaggta ggtttgtact tgcactgtta\n",
            "    12781 tccgatttac aggatttgaa atgggctaga ttccctaaga gtgatggaac tggtactatt\n",
            "    12841 tatacagaac tggaaccacc ttgtaggttt gttacagaca cacctaaagg tcctaaagtg\n",
            "    12901 aagtatttat actttattaa aggattaaac aacctaaata gaggtatggt acttggtagt\n",
            "    12961 ttagctgcca cagtacgtct acaagctggt aatgcaacag aagtgcctgc caattcaact\n",
            "    13021 gtattatctt tctgtgcttt tgctgtagat gctgctaaag cttacaaaga ttatctagct\n",
            "    13081 agtgggggac aaccaatcac taattgtgtt aagatgttgt gtacacacac tggtactggt\n",
            "    13141 caggcaataa cagttacacc ggaagccaat atggatcaag aatcctttgg tggtgcatcg\n",
            "    13201 tgttgtctgt actgccgttg ccacatagat catccaaatc ctaaaggatt ttgtgactta\n",
            "    13261 aaaggtaagt atgtacaaat acctacaact tgtgctaatg accctgtggg ttttacactt\n",
            "    13321 aaaaacacag tctgtaccgt ctgcggtatg tggaaaggtt atggctgtag ttgtgatcaa\n",
            "    13381 ctccgcgaac ccatgcttca gtcagctgat gcacaatcgt ttttaaacgg gtttgcggtg\n",
            "    13441 taagtgcagc ccgtcttaca ccgtgcggca caggcactag tactgatgtc gtatacaggg\n",
            "    13501 cttttgacat ctacaatgat aaagtagctg gttttgctaa attcctaaaa actaattgtt\n",
            "    13561 gtcgcttcca agaaaaggac gaagatgaca atttaattga ttcttacttt gtagttaaga\n",
            "    13621 gacacacttt ctctaactac caacatgaag aaacaattta taatttactt aaggattgtc\n",
            "    13681 cagctgttgc taaacatgac ttctttaagt ttagaataga cggtgacatg gtaccacata\n",
            "    13741 tatcacgtca acgtcttact aaatacacaa tggcagacct cgtctatgct ttaaggagtt\n",
            "    13801 ttgatgaagg taattgtgac acattaaaag aaatacttgt cacatacaat tgttgtgatg\n",
            "    13861 atgattattt caataaaaag gactggtatg attttgtaga aaacccagat atattacgcg\n",
            "    13921 tatacgccaa cttaggtgaa cgtgtacgcc aagctttgtt aaaaacagta caattctgtg\n",
            "    13981 atgccatgcg aaatgctggt attgttggtg tactgacatt agataatcaa gatctcaatg\n",
            "    14041 gtaactggta tgatttcggt gatttcatac aaaccacgcc aggtagtgga gttcctgttg\n",
            "    14101 tagattctta ttattcattg ttaatgccta tattaacctt gaccagggct ttaactgcag\n",
            "    14161 agtcacatgt tgacactgac ttaacaaagc cttacattaa gtgggatttg ttaaaatatg\n",
            "    14221 acttcacgga agagaggtta aaactctttg accgttattt taaatattgg gatcagacat\n",
            "    14281 accacccaaa ttgtgttaac tgtttggatg acagatgcat tctgcattgt gcaaacttta\n",
            "    14341 atgttttatt ctctacagtg ttcccactta caagttttgg accactagtg agaaaaatat\n",
            "    14401 ttgttgatgg tgttccattt gtagtttcaa ctggatacca cttcagagag ctaggtgttg\n",
            "    14461 tacataatca ggatgtaaac ttacatagct ctagacttag ttttaaggaa ttacttgtgt\n",
            "    14521 atgctgctga ccctgctatg cacgctgctt ctggtaatct attactagat aaacgcacta\n",
            "    14581 cgtgcttttc agtagctgca cttactaaca atgttgcttt tcaaactgtc aaacccggta\n",
            "    14641 attttaacaa agacttctat gactttgctg tgtctaaggg tttctttaag gaaggaagtt\n",
            "    14701 ctgttgaatt aaaacacttc ttctttgctc aggatggtaa tgctgctatc agcgattatg\n",
            "    14761 actactatcg ttataatcta ccaacaatgt gtgatatcag acaactacta tttgtagttg\n",
            "    14821 aagttgttga taagtacttt gattgttacg atggtggctg tattaatgct aaccaagtca\n",
            "    14881 tcgtcaacaa cctagacaaa tcagctggtt ttccatttaa taaatggggt aaggctagac\n",
            "    14941 tttattatga ttcaatgagt tatgaggatc aagatgcact tttcgcatat acaaaacgta\n",
            "    15001 atgtcatccc tactataact caaatgaatc ttaagtatgc cattagtgca aagaatagag\n",
            "    15061 ctcgcaccgt agctggtgtc tctatctgta gtactatgac caatagacag tttcatcaaa\n",
            "    15121 aattattgaa atcaatagcc gccactagag gagctactgt agtaattgga acaagcaaat\n",
            "    15181 tctatggtgg ttggcacaac atgttaaaaa ctgtttatag tgatgtagaa aaccctcacc\n",
            "    15241 ttatgggttg ggattatcct aaatgtgata gagccatgcc taacatgctt agaattatgg\n",
            "    15301 cctcacttgt tcttgctcgc aaacatacaa cgtgttgtag cttgtcacac cgtttctata\n",
            "    15361 gattagctaa tgagtgtgct caagtattga gtgaaatggt catgtgtggc agttcactat\n",
            "    15421 atgttaaacc aggtggaacc tcatcaggag atgccacaac tgcttatgct aatagtgttt\n",
            "    15481 ttaacatttg tcaagctgtc acggccaatg ttaatgcact tttatctact gatggtaaca\n",
            "    15541 aaattgccga taagtatgtc cgcaatttac aacacagact ttatgagtgt ctctatagaa\n",
            "    15601 atagagatgt tgacacagac tttgtgaatg agttttacgc atatttgcgt aaacatttct\n",
            "    15661 caatgatgat actttctgac gatgctgttg tgtgttttaa tagcacttat gcatctcaag\n",
            "    15721 gtctagtggc tagcataaag aactttaagt cagttcttta ttatcaaaac aatgttttta\n",
            "    15781 tgtctgaagc aaaatgttgg actgagactg accttactaa aggacctcat gaattttgct\n",
            "    15841 ctcaacatac aatgctagtt aaacagggtg atgattatgt gtaccttcct tacccagacc\n",
            "    15901 catcaagaat cctaggggcc ggctgttttg tagatgatat cgtaaaaaca gatggtacac\n",
            "    15961 ttatgattga acggttcgtg tctttagcta tagatgctta cccacttact aaacatccta\n",
            "    16021 atcaggagta tgctgatgtc tttcatttgt acttacaata cataagaaag ctacatgatg\n",
            "    16081 agttaacagg acacatgtta gacatgtatt ctgttatgct tactaatgat aacacttcaa\n",
            "    16141 ggtattggga acctgagttt tatgaggcta tgtacacacc gcatacagtc ttacaggctg\n",
            "    16201 ttggggcttg tgttctttgc aattcacaga cttcattaag atgtggtgct tgcatacgta\n",
            "    16261 gaccattctt atgttgtaaa tgctgttacg accatgtcat accaacatca cataaattag\n",
            "    16321 tcttgtctgt taatccgtat gtttgcaatg ctccaggttg tgatgtcaca gatgtgactc\n",
            "    16381 aactttactt aggaggtatg agctattatt gtaaatcaca taaaccaccc attagttttc\n",
            "    16441 cattgtgtgc taatggacaa gtttttggtt tatataaaaa tacatgtgtt ggtagcgata\n",
            "    16501 atgttactga ctttaatgca attgcaacat gtgactggac aaatgctggt gattacattt\n",
            "    16561 tagctaacac ctgtactgaa agactcaagc tttttgcagc agaaacgctc aaagctactg\n",
            "    16621 aggagacatt taaactgtct tatggtattg ctactgtacg tgaagtgctg tctgacagag\n",
            "    16681 aattacatct ttcatgggaa gttggtaaac ctagaccacc acttaaccga aattatgtct\n",
            "    16741 ttactggtta tcgtgtaact aaaaacagta aagtacaaat aggagagtac acctttgaaa\n",
            "    16801 aaggtgacta tggtggtgct gttgtttacc gaggtacaac aacttacaaa ttaaatgttg\n",
            "    16861 gtgattattt tgtgctgaca tcacatacag taatgccatt aagtgcacct acactagtgc\n",
            "    16921 cacaagagca ctatgttaga attactggct tatacccaac actcaatatc tcagatgagt\n",
            "    16981 tttctagcaa tgttgcaaat tatcaaaagg ttggtatgca aaagtattct acactccagg\n",
            "    17041 gaccacctgg tactggtaag agtcattttg ctattggcct agccctctac tacccttctg\n",
            "    17101 ctcgcatagt gtatacagct tgctctcatg ccgctgttga tgcactatgt gagaaggcat\n",
            "    17161 taaaatattt gcctatagat aaatgtagta gaattatacc tgcacgtgct cgtgtagagt\n",
            "    17221 gttttgataa attcaaagtg aattcaacat tagaacagta tgtcttttgt actgtaaatg\n",
            "    17281 cattgcctga gacgacagca gatatagttg tctttgatga aatttcaatg gccacaaatt\n",
            "    17341 atgatttgag tgttgtcaat gccagattat gtgctaagca ctatgtgtac attggcgacc\n",
            "    17401 ctgctcaatt acctgcacca cgcacattgc taactaaggg cacactagaa ccagaatatt\n",
            "    17461 tcaattcagt gtgtagactt atgaaaacta taggtccaga catgttcctc ggaacttgtc\n",
            "    17521 ggcgttgtcc tgctgaaatt gttgacactg tgagtgcttt ggtttatgat aataagctta\n",
            "    17581 aagcacataa agacaaatca gctcaatgct ttaaaatgtt ttataagggt gttatcacgc\n",
            "    17641 atgatgtttc atctgcaatt aacaggccac aaataggcgt ggtaagagaa ttccttacac\n",
            "    17701 gtaaccctgc ttggagaaaa gctgtcttta tttcacctta taattcacag aatgctgtag\n",
            "    17761 cctcaaagat tttgggacta ccaactcaaa ctgttgattc atcacagggc tcagaatacg\n",
            "    17821 actatgtcat attcactcaa accactgaaa cagctcactc ttgtaatgta aacagattta\n",
            "    17881 atgttgctat taccagagca aaagtaggca tactttgcat aatgtctgat agagaccttt\n",
            "    17941 atgacaagtt gcaatttaca agtcttgaaa ttccacgtag gaatgtggca actttacaag\n",
            "    18001 ctgaaaatgt aacaggactc tttaaagatt gtagtaaggt aatcactggg ttacatccta\n",
            "    18061 cacaggcacc tacacacctc agtgttgaca ctaaattcaa aactgaaggt ttatgtgttg\n",
            "    18121 acgtacctgg catacctaag gacatgacct atagaagact catctctatg atgggtttta\n",
            "    18181 aaatgaatta tcaagttaat ggttacccta acatgtttat cacccgcgaa gaagctataa\n",
            "    18241 gacatgtacg tgcatggatt ggcttcgatg tcgaggggtg tcatgctact agagaagctg\n",
            "    18301 ttggtaccaa tttaccttta cagctaggtt tttctacagg tgttaaccta gttgctgtac\n",
            "    18361 ctacaggtta tgttgataca cctaataata cagatttttc cagagttagt gctaaaccac\n",
            "    18421 cgcctggaga tcaatttaaa cacctcatac cacttatgta caaaggactt ccttggaatg\n",
            "    18481 tagtgcgtat aaagattgta caaatgttaa gtgacacact taaaaatctc tctgacagag\n",
            "    18541 tcgtatttgt cttatgggca catggctttg agttgacatc tatgaagtat tttgtgaaaa\n",
            "    18601 taggacctga gcgcacctgt tgtctatgtg atagacgtgc cacatgcttt tccactgctt\n",
            "    18661 cagacactta tgcctgttgg catcattcta ttggatttga ttacgtctat aatccgttta\n",
            "    18721 tgattgatgt tcaacaatgg ggttttacag gtaacctaca aagcaaccat gatctgtatt\n",
            "    18781 gtcaagtcca tggtaatgca catgtagcta gttgtgatgc aatcatgact aggtgtctag\n",
            "    18841 ctgtccacga gtgctttgtt aagcgtgttg actggactat tgaatatcct ataattggtg\n",
            "    18901 atgaactgaa gattaatgcg gcttgtagaa aggttcaaca catggttgtt aaagctgcat\n",
            "    18961 tattagcaga caaattccca gttcttcacg acattggtaa ccctaaagct attaagtgtg\n",
            "    19021 tacctcaagc tgatgtagaa tggaagttct atgatgcaca gccttgtagt gacaaagctt\n",
            "    19081 ataaaataga agaattattc tattcttatg ccacacattc tgacaaattc acagatggtg\n",
            "    19141 tatgcctatt ttggaattgc aatgtcgata gatatcctgc taattccatt gtttgtagat\n",
            "    19201 ttgacactag agtgctatct aaccttaact tgcctggttg tgatggtggc agtttgtatg\n",
            "    19261 taaataaaca tgcattccac acaccggctt ttgataaaag tgcttttgtt aatttaaaac\n",
            "    19321 aattaccatt tttctattac tctgacagtc catgtgagtc tcatggaaaa caagtagtgt\n",
            "    19381 cagatataga ttatgtacca ctaaagtctg ctacgtgtat aacacgttgc aatttaggtg\n",
            "    19441 gtgctgtctg tagacatcat gctaatgagt acagattgta tctcgatgct tataacatga\n",
            "    19501 tgatctcagc tggctttagc ttgtgggttt acaaacaatt tgatacttat aacctctgga\n",
            "    19561 acacttttac aagacttcag agtttagaaa atgtggcttt taatgttgta aataagggac\n",
            "    19621 actttgatgg acaacagggt gaagtaccag tttctatcat taataacact gtttacacaa\n",
            "    19681 aagttgatgg tgttgatgta gaattgtttg aaaataaaac aacattacct gttaatgtag\n",
            "    19741 catttgagct ttgggctaag cgcaacatta aaccagtacc agaggtgaaa atactcaata\n",
            "    19801 atttgggtgt ggacattgct gctaatactg tgatctggga ctacaaaaga gatgctccag\n",
            "    19861 cacatatatc tactattggt gtttgttcta tgactgacat agccaagaaa ccaattgaaa\n",
            "    19921 cgatttgtgc accactcact gtcttttttg atggtagagt tgatggtcaa gtagacttat\n",
            "    19981 ttagaaatgc ccgtaatggt gttcttatta cagagggtag tgttaaaggt ttacaaccat\n",
            "    20041 ctgtaggtcc caaacaagct agtcttaatg gagtcacatt aattggagaa gccgtaaaaa\n",
            "    20101 cacagttcaa ttattataag aaagttgatg gtgttgtcca acaattacct gaaacttact\n",
            "    20161 ttactcagag tagaaattta caagaattta aacccaggag tcaaatggaa attgatttct\n",
            "    20221 tagaattagc tatggatgaa ttcattgaac ggtataaatt agaaggctat gccttcgaac\n",
            "    20281 atatcgttta tggagatttt agtcatagtc agttaggtgg tttacatcta ctgattggac\n",
            "    20341 tagctaaacg ttttaaggaa tcaccttttg aattagaaga ttttattcct atggacagta\n",
            "    20401 cagttaaaaa ctatttcata acagatgcgc aaacaggttc atctaagtgt gtgtgttctg\n",
            "    20461 ttattgattt attacttgat gattttgttg aaataataaa atcccaagat ttatctgtag\n",
            "    20521 tttctaaggt tgtcaaagtg actattgact atacagaaat ttcatttatg ctttggtgta\n",
            "    20581 aagatggcca tgtagaaaca ttttacccaa aattacaatc tagtcaagcg tggcaaccgg\n",
            "    20641 gtgttgctat gcctaatctt tacaaaatgc aaagaatgct attagaaaag tgtgaccttc\n",
            "    20701 aaaattatgg tgatagtgca acattaccta aaggcataat gatgaatgtc gcaaaatata\n",
            "    20761 ctcaactgtg tcaatattta aacacattaa cattagctgt accctataat atgagagtta\n",
            "    20821 tacattttgg tgctggttct gataaaggag ttgcaccagg tacagctgtt ttaagacagt\n",
            "    20881 ggttgcctac gggtacgctg cttgtcgatt cagatcttaa tgactttgtc tctgatgcag\n",
            "    20941 attcaacttt gattggtgat tgtgcaactg tacatacagc taataaatgg gatctcatta\n",
            "    21001 ttagtgatat gtacgaccct aagactaaaa atgttacaaa agaaaatgac tctaaagagg\n",
            "    21061 gttttttcac ttacatttgt gggtttatac aacaaaagct agctcttgga ggttccgtgg\n",
            "    21121 ctataaagat aacagaacat tcttggaatg ctgatcttta taagctcatg ggacacttcg\n",
            "    21181 catggtggac agcctttgtt actaatgtga atgcgtcatc atctgaagca tttttaattg\n",
            "    21241 gatgtaatta tcttggcaaa ccacgcgaac aaatagatgg ttatgtcatg catgcaaatt\n",
            "    21301 acatattttg gaggaataca aatccaattc agttgtcttc ctattcttta tttgacatga\n",
            "    21361 gtaaatttcc ccttaaatta aggggtactg ctgttatgtc tttaaaagaa ggtcaaatca\n",
            "    21421 atgatatgat tttatctctt cttagtaaag gtagacttat aattagagaa aacaacagag\n",
            "    21481 ttgttatttc tagtgatgtt cttgttaaca actaaacgaa caatgtttgt ttttcttgtt\n",
            "    21541 ttattgccac tagtctctag tcagtgtgtt aatcttataa ccagaactca atcatacact\n",
            "    21601 aattctttca cacgtggtgt ttattaccct gacaaagttt tcagatcctc agttttacat\n",
            "    21661 tcaactcagg acttgttctt acctttcttt tccaatgtta cttggttcca tgctatacat\n",
            "    21721 gtctctggga ccaatggtac taagaggttt gataaccctg ccctaccatt taatgatggt\n",
            "    21781 gtttattttg cttccactga gaagtctaac ataataagag gctggatttt tggtactact\n",
            "    21841 ttagattcga agacccagtc cctacttatt gttaataacg ctactaatgt tgttattaaa\n",
            "    21901 gtctgtgaat ttcaattttg taatgatcca tttttggatg tttaccaaaa aaacaacaaa\n",
            "    21961 agttggatgg aaagtgagtt cagagtttat tctagtgcga ataattgcac ttttgaatat\n",
            "    22021 gtctctcagc cttttcttat ggaccttgaa ggaaaagagg gtaatttcaa aaatcttagg\n",
            "    22081 gaatttgtgt ttaagaatat tgatggttat tttaaaatat attctaagca cacgcctatt\n",
            "    22141 aatttagagc gtgatctccc tcagggtttt tcggctttag aaccattggt agatttgcca\n",
            "    22201 ataggtatta acatcactag gtttcaaact ttacttgctt tacatagaag ttatttgact\n",
            "    22261 cctgttgatt cttcttcagg ttggacagct ggtgctgcag cttattatgt gggttatctt\n",
            "    22321 caacctagga cttttctatt aaaatataat gaaaatggaa ccattacaga tgctgtagac\n",
            "    22381 tgtgcacttg accctctctc agaaacaaag tgtacgttga aatccttcac tgtagaaaaa\n",
            "    22441 ggaatctatc aaacttctaa ctttagagtc caaccaacag aatctattgt tagatttcct\n",
            "    22501 aatattacaa acttgtgccc ttttcatgaa gtttttaacg ccaccacatt tgcatctgtt\n",
            "    22561 tatgcttgga ataggaagag aatcagcaac tgtgttgctg attattctgt catatataat\n",
            "    22621 ttcgcaccat ttttcgcttt taagtgttat ggagtgtctc ctactaaatt aaatgatctc\n",
            "    22681 tgctttacta atgtctatgc agattcattt gtaattagag gtaatgaagt cagccaaatc\n",
            "    22741 gctccagggc aaactggaaa tattgctgat tataattata aattaccaga tgattttaca\n",
            "    22801 ggctgcgtta tagcttggaa ttctaacaag cttgattcta agcctagtgg taattataat\n",
            "    22861 tacctgtata gatttcttag gaagtctaag ctcaaacctt ttgagagaga tatttcaact\n",
            "    22921 gaaatctatc aggccggtaa caaaccttgt aatggtgttg caggtcctaa ttgttactct\n",
            "    22981 cctttacaat catatggttt ccgacccact tatggtgttg gtcaccaacc atacagagta\n",
            "    23041 gtagtacttt cttttgaact tctacatgca ccagcaactg tttgtggacc taaaaagtct\n",
            "    23101 actaatttgg ttaaaaacaa atgtgtcaat ttcaacttca atggtttaac aggcacaggt\n",
            "    23161 gttcttactg agtctaacaa aaagtttctg cctttccaac aatttggcag agacattgct\n",
            "    23221 gacactattg atgctgtccg tgatccacag acacttgaga ttcttgacat tacaccatgt\n",
            "    23281 tcttttggtg gtgtcagtgt tataacacca ggaacaaata cttctaacca ggttgctgtt\n",
            "    23341 ctttatcagg gtgttaactg cacagaagtc cctgttgcta ttcatgcaga tcaacttact\n",
            "    23401 cctacttggc gtgtttattc tacaggttct aatgtttttc aaacacgtgc aggctgttta\n",
            "    23461 ataggggctg aatatgtcaa caactcatat gagtgtgaca tacccattgg tgcaggtata\n",
            "    23521 tgcgctagtt atcagactca gactaagtct catcggcggg cacgtagtgt agctagtcaa\n",
            "    23581 tccatcattg cctacactat gtcacttggt gcagaaaatt tagttgctta ctctaataac\n",
            "    23641 tctattgcca tacccacaaa ttttactatt agtgttacca cagaaattct accagtgtct\n",
            "    23701 atgaccaaga catcagtaga ttgtacaatg tacatttgtg gtgattcaac tgaatgcagc\n",
            "    23761 aatcttttgt tgcaatatgg cagtttttgt acacaattaa aacgtgcttt aactggaata\n",
            "    23821 gctgttgaac aagacaaaaa cacccaagaa gtttttgcac aagtcaaaca aatttacaaa\n",
            "    23881 acaccaccaa ttaaatattt tggtggtttt aatttttcac aaatattacc agatccatca\n",
            "    23941 aaaccaagca agaggtcatt tattgaagat ctacttttca acaaagtgac acttgcagat\n",
            "    24001 gctggcttca tcaaacaata tggtgattgc cttggtgata ttgctgctag agacctcatt\n",
            "    24061 tgtgcacaaa agtttaacgg ccttactgtt ttgccacctt tgctcacaga tgaaatgatt\n",
            "    24121 gctcaataca cttctgcact gttagcgggt acaatcactt ctggttggac ctttggtgca\n",
            "    24181 ggtgctgcat tacaaatacc atttgctatg caaatggctt ataggtttaa tggtattgga\n",
            "    24241 gttacacaga atgttctcta tgagaaccaa aaattgattg ccaaccaatt taatagtgct\n",
            "    24301 attggcaaaa ttcaagactc actttcttcc acagcaagtg cacttggaaa acttcaagat\n",
            "    24361 gtggtcaacc ataatgcaca agctttaaac acgcttgtta aacaacttag ctccaaattt\n",
            "    24421 ggtgcaattt caagtgtttt aaatgatatc ctttcacgtc ttgacaaagt tgaggctgaa\n",
            "    24481 gtgcaaattg ataggttgat cacaggcaga cttcaaagtt tgcagacata tgtgactcaa\n",
            "    24541 caattaatta gagctgcaga aatcagagct tctgctaatc ttgctgctac taaaatgtca\n",
            "    24601 gagtgtgtac ttggacaatc aaaaagagtt gatttttgtg gaaagggcta tcatcttatg\n",
            "    24661 tccttccctc agtcagcacc tcatggtgta gtcttcttgc atgtgactta tgtccctgca\n",
            "    24721 caagaaaaga acttcacaac tgctcctgcc atttgtcatg atggaaaagc acactttcct\n",
            "    24781 cgtgaaggtg tctttgtttc aaatggcaca cactggtttg taacacaaag gaatttttat\n",
            "    24841 gaaccacaaa tcattactac agacaacaca tttgtgtctg gtaactgtga tgttgtaata\n",
            "    24901 ggaattgtca acaacacagt ttatgatcct ctgcaacctg aattagattc attcaaggag\n",
            "    24961 gagttagata aatattttaa gaatcataca tcaccagatg ttgatttagg tgacatctcc\n",
            "    25021 ggcattaatg cttcagttgt aaacattcaa aaagaaattg accgcctcaa tgaggttgcc\n",
            "    25081 aagaatttaa atgaatctct catcgatctc caagaacttg gaaagtatga gcagtatata\n",
            "    25141 aaatggccat ggtacatttg gctaggtttt atagctggct tgattgccat agtaatggtg\n",
            "    25201 acaattatgc tttgctgtat gaccagttgc tgtagttgtc tcaagggctg ttgttcttgt\n",
            "    25261 ggatcctgct gcaaatttga tgaagacgac tctgagccag tgctcaaagg agtcaaatta\n",
            "    25321 cattacacat aaacgaactt atggatttgt ttatgagaat ctttacaatt ggaactgtaa\n",
            "    25381 ctttgaagca aggtgaaatc aaggatgcta ctccttcaga ttttgttcgc gctactgcaa\n",
            "    25441 cgataccgat acaagcctca ctccctttcg gatggcttat tgttggcgtt gcacttcttg\n",
            "    25501 ctgtttttca gagcgcttcc aaaatcataa ctctcaaaaa gagatggcaa ctagcactct\n",
            "    25561 ccaagggtgt tcactttgtt tgcaacttgc tgttgttgtt tgtaacagtt tactcacacc\n",
            "    25621 ttttgctcgt tgctgctggc cttgaagccc cttttctcta tctttatgct ttagtctact\n",
            "    25681 tcttgcagag tataaacttt gtaagaataa taatgaggct ttggctttgc tggaaatgcc\n",
            "    25741 gttccaaaaa cccattactt tatgatgcca actattttct ttgctggcat actaattgtt\n",
            "    25801 acgactattg tataccttac aatagtgtaa cttcttcaat tgtcattact tcaggtgatg\n",
            "    25861 gcacaacaag tcctatttct gaacatgact accacattgg tggttatact gaaaaatggg\n",
            "    25921 aatctggagt aaaagactgt gttgtattac acagttactt cacttcagac tattaccagc\n",
            "    25981 tgtactcaac tcaattgagt acagacattg gtgttgaaca tgttaccttc ttcatctaca\n",
            "    26041 ataaaattgt tgatgagcct gaagaacatg tccaaattca cacaatcgac ggttcatccg\n",
            "    26101 gagttgttaa tccagtaatg gaaccaattt atgatgaacc gacaacgact actagcgtgc\n",
            "    26161 ctttgtaagc acaagctgat gagtacgaac ttatgtactc attcgtttcg gaagagatag\n",
            "    26221 gtgcgttaat agttaatagc gtacttcttt ttcttgcttt cgtggtattc ttgctagtta\n",
            "    26281 cactagccat ccttactgcg cttcgattgt gtgcgtactg ctgcaatatt gttaacgtga\n",
            "    26341 gtcttgtaaa accttctttt tacgtttact ctcgtgttaa aaatctgaat tcttctagag\n",
            "    26401 ttcctgatct tctggtctaa acgaactaaa tattatatta gtttttctgt ttggaacttt\n",
            "    26461 aattttagcc atggcagatt ccaacggtac tattaccgtt gaagagctta aaannnnnnn\n",
            "    26521 nnnnnnnnnn nnnnnnnnnn nnnnnnnnnn nnnnnnnnnn nnnnnnnnnc ttctacaatt\n",
            "    26581 tgcctatgcc aacaggaata ggtttttgta tataattaag ttaattttcc tctggctgtt\n",
            "    26641 atggccagta actttaactt gttttgtgct tgctgctgtt tacagaataa attggatcac\n",
            "    26701 cggtggaatt gctatcgcaa tggcttgtct tgtaggcttg atgtggctca gctacttcat\n",
            "    26761 tgcttctttc agactgtttg cgcgtacgcg ttccatgtgg tcatttaatc cagaaactaa\n",
            "    26821 cattcttctc aacgtgccac tccatggcac tattttgacc agaccgcttc tagaaagtga\n",
            "    26881 actcgtaatc ggagctgtga tccttcgtgg acatcttcgt attgctggac accatctagg\n",
            "    26941 acgctgtgac atcaaggacc tgcctaaaga aatcactgtt gctacatcac gaacgctttc\n",
            "    27001 ttattacaaa ttgggagctt cgcagcgtgt agcaggtgac tcaggttttg ctgcatacag\n",
            "    27061 tcgctacagg attggcaact ataaattaaa cacagaccat tccagtagca gtgacaatat\n",
            "    27121 tgctttgctt gtacagtaag tgacaacaga tgtttcatct cgttgacttt caggttacta\n",
            "    27181 tagcagagat attactaatt attatgcgga cttttaaagt ttccatttgg aatcttgatt\n",
            "    27241 acatcataaa cctcataatt aaaaatttat ctaagtcact aactgagaat aaatattctc\n",
            "    27301 aattagatga agagcaacca atggagattc tctaaacgaa catgaaaatt attcttttct\n",
            "    27361 tggcactgat aacactcgct acttgtgagc tttatcacta ccaagagtgt gttagaggta\n",
            "    27421 caacagtact tttaaaagaa ccttgctctt ctggaacata cgagggcaat tcaccatttc\n",
            "    27481 atcctctagc tgataacaaa tttgcactga cttgctttag cactcaattt gcttttgctt\n",
            "    27541 gtcctgacgg cgtaaaacac gtctatcagt tacgtgccag atcagtttca cctaaactgt\n",
            "    27601 tcatcagaca agaggaagtt caagaacttt actctccaat ttttcttatt gttgcggcaa\n",
            "    27661 tagtgtttat aacactttgc ttcacactta aaagaaagac agaatgattg aactttcatt\n",
            "    27721 aattgacttc tatttgtgct ttttagcctt tctgttattc cttgttttaa ttatgcttat\n",
            "    27781 tatcttttgg ttctcacttg aactgcaaga tcataatgaa acttgtcacg cctaaacgaa\n",
            "    27841 catgaaattt cttgttttct tatgaatcat cacaactgta gctgcatttc accaagaatg\n",
            "    27901 tagtttacag tcatgtactc aacatcaacc atatgtagtt gatgacccgt gtcctattca\n",
            "    27961 cttctattct aaatggtata ttagagtagg agctagaaaa tcagcacctt taattgaatt\n",
            "    28021 gtgcgtggat gaggctggtt ctaaatcacc cattcagtac atcgatatcg gtaattatac\n",
            "    28081 agtttcctgt ttacctttta caattaattg ccaggaacct aaattgggta gtcttgtagt\n",
            "    28141 gcgttgttcg ttctatgaag actttttaga gtatcatgac gttcgtgttg ttttagattt\n",
            "    28201 catctaaacg aacaaactta aatgtctgat aatggacccc aaaaccagcg aaatgcactc\n",
            "    28261 cgcattacgt ttggtggacc ctcagattca actggcagta accagaatgg tggggcgcga\n",
            "    28321 tcaaaacaac gtcggcccca aggtttaccc aataatactg cgtcttggtt caccgctctc\n",
            "    28381 actcaacatg gcaaggaaga ccttaaattc cctcgaggac aaggcgttcc aattaacacc\n",
            "    28441 aatagcagtc cagatgacca aattggctac taccgaagag ctaccagacg aattcgtggt\n",
            "    28501 ggtgacggta aaatgaaaga tctcagtcca agatggtatt tctactacct aggaactggg\n",
            "    28561 ccagaagctg gacttcccta tggtgctaac aaagatggca tcatatgggt tgcaactgag\n",
            "    28621 ggagccttga atacaccaaa agatcacatt ggcacccgca atcctgctaa caatgctgca\n",
            "    28681 atcgtgctac aacttcctca aggaacaaca ttgccaaaag gcttctacgc agaagggagc\n",
            "    28741 agaggcggca gtcaagcctc ttctcgttcc tcatcacgta gtcgcaacag ttcaagaaat\n",
            "    28801 tcaactccag gcagcagtaa acgaacttct cctgctagaa tggctggcaa tggcggtgat\n",
            "    28861 gctgctcttg ctttgctgct gcttgacaga ttgaaccagc ttgagagcaa aatgtctggt\n",
            "    28921 aaaggccaac aacaacaagg ccaaactgtc actaagaaat ctgctgctga ggcttctaag\n",
            "    28981 aagcctcggc aaaaacgtac tgccactaaa gcatacaatg taacacaagc tttcggcaga\n",
            "    29041 cgtggtccag aacaaaccca aggaaatttt ggggaccagg aactaatcag acaaggaact\n",
            "    29101 gattacaaac attggccgca aattgcacaa tttgccccca gcgcttcagc gttcttcgga\n",
            "    29161 atgtcgcgca ttggcatgga agtcacacct tcgggaacgt ggttgaccta cacaggtgcc\n",
            "    29221 atcaaattgg atgacaaaga tccaaatttc aaagatcaag tcattttgct gaataagcat\n",
            "    29281 attgacgcat acaaaacatt cccaccaaca gagcctaaaa aggacaaaaa gaagaaggct\n",
            "    29341 gatgaaactc aagccttacc gcagagacag aagaaacagc aaactgtgac tcttcttcct\n",
            "    29401 gctgcagatt tggatgattt ctccaaacaa ttgcaacaat ccatgagccg tgctgactca\n",
            "    29461 actcaggcct aaactcatgc agaccacaca aggcagatgg gctatataaa cgttttcgct\n",
            "    29521 tttccgttta cgatatatag tctactcttg tgcagaatga attctcgtaa ctacatagca\n",
            "    29581 caagtagatg tagttaactt taatctcaca tagcaatctt taatcagtgt gtaacattag\n",
            "    29641 ggaggacttg aaagagccac cacattttca cctacagtga acaatgctag ggagagctgc\n",
            "    29701 ctatatggaa gagccctaat gtgtaaaatt aattttagta gtgctatcc\n",
            "//\n",
            "\n",
            "\n"
          ]
        }
      ],
      "source": [
        "handle = Entrez.efetch(db=\"nucleotide\", id='2619429679', rettype=\"gb\", retmode=\"text\")\n",
        "print(handle.read())"
      ]
    },
    {
      "cell_type": "code",
      "execution_count": null,
      "metadata": {
        "id": "BgUZJGBvwuSd"
      },
      "outputs": [],
      "source": []
    },
    {
      "cell_type": "code",
      "execution_count": null,
      "metadata": {
        "id": "OHEJ0KCzwuSd"
      },
      "outputs": [],
      "source": [
        "handle = Entrez.esearch(db='nucleotide', term='accD[Gene Name] AND \"E. coli\"[Organism]', retmax=\"20\")\n",
        "result_list = Entrez.read(handle)"
      ]
    },
    {
      "cell_type": "code",
      "execution_count": null,
      "metadata": {
        "id": "iYm2j_aBwuSq",
        "outputId": "ec58ad9d-96b6-4c7d-c784-f05afaeb8b73"
      },
      "outputs": [
        {
          "name": "stdout",
          "output_type": "stream",
          "text": [
            "['2619358198', '2619358197', '2619358194', '2619358191', '2619358190', '2619358111', '2619358110', '2619358108', '2619358107', '2619358104', '2619357152', '2619357151', '2619357150', '2619357147', '2619357146', '2619354987', '2619354986', '2619354857', '2619354856', '2619354855']\n",
            "\n",
            "\n",
            "243675\n"
          ]
        }
      ],
      "source": [
        "id_list = result_list['IdList']\n",
        "count = result_list['Count']\n",
        "\n",
        "print(id_list)\n",
        "print(\"\\n\")\n",
        "print(count)"
      ]
    },
    {
      "cell_type": "code",
      "execution_count": null,
      "metadata": {
        "id": "be5ETfrTwuSr"
      },
      "outputs": [],
      "source": [
        "handle.close()"
      ]
    },
    {
      "cell_type": "markdown",
      "metadata": {
        "id": "MoLsMLPTwuSr"
      },
      "source": [
        "------------------------------------------------------"
      ]
    },
    {
      "cell_type": "markdown",
      "metadata": {
        "id": "0JTRPea2wuSr"
      },
      "source": [
        "# 3. PDB"
      ]
    },
    {
      "cell_type": "markdown",
      "metadata": {
        "id": "wFfm91kxwuSr"
      },
      "source": [
        "### Import Modules"
      ]
    },
    {
      "cell_type": "code",
      "execution_count": null,
      "metadata": {
        "id": "6XYY9aiZwuSr"
      },
      "outputs": [],
      "source": [
        "from Bio.PDB import PDBParser,PDBList"
      ]
    },
    {
      "cell_type": "code",
      "execution_count": null,
      "metadata": {
        "id": "mDNBvxPXwuSr",
        "outputId": "ab3db052-e502-42e5-925d-d8da91870585"
      },
      "outputs": [
        {
          "name": "stdout",
          "output_type": "stream",
          "text": [
            "Help on class PDBList in module Bio.PDB.PDBList:\n",
            "\n",
            "class PDBList(builtins.object)\n",
            " |  Quick access to the structure lists on the PDB or its mirrors.\n",
            " |  \n",
            " |  This class provides quick access to the structure lists on the\n",
            " |  PDB server or its mirrors. The structure lists contain\n",
            " |  four-letter PDB codes, indicating that structures are\n",
            " |  new, have been modified or are obsolete. The lists are released\n",
            " |  on a weekly basis.\n",
            " |  \n",
            " |  It also provides a function to retrieve PDB files from the server.\n",
            " |  To use it properly, prepare a directory /pdb or the like,\n",
            " |  where PDB files are stored.\n",
            " |  \n",
            " |  All available file formats (PDB, PDBx/mmCif, PDBML, mmtf) are supported.\n",
            " |  Please note that large structures (containing >62 chains\n",
            " |  and/or 99999 ATOM lines) are no longer stored as a single PDB file\n",
            " |  and by default (when PDB format selected) are not downloaded.\n",
            " |  \n",
            " |  Large structures can be downloaded in other formats, including PDBx/mmCif\n",
            " |  or as a .tar file (a collection of PDB-like formatted files for a given\n",
            " |  structure).\n",
            " |  \n",
            " |  If you want to use this module from inside a proxy, add\n",
            " |  the proxy variable to your environment, e.g. in Unix:\n",
            " |  export HTTP_PROXY='http://realproxy.charite.de:888'\n",
            " |  (This can also be added to ~/.bashrc)\n",
            " |  \n",
            " |  Methods defined here:\n",
            " |  \n",
            " |  __init__(self, server='ftp://ftp.wwpdb.org', pdb=None, obsolete_pdb=None, verbose=True)\n",
            " |      Initialize the class with the default server or a custom one.\n",
            " |      \n",
            " |      Argument pdb is the local path to use, defaulting to the current\n",
            " |      directory at the moment of initialisation.\n",
            " |  \n",
            " |  download_entire_pdb(self, listfile=None, file_format=None)\n",
            " |      Retrieve all PDB entries not present in the local PDB copy.\n",
            " |      \n",
            " |      :param listfile: filename to which all PDB codes will be written (optional)\n",
            " |      \n",
            " |      :param file_format:\n",
            " |          File format. Available options:\n",
            " |      \n",
            " |          * \"mmCif\" (default, PDBx/mmCif file),\n",
            " |          * \"pdb\" (format PDB),\n",
            " |          * \"xml\" (PMDML/XML format),\n",
            " |          * \"mmtf\" (highly compressed),\n",
            " |          * \"bundle\" (PDB formatted archive for large structure}\n",
            " |      \n",
            " |      NOTE. The default download format has changed from PDB to PDBx/mmCif\n",
            " |  \n",
            " |  download_obsolete_entries(self, listfile=None, file_format=None)\n",
            " |      Retrieve all obsolete PDB entries not present in local obsolete PDB copy.\n",
            " |      \n",
            " |      :param listfile: filename to which all PDB codes will be written (optional)\n",
            " |      \n",
            " |      :param file_format: file format. Available options:\n",
            " |          \"mmCif\" (default, PDBx/mmCif file),\n",
            " |          \"pdb\" (format PDB),\n",
            " |          \"xml\" (PMDML/XML format),\n",
            " |      \n",
            " |      NOTE. The default download format has changed from PDB to PDBx/mmCif\n",
            " |  \n",
            " |  download_pdb_files(self, pdb_codes, obsolete=False, pdir=None, file_format=None, overwrite=False)\n",
            " |      Fetch set of PDB structure files from the PDB server and stores them locally.\n",
            " |      \n",
            " |      The PDB structure's file name is returned as a single string.\n",
            " |      If obsolete ``==`` True, the files will be saved in a special file tree.\n",
            " |      \n",
            " |      :param pdb_codes: a list of 4-symbols structure Ids from PDB\n",
            " |      :type pdb_codes: list of strings\n",
            " |      \n",
            " |      :param file_format:\n",
            " |          File format. Available options:\n",
            " |      \n",
            " |          * \"mmCif\" (default, PDBx/mmCif file),\n",
            " |          * \"pdb\" (format PDB),\n",
            " |          * \"xml\" (PMDML/XML format),\n",
            " |          * \"mmtf\" (highly compressed),\n",
            " |          * \"bundle\" (PDB formatted archive for large structure}\n",
            " |      \n",
            " |      :param overwrite: if set to True, existing structure files will be overwritten. Default: False\n",
            " |      :type overwrite: bool\n",
            " |      \n",
            " |      :param obsolete:\n",
            " |          Has a meaning only for obsolete structures.\n",
            " |          If True, download the obsolete structure\n",
            " |          to 'obsolete' folder, otherwise download won't be performed.\n",
            " |          This option doesn't work for mmtf format as obsoleted structures are not availbe as mmtf.\n",
            " |          (default: False)\n",
            " |      \n",
            " |      :type obsolete: bool\n",
            " |      \n",
            " |      :param pdir: put the file in this directory (default: create a PDB-style directory tree)\n",
            " |      :type pdir: string\n",
            " |      \n",
            " |      :return: filenames\n",
            " |      :rtype: string\n",
            " |  \n",
            " |  get_all_entries(self)\n",
            " |      Retrieve the big file containing all the PDB entries and some annotation.\n",
            " |      \n",
            " |      Returns a list of PDB codes in the index file.\n",
            " |  \n",
            " |  get_all_obsolete(self)\n",
            " |      Return a list of all obsolete entries ever in the PDB.\n",
            " |      \n",
            " |      Returns a list of all obsolete pdb codes that have ever been\n",
            " |      in the PDB.\n",
            " |      \n",
            " |      Gets and parses the file from the PDB server in the format\n",
            " |      (the first pdb_code column is the one used). The file looks\n",
            " |      like this::\n",
            " |      \n",
            " |           LIST OF OBSOLETE COORDINATE ENTRIES AND SUCCESSORS\n",
            " |          OBSLTE    31-JUL-94 116L     216L\n",
            " |          ...\n",
            " |          OBSLTE    29-JAN-96 1HFT     2HFT\n",
            " |          OBSLTE    21-SEP-06 1HFV     2J5X\n",
            " |          OBSLTE    21-NOV-03 1HG6\n",
            " |          OBSLTE    18-JUL-84 1HHB     2HHB 3HHB\n",
            " |          OBSLTE    08-NOV-96 1HID     2HID\n",
            " |          OBSLTE    01-APR-97 1HIU     2HIU\n",
            " |          OBSLTE    14-JAN-04 1HKE     1UUZ\n",
            " |          ...\n",
            " |  \n",
            " |  get_recent_changes(self)\n",
            " |      Return three lists of the newest weekly files (added,mod,obsolete).\n",
            " |      \n",
            " |      Reads the directories with changed entries from the PDB server and\n",
            " |      returns a tuple of three URL's to the files of new, modified and\n",
            " |      obsolete entries from the most recent list. The directory with the\n",
            " |      largest numerical name is used.\n",
            " |      Returns None if something goes wrong.\n",
            " |      \n",
            " |      Contents of the data/status dir (20031013 would be used);:\n",
            " |      \n",
            " |          drwxrwxr-x   2 1002     sysadmin     512 Oct  6 18:28 20031006\n",
            " |          drwxrwxr-x   2 1002     sysadmin     512 Oct 14 02:14 20031013\n",
            " |          -rw-r--r--   1 1002     sysadmin    1327 Mar 12  2001 README\n",
            " |  \n",
            " |  get_seqres_file(self, savefile='pdb_seqres.txt')\n",
            " |      Retrieve and save a (big) file containing all the sequences of PDB entries.\n",
            " |  \n",
            " |  retrieve_pdb_file(self, pdb_code, obsolete=False, pdir=None, file_format=None, overwrite=False)\n",
            " |      Fetch PDB structure file from PDB server, and store it locally.\n",
            " |      \n",
            " |      The PDB structure's file name is returned as a single string.\n",
            " |      If obsolete ``==`` True, the file will be saved in a special file tree.\n",
            " |      \n",
            " |      NOTE. The default download format has changed from PDB to PDBx/mmCif\n",
            " |      \n",
            " |      :param pdb_code: 4-symbols structure Id from PDB (e.g. 3J92).\n",
            " |      :type pdb_code: string\n",
            " |      \n",
            " |      :param file_format:\n",
            " |          File format. Available options:\n",
            " |      \n",
            " |          * \"mmCif\" (default, PDBx/mmCif file),\n",
            " |          * \"pdb\" (format PDB),\n",
            " |          * \"xml\" (PDBML/XML format),\n",
            " |          * \"mmtf\" (highly compressed),\n",
            " |          * \"bundle\" (PDB formatted archive for large structure}\n",
            " |      \n",
            " |      :type file_format: string\n",
            " |      \n",
            " |      :param overwrite: if set to True, existing structure files will be overwritten. Default: False\n",
            " |      :type overwrite: bool\n",
            " |      \n",
            " |      :param obsolete:\n",
            " |          Has a meaning only for obsolete structures. If True, download the obsolete structure\n",
            " |          to 'obsolete' folder, otherwise download won't be performed.\n",
            " |          This option doesn't work for mmtf format as obsoleted structures aren't stored in mmtf.\n",
            " |          Also doesn't have meaning when parameter pdir is specified.\n",
            " |          Note: make sure that you are about to download the really obsolete structure.\n",
            " |          Trying to download non-obsolete structure into obsolete folder will not work\n",
            " |          and you face the \"structure doesn't exists\" error.\n",
            " |          Default: False\n",
            " |      \n",
            " |      :type obsolete: bool\n",
            " |      \n",
            " |      :param pdir: put the file in this directory (default: create a PDB-style directory tree)\n",
            " |      :type pdir: string\n",
            " |      \n",
            " |      :return: filename\n",
            " |      :rtype: string\n",
            " |  \n",
            " |  update_pdb(self, file_format=None)\n",
            " |      Update your local copy of the PDB files.\n",
            " |      \n",
            " |      I guess this is the 'most wanted' function from this module.\n",
            " |      It gets the weekly lists of new and modified pdb entries and\n",
            " |      automatically downloads the according PDB files.\n",
            " |      You can call this module as a weekly cron job.\n",
            " |  \n",
            " |  ----------------------------------------------------------------------\n",
            " |  Static methods defined here:\n",
            " |  \n",
            " |  get_status_list(url)\n",
            " |      Retrieve a list of pdb codes in the weekly pdb status file from given URL.\n",
            " |      \n",
            " |      Used by get_recent_changes. Typical contents of the list files parsed\n",
            " |      by this method is now very simply - one PDB name per line.\n",
            " |  \n",
            " |  ----------------------------------------------------------------------\n",
            " |  Data descriptors defined here:\n",
            " |  \n",
            " |  __dict__\n",
            " |      dictionary for instance variables (if defined)\n",
            " |  \n",
            " |  __weakref__\n",
            " |      list of weak references to the object (if defined)\n",
            " |  \n",
            " |  ----------------------------------------------------------------------\n",
            " |  Data and other attributes defined here:\n",
            " |  \n",
            " |  PDB_REF = '\\n    The Protein Data Bank: a computer-based arc... pp. 53...\n",
            "\n"
          ]
        }
      ],
      "source": [
        "help(PDBList)"
      ]
    },
    {
      "cell_type": "code",
      "execution_count": null,
      "metadata": {
        "id": "0TY6F4FswuSs",
        "outputId": "22014376-4f33-4808-d18d-256a48f71fc3"
      },
      "outputs": [
        {
          "name": "stdout",
          "output_type": "stream",
          "text": [
            "Downloading PDB structure '7BYR'...\n"
          ]
        },
        {
          "data": {
            "text/plain": [
              "'dir/pdb7byr.ent'"
            ]
          },
          "execution_count": 36,
          "metadata": {},
          "output_type": "execute_result"
        }
      ],
      "source": [
        "pdbl = PDBList()\n",
        "pdbl.retrieve_pdb_file(\"7BYR\", file_format=\"pdb\", pdir=\"dir\")"
      ]
    },
    {
      "cell_type": "code",
      "execution_count": null,
      "metadata": {
        "scrolled": true,
        "id": "fgmGELdowuSs",
        "outputId": "0148b1ff-6529-4264-9611-477c3c1e3f19"
      },
      "outputs": [
        {
          "name": "stderr",
          "output_type": "stream",
          "text": [
            "/home/rhyme/.local/lib/python3.6/site-packages/Bio/PDB/StructureBuilder.py:92: PDBConstructionWarning: WARNING: Chain A is discontinuous at line 26237.\n",
            "  PDBConstructionWarning,\n",
            "/home/rhyme/.local/lib/python3.6/site-packages/Bio/PDB/StructureBuilder.py:92: PDBConstructionWarning: WARNING: Chain B is discontinuous at line 26405.\n",
            "  PDBConstructionWarning,\n",
            "/home/rhyme/.local/lib/python3.6/site-packages/Bio/PDB/StructureBuilder.py:92: PDBConstructionWarning: WARNING: Chain C is discontinuous at line 26545.\n",
            "  PDBConstructionWarning,\n"
          ]
        }
      ],
      "source": [
        "parser = PDBParser()\n",
        "structure = parser.get_structure(\"7BYR\", \"dir/pdb7byr.ent\")"
      ]
    },
    {
      "cell_type": "code",
      "execution_count": null,
      "metadata": {
        "id": "2u-WjtEpwuSs",
        "outputId": "35237c65-211f-4764-ae6b-99e327ff7df9"
      },
      "outputs": [
        {
          "name": "stdout",
          "output_type": "stream",
          "text": [
            "chainid: A\n",
            "chainid: B\n",
            "chainid: C\n",
            "chainid: H\n",
            "chainid: L\n",
            "chainid: D\n",
            "chainid: E\n",
            "chainid: F\n",
            "chainid: G\n",
            "chainid: I\n",
            "chainid: J\n"
          ]
        }
      ],
      "source": [
        "for chain in structure[0]:\n",
        "    print(f\"chainid: {chain.id}\")"
      ]
    },
    {
      "cell_type": "code",
      "execution_count": null,
      "metadata": {
        "id": "tHMVG5zVwuSs",
        "outputId": "b5649865-45b4-43e3-c290-9ae741f66f6b"
      },
      "outputs": [
        {
          "data": {
            "text/plain": [
              "3.84"
            ]
          },
          "execution_count": 40,
          "metadata": {},
          "output_type": "execute_result"
        }
      ],
      "source": [
        "resolution = structure.header[\"resolution\"]\n",
        "resolution"
      ]
    },
    {
      "cell_type": "code",
      "execution_count": null,
      "metadata": {
        "id": "7g-fd7l5wuSs",
        "outputId": "498f1924-8628-4deb-f4cd-a6c784af7fc6"
      },
      "outputs": [
        {
          "data": {
            "text/plain": [
              "'sars-cov-2, antigen, rbd, neutralizing antibody, viral protein'"
            ]
          },
          "execution_count": 41,
          "metadata": {},
          "output_type": "execute_result"
        }
      ],
      "source": [
        "keywords = structure.header[\"keywords\"]\n",
        "keywords"
      ]
    },
    {
      "cell_type": "markdown",
      "metadata": {
        "id": "obfb2u6bwuSt"
      },
      "source": [
        "------------------------------------------------------"
      ]
    },
    {
      "cell_type": "markdown",
      "metadata": {
        "id": "WniRdWJwwuSt"
      },
      "source": [
        "# 4. EXPASY"
      ]
    },
    {
      "cell_type": "markdown",
      "metadata": {
        "id": "bZzYRFDYwuSt"
      },
      "source": [
        "## 4.1. PROSITE"
      ]
    },
    {
      "cell_type": "markdown",
      "metadata": {
        "id": "Vw0l6lUmwuSt"
      },
      "source": [
        "### Import Modules"
      ]
    },
    {
      "cell_type": "code",
      "execution_count": null,
      "metadata": {
        "id": "6_11PSQBwuSt"
      },
      "outputs": [],
      "source": [
        "from Bio import ExPASy\n",
        "from Bio.ExPASy import Prosite"
      ]
    },
    {
      "cell_type": "code",
      "execution_count": null,
      "metadata": {
        "id": "2PHVYwBKwuSu",
        "outputId": "ba08cba1-e42f-45c4-895d-f7b5f04ef59c"
      },
      "outputs": [
        {
          "name": "stdout",
          "output_type": "stream",
          "text": [
            "Help on module Bio.ExPASy.Prosite in Bio.ExPASy:\n",
            "\n",
            "NAME\n",
            "    Bio.ExPASy.Prosite - Parser for the prosite dat file from Prosite at ExPASy.\n",
            "\n",
            "DESCRIPTION\n",
            "    See https://www.expasy.org/prosite/\n",
            "    \n",
            "    Tested with:\n",
            "     - Release 20.43, 10-Feb-2009\n",
            "     - Release 2017_03 of 15-Mar-2017.\n",
            "    \n",
            "    Functions:\n",
            "     - read                  Reads a Prosite file containing one Prosite record\n",
            "     - parse                 Iterates over records in a Prosite file.\n",
            "    \n",
            "    Classes:\n",
            "     - Record                Holds Prosite data.\n",
            "\n",
            "CLASSES\n",
            "    builtins.object\n",
            "        Record\n",
            "    \n",
            "    class Record(builtins.object)\n",
            "     |  Holds information from a Prosite record.\n",
            "     |  \n",
            "     |  Main attributes:\n",
            "     |   - name           ID of the record.  e.g. ADH_ZINC\n",
            "     |   - type           Type of entry.  e.g. PATTERN, MATRIX, or RULE\n",
            "     |   - accession      e.g. PS00387\n",
            "     |   - created        Date the entry was created.  (MMM-YYYY for releases\n",
            "     |     before January 2017, DD-MMM-YYYY since January 2017)\n",
            "     |   - data_update    Date the 'primary' data was last updated.\n",
            "     |   - info_update    Date data other than 'primary' data was last updated.\n",
            "     |   - pdoc           ID of the PROSITE DOCumentation.\n",
            "     |   - description    Free-format description.\n",
            "     |   - pattern        The PROSITE pattern.  See docs.\n",
            "     |   - matrix         List of strings that describes a matrix entry.\n",
            "     |   - rules          List of rule definitions (from RU lines).  (strings)\n",
            "     |   - prorules       List of prorules (from PR lines). (strings)\n",
            "     |  \n",
            "     |  NUMERICAL RESULTS:\n",
            "     |   - nr_sp_release  SwissProt release.\n",
            "     |   - nr_sp_seqs     Number of seqs in that release of Swiss-Prot. (int)\n",
            "     |   - nr_total       Number of hits in Swiss-Prot.  tuple of (hits, seqs)\n",
            "     |   - nr_positive    True positives.  tuple of (hits, seqs)\n",
            "     |   - nr_unknown     Could be positives.  tuple of (hits, seqs)\n",
            "     |   - nr_false_pos   False positives.  tuple of (hits, seqs)\n",
            "     |   - nr_false_neg   False negatives.  (int)\n",
            "     |   - nr_partial     False negatives, because they are fragments. (int)\n",
            "     |  \n",
            "     |  COMMENTS:\n",
            "     |   - cc_taxo_range  Taxonomic range.  See docs for format\n",
            "     |   - cc_max_repeat  Maximum number of repetitions in a protein\n",
            "     |   - cc_site        Interesting site.  list of tuples (pattern pos, desc.)\n",
            "     |   - cc_skip_flag   Can this entry be ignored?\n",
            "     |   - cc_matrix_type\n",
            "     |   - cc_scaling_db\n",
            "     |   - cc_author\n",
            "     |   - cc_ft_key\n",
            "     |   - cc_ft_desc\n",
            "     |   - cc_version     version number (introduced in release 19.0)\n",
            "     |  \n",
            "     |  The following are all lists if tuples (swiss-prot accession, swiss-prot name).\n",
            "     |  \n",
            "     |  DATA BANK REFERENCES:\n",
            "     |   - dr_positive\n",
            "     |   - dr_false_neg\n",
            "     |   - dr_false_pos\n",
            "     |   - dr_potential   Potential hits, but fingerprint region not yet available.\n",
            "     |   - dr_unknown     Could possibly belong\n",
            "     |   - pdb_structs    List of PDB entries.\n",
            "     |  \n",
            "     |  Methods defined here:\n",
            "     |  \n",
            "     |  __init__(self)\n",
            "     |      Initialize the class.\n",
            "     |  \n",
            "     |  ----------------------------------------------------------------------\n",
            "     |  Data descriptors defined here:\n",
            "     |  \n",
            "     |  __dict__\n",
            "     |      dictionary for instance variables (if defined)\n",
            "     |  \n",
            "     |  __weakref__\n",
            "     |      list of weak references to the object (if defined)\n",
            "\n",
            "FUNCTIONS\n",
            "    parse(handle)\n",
            "        Parse Prosite records.\n",
            "        \n",
            "        This function is for parsing Prosite files containing multiple\n",
            "        records.\n",
            "        \n",
            "        Arguments:\n",
            "         - handle   - handle to the file.\n",
            "    \n",
            "    read(handle)\n",
            "        Read one Prosite record.\n",
            "        \n",
            "        This function is for parsing Prosite files containing\n",
            "        exactly one record.\n",
            "        \n",
            "        Arguments:\n",
            "         - handle   - handle to the file.\n",
            "\n",
            "FILE\n",
            "    /home/rhyme/.local/lib/python3.6/site-packages/Bio/ExPASy/Prosite.py\n",
            "\n",
            "\n"
          ]
        }
      ],
      "source": [
        "help(Prosite)"
      ]
    },
    {
      "cell_type": "code",
      "execution_count": null,
      "metadata": {
        "id": "4W0dN4WpwuSu"
      },
      "outputs": [],
      "source": [
        "handle = ExPASy.get_prosite_raw('PS51442')\n",
        "record = Prosite.read(handle)"
      ]
    },
    {
      "cell_type": "code",
      "execution_count": null,
      "metadata": {
        "scrolled": false,
        "id": "Wx96ri5ZwuSu",
        "outputId": "92b26130-12a2-414d-90dc-7beda3028cbb"
      },
      "outputs": [
        {
          "name": "stdout",
          "output_type": "stream",
          "text": [
            "Coronavirus main protease (M-pro) domain profile.\n"
          ]
        }
      ],
      "source": [
        "print(record.description)"
      ]
    },
    {
      "cell_type": "code",
      "execution_count": null,
      "metadata": {
        "id": "3AWNksC0wuSu",
        "outputId": "9ffca16b-159d-4511-8625-c86fe670cff2"
      },
      "outputs": [
        {
          "name": "stdout",
          "output_type": "stream",
          "text": [
            "['1LVO', '1P9S', '1P9U', '1Q2W', '1UJ1', '1UK2', '1UK3', '1UK4', '1WOF', '1Z1I']\n"
          ]
        }
      ],
      "source": [
        "print(record.pdb_structs[:10])"
      ]
    },
    {
      "cell_type": "code",
      "execution_count": null,
      "metadata": {
        "id": "AfwRA6QmwuSu",
        "outputId": "c03fe7fc-ced2-4303-8254-faf70be246b0"
      },
      "outputs": [
        {
          "name": "stdout",
          "output_type": "stream",
          "text": [
            "N-{P}-[ST]-{P}.\n"
          ]
        }
      ],
      "source": [
        "handle = ExPASy.get_prosite_raw('PS00001')\n",
        "record = Prosite.read(handle)\n",
        "print(record.pattern)"
      ]
    },
    {
      "cell_type": "code",
      "execution_count": null,
      "metadata": {
        "id": "NzKD9x7-wuSv"
      },
      "outputs": [],
      "source": [
        "handle.close()"
      ]
    },
    {
      "cell_type": "markdown",
      "metadata": {
        "id": "YEbVjT3hwuSv"
      },
      "source": [
        "## 4.2. ScanProsite"
      ]
    },
    {
      "cell_type": "markdown",
      "metadata": {
        "id": "SR5_CBCDwuSv"
      },
      "source": [
        "### Import Modules"
      ]
    },
    {
      "cell_type": "code",
      "execution_count": null,
      "metadata": {
        "id": "UVGz65c3wuSv"
      },
      "outputs": [],
      "source": [
        "from Bio.ExPASy import ScanProsite"
      ]
    },
    {
      "cell_type": "code",
      "execution_count": null,
      "metadata": {
        "id": "mfBJ836zwuSv",
        "outputId": "d9be0311-7f0c-4e40-986b-9eec1ac98363"
      },
      "outputs": [
        {
          "data": {
            "text/plain": [
              "258"
            ]
          },
          "execution_count": 49,
          "metadata": {},
          "output_type": "execute_result"
        }
      ],
      "source": [
        "prot_record = SeqIO.read(\"prot_seq.fasta\", format=\"fasta\")\n",
        "len(prot_record.seq)"
      ]
    },
    {
      "cell_type": "code",
      "execution_count": null,
      "metadata": {
        "id": "yBMIlUewwuSw",
        "outputId": "62517625-ce7d-4c47-8c95-72efa5079be3"
      },
      "outputs": [
        {
          "ename": "HTTPError",
          "evalue": "HTTP Error 308: Permanent Redirect",
          "output_type": "error",
          "traceback": [
            "\u001b[0;31m---------------------------------------------------------------------------\u001b[0m",
            "\u001b[0;31mHTTPError\u001b[0m                                 Traceback (most recent call last)",
            "\u001b[0;32m<ipython-input-52-8b263e207bef>\u001b[0m in \u001b[0;36m<module>\u001b[0;34m\u001b[0m\n\u001b[0;32m----> 1\u001b[0;31m \u001b[0mhandle\u001b[0m \u001b[0;34m=\u001b[0m \u001b[0mScanProsite\u001b[0m\u001b[0;34m.\u001b[0m\u001b[0mscan\u001b[0m\u001b[0;34m(\u001b[0m\u001b[0mseq\u001b[0m\u001b[0;34m=\u001b[0m\u001b[0mprot_record\u001b[0m\u001b[0;34m.\u001b[0m\u001b[0mseq\u001b[0m\u001b[0;34m,\u001b[0m \u001b[0mmirror\u001b[0m\u001b[0;34m=\u001b[0m\u001b[0;34m\"https://prosite.expasy.org/\"\u001b[0m\u001b[0;34m)\u001b[0m\u001b[0;34m\u001b[0m\u001b[0;34m\u001b[0m\u001b[0m\n\u001b[0m\u001b[1;32m      2\u001b[0m \u001b[0mresult\u001b[0m \u001b[0;34m=\u001b[0m \u001b[0mScanProsite\u001b[0m\u001b[0;34m.\u001b[0m\u001b[0mread\u001b[0m\u001b[0;34m(\u001b[0m\u001b[0mhandle\u001b[0m\u001b[0;34m)\u001b[0m\u001b[0;34m\u001b[0m\u001b[0;34m\u001b[0m\u001b[0m\n",
            "\u001b[0;32m~/.local/lib/python3.6/site-packages/Bio/ExPASy/ScanProsite.py\u001b[0m in \u001b[0;36mscan\u001b[0;34m(seq, mirror, output, **keywords)\u001b[0m\n\u001b[1;32m     57\u001b[0m     \u001b[0mcommand\u001b[0m \u001b[0;34m=\u001b[0m \u001b[0murlencode\u001b[0m\u001b[0;34m(\u001b[0m\u001b[0mparameters\u001b[0m\u001b[0;34m)\u001b[0m\u001b[0;34m\u001b[0m\u001b[0;34m\u001b[0m\u001b[0m\n\u001b[1;32m     58\u001b[0m     \u001b[0murl\u001b[0m \u001b[0;34m=\u001b[0m \u001b[0;34m\"%s/cgi-bin/prosite/PSScan.cgi?%s\"\u001b[0m \u001b[0;34m%\u001b[0m \u001b[0;34m(\u001b[0m\u001b[0mmirror\u001b[0m\u001b[0;34m,\u001b[0m \u001b[0mcommand\u001b[0m\u001b[0;34m)\u001b[0m\u001b[0;34m\u001b[0m\u001b[0;34m\u001b[0m\u001b[0m\n\u001b[0;32m---> 59\u001b[0;31m     \u001b[0mhandle\u001b[0m \u001b[0;34m=\u001b[0m \u001b[0murlopen\u001b[0m\u001b[0;34m(\u001b[0m\u001b[0murl\u001b[0m\u001b[0;34m)\u001b[0m\u001b[0;34m\u001b[0m\u001b[0;34m\u001b[0m\u001b[0m\n\u001b[0m\u001b[1;32m     60\u001b[0m     \u001b[0;32mreturn\u001b[0m \u001b[0mhandle\u001b[0m\u001b[0;34m\u001b[0m\u001b[0;34m\u001b[0m\u001b[0m\n\u001b[1;32m     61\u001b[0m \u001b[0;34m\u001b[0m\u001b[0m\n",
            "\u001b[0;32m/usr/lib/python3.6/urllib/request.py\u001b[0m in \u001b[0;36murlopen\u001b[0;34m(url, data, timeout, cafile, capath, cadefault, context)\u001b[0m\n\u001b[1;32m    221\u001b[0m     \u001b[0;32melse\u001b[0m\u001b[0;34m:\u001b[0m\u001b[0;34m\u001b[0m\u001b[0;34m\u001b[0m\u001b[0m\n\u001b[1;32m    222\u001b[0m         \u001b[0mopener\u001b[0m \u001b[0;34m=\u001b[0m \u001b[0m_opener\u001b[0m\u001b[0;34m\u001b[0m\u001b[0;34m\u001b[0m\u001b[0m\n\u001b[0;32m--> 223\u001b[0;31m     \u001b[0;32mreturn\u001b[0m \u001b[0mopener\u001b[0m\u001b[0;34m.\u001b[0m\u001b[0mopen\u001b[0m\u001b[0;34m(\u001b[0m\u001b[0murl\u001b[0m\u001b[0;34m,\u001b[0m \u001b[0mdata\u001b[0m\u001b[0;34m,\u001b[0m \u001b[0mtimeout\u001b[0m\u001b[0;34m)\u001b[0m\u001b[0;34m\u001b[0m\u001b[0;34m\u001b[0m\u001b[0m\n\u001b[0m\u001b[1;32m    224\u001b[0m \u001b[0;34m\u001b[0m\u001b[0m\n\u001b[1;32m    225\u001b[0m \u001b[0;32mdef\u001b[0m \u001b[0minstall_opener\u001b[0m\u001b[0;34m(\u001b[0m\u001b[0mopener\u001b[0m\u001b[0;34m)\u001b[0m\u001b[0;34m:\u001b[0m\u001b[0;34m\u001b[0m\u001b[0;34m\u001b[0m\u001b[0m\n",
            "\u001b[0;32m/usr/lib/python3.6/urllib/request.py\u001b[0m in \u001b[0;36mopen\u001b[0;34m(self, fullurl, data, timeout)\u001b[0m\n\u001b[1;32m    530\u001b[0m         \u001b[0;32mfor\u001b[0m \u001b[0mprocessor\u001b[0m \u001b[0;32min\u001b[0m \u001b[0mself\u001b[0m\u001b[0;34m.\u001b[0m\u001b[0mprocess_response\u001b[0m\u001b[0;34m.\u001b[0m\u001b[0mget\u001b[0m\u001b[0;34m(\u001b[0m\u001b[0mprotocol\u001b[0m\u001b[0;34m,\u001b[0m \u001b[0;34m[\u001b[0m\u001b[0;34m]\u001b[0m\u001b[0;34m)\u001b[0m\u001b[0;34m:\u001b[0m\u001b[0;34m\u001b[0m\u001b[0;34m\u001b[0m\u001b[0m\n\u001b[1;32m    531\u001b[0m             \u001b[0mmeth\u001b[0m \u001b[0;34m=\u001b[0m \u001b[0mgetattr\u001b[0m\u001b[0;34m(\u001b[0m\u001b[0mprocessor\u001b[0m\u001b[0;34m,\u001b[0m \u001b[0mmeth_name\u001b[0m\u001b[0;34m)\u001b[0m\u001b[0;34m\u001b[0m\u001b[0;34m\u001b[0m\u001b[0m\n\u001b[0;32m--> 532\u001b[0;31m             \u001b[0mresponse\u001b[0m \u001b[0;34m=\u001b[0m \u001b[0mmeth\u001b[0m\u001b[0;34m(\u001b[0m\u001b[0mreq\u001b[0m\u001b[0;34m,\u001b[0m \u001b[0mresponse\u001b[0m\u001b[0;34m)\u001b[0m\u001b[0;34m\u001b[0m\u001b[0;34m\u001b[0m\u001b[0m\n\u001b[0m\u001b[1;32m    533\u001b[0m \u001b[0;34m\u001b[0m\u001b[0m\n\u001b[1;32m    534\u001b[0m         \u001b[0;32mreturn\u001b[0m \u001b[0mresponse\u001b[0m\u001b[0;34m\u001b[0m\u001b[0;34m\u001b[0m\u001b[0m\n",
            "\u001b[0;32m/usr/lib/python3.6/urllib/request.py\u001b[0m in \u001b[0;36mhttp_response\u001b[0;34m(self, request, response)\u001b[0m\n\u001b[1;32m    640\u001b[0m         \u001b[0;32mif\u001b[0m \u001b[0;32mnot\u001b[0m \u001b[0;34m(\u001b[0m\u001b[0;36m200\u001b[0m \u001b[0;34m<=\u001b[0m \u001b[0mcode\u001b[0m \u001b[0;34m<\u001b[0m \u001b[0;36m300\u001b[0m\u001b[0;34m)\u001b[0m\u001b[0;34m:\u001b[0m\u001b[0;34m\u001b[0m\u001b[0;34m\u001b[0m\u001b[0m\n\u001b[1;32m    641\u001b[0m             response = self.parent.error(\n\u001b[0;32m--> 642\u001b[0;31m                 'http', request, response, code, msg, hdrs)\n\u001b[0m\u001b[1;32m    643\u001b[0m \u001b[0;34m\u001b[0m\u001b[0m\n\u001b[1;32m    644\u001b[0m         \u001b[0;32mreturn\u001b[0m \u001b[0mresponse\u001b[0m\u001b[0;34m\u001b[0m\u001b[0;34m\u001b[0m\u001b[0m\n",
            "\u001b[0;32m/usr/lib/python3.6/urllib/request.py\u001b[0m in \u001b[0;36merror\u001b[0;34m(self, proto, *args)\u001b[0m\n\u001b[1;32m    568\u001b[0m         \u001b[0;32mif\u001b[0m \u001b[0mhttp_err\u001b[0m\u001b[0;34m:\u001b[0m\u001b[0;34m\u001b[0m\u001b[0;34m\u001b[0m\u001b[0m\n\u001b[1;32m    569\u001b[0m             \u001b[0margs\u001b[0m \u001b[0;34m=\u001b[0m \u001b[0;34m(\u001b[0m\u001b[0mdict\u001b[0m\u001b[0;34m,\u001b[0m \u001b[0;34m'default'\u001b[0m\u001b[0;34m,\u001b[0m \u001b[0;34m'http_error_default'\u001b[0m\u001b[0;34m)\u001b[0m \u001b[0;34m+\u001b[0m \u001b[0morig_args\u001b[0m\u001b[0;34m\u001b[0m\u001b[0;34m\u001b[0m\u001b[0m\n\u001b[0;32m--> 570\u001b[0;31m             \u001b[0;32mreturn\u001b[0m \u001b[0mself\u001b[0m\u001b[0;34m.\u001b[0m\u001b[0m_call_chain\u001b[0m\u001b[0;34m(\u001b[0m\u001b[0;34m*\u001b[0m\u001b[0margs\u001b[0m\u001b[0;34m)\u001b[0m\u001b[0;34m\u001b[0m\u001b[0;34m\u001b[0m\u001b[0m\n\u001b[0m\u001b[1;32m    571\u001b[0m \u001b[0;34m\u001b[0m\u001b[0m\n\u001b[1;32m    572\u001b[0m \u001b[0;31m# XXX probably also want an abstract factory that knows when it makes\u001b[0m\u001b[0;34m\u001b[0m\u001b[0;34m\u001b[0m\u001b[0;34m\u001b[0m\u001b[0m\n",
            "\u001b[0;32m/usr/lib/python3.6/urllib/request.py\u001b[0m in \u001b[0;36m_call_chain\u001b[0;34m(self, chain, kind, meth_name, *args)\u001b[0m\n\u001b[1;32m    502\u001b[0m         \u001b[0;32mfor\u001b[0m \u001b[0mhandler\u001b[0m \u001b[0;32min\u001b[0m \u001b[0mhandlers\u001b[0m\u001b[0;34m:\u001b[0m\u001b[0;34m\u001b[0m\u001b[0;34m\u001b[0m\u001b[0m\n\u001b[1;32m    503\u001b[0m             \u001b[0mfunc\u001b[0m \u001b[0;34m=\u001b[0m \u001b[0mgetattr\u001b[0m\u001b[0;34m(\u001b[0m\u001b[0mhandler\u001b[0m\u001b[0;34m,\u001b[0m \u001b[0mmeth_name\u001b[0m\u001b[0;34m)\u001b[0m\u001b[0;34m\u001b[0m\u001b[0;34m\u001b[0m\u001b[0m\n\u001b[0;32m--> 504\u001b[0;31m             \u001b[0mresult\u001b[0m \u001b[0;34m=\u001b[0m \u001b[0mfunc\u001b[0m\u001b[0;34m(\u001b[0m\u001b[0;34m*\u001b[0m\u001b[0margs\u001b[0m\u001b[0;34m)\u001b[0m\u001b[0;34m\u001b[0m\u001b[0;34m\u001b[0m\u001b[0m\n\u001b[0m\u001b[1;32m    505\u001b[0m             \u001b[0;32mif\u001b[0m \u001b[0mresult\u001b[0m \u001b[0;32mis\u001b[0m \u001b[0;32mnot\u001b[0m \u001b[0;32mNone\u001b[0m\u001b[0;34m:\u001b[0m\u001b[0;34m\u001b[0m\u001b[0;34m\u001b[0m\u001b[0m\n\u001b[1;32m    506\u001b[0m                 \u001b[0;32mreturn\u001b[0m \u001b[0mresult\u001b[0m\u001b[0;34m\u001b[0m\u001b[0;34m\u001b[0m\u001b[0m\n",
            "\u001b[0;32m/usr/lib/python3.6/urllib/request.py\u001b[0m in \u001b[0;36mhttp_error_default\u001b[0;34m(self, req, fp, code, msg, hdrs)\u001b[0m\n\u001b[1;32m    648\u001b[0m \u001b[0;32mclass\u001b[0m \u001b[0mHTTPDefaultErrorHandler\u001b[0m\u001b[0;34m(\u001b[0m\u001b[0mBaseHandler\u001b[0m\u001b[0;34m)\u001b[0m\u001b[0;34m:\u001b[0m\u001b[0;34m\u001b[0m\u001b[0;34m\u001b[0m\u001b[0m\n\u001b[1;32m    649\u001b[0m     \u001b[0;32mdef\u001b[0m \u001b[0mhttp_error_default\u001b[0m\u001b[0;34m(\u001b[0m\u001b[0mself\u001b[0m\u001b[0;34m,\u001b[0m \u001b[0mreq\u001b[0m\u001b[0;34m,\u001b[0m \u001b[0mfp\u001b[0m\u001b[0;34m,\u001b[0m \u001b[0mcode\u001b[0m\u001b[0;34m,\u001b[0m \u001b[0mmsg\u001b[0m\u001b[0;34m,\u001b[0m \u001b[0mhdrs\u001b[0m\u001b[0;34m)\u001b[0m\u001b[0;34m:\u001b[0m\u001b[0;34m\u001b[0m\u001b[0;34m\u001b[0m\u001b[0m\n\u001b[0;32m--> 650\u001b[0;31m         \u001b[0;32mraise\u001b[0m \u001b[0mHTTPError\u001b[0m\u001b[0;34m(\u001b[0m\u001b[0mreq\u001b[0m\u001b[0;34m.\u001b[0m\u001b[0mfull_url\u001b[0m\u001b[0;34m,\u001b[0m \u001b[0mcode\u001b[0m\u001b[0;34m,\u001b[0m \u001b[0mmsg\u001b[0m\u001b[0;34m,\u001b[0m \u001b[0mhdrs\u001b[0m\u001b[0;34m,\u001b[0m \u001b[0mfp\u001b[0m\u001b[0;34m)\u001b[0m\u001b[0;34m\u001b[0m\u001b[0;34m\u001b[0m\u001b[0m\n\u001b[0m\u001b[1;32m    651\u001b[0m \u001b[0;34m\u001b[0m\u001b[0m\n\u001b[1;32m    652\u001b[0m \u001b[0;32mclass\u001b[0m \u001b[0mHTTPRedirectHandler\u001b[0m\u001b[0;34m(\u001b[0m\u001b[0mBaseHandler\u001b[0m\u001b[0;34m)\u001b[0m\u001b[0;34m:\u001b[0m\u001b[0;34m\u001b[0m\u001b[0;34m\u001b[0m\u001b[0m\n",
            "\u001b[0;31mHTTPError\u001b[0m: HTTP Error 308: Permanent Redirect"
          ]
        }
      ],
      "source": [
        "handle = ScanProsite.scan(seq=prot_record.seq, mirror=\"https://prosite.expasy.org/\")\n",
        "result = ScanProsite.read(handle)"
      ]
    },
    {
      "cell_type": "code",
      "execution_count": null,
      "metadata": {
        "id": "5fgij14-wuSw",
        "outputId": "2c456d57-4eb9-4162-b729-cf552e109bec"
      },
      "outputs": [
        {
          "ename": "NameError",
          "evalue": "name 'result' is not defined",
          "output_type": "error",
          "traceback": [
            "\u001b[0;31m---------------------------------------------------------------------------\u001b[0m",
            "\u001b[0;31mNameError\u001b[0m                                 Traceback (most recent call last)",
            "\u001b[0;32m<ipython-input-53-39948d895def>\u001b[0m in \u001b[0;36m<module>\u001b[0;34m\u001b[0m\n\u001b[0;32m----> 1\u001b[0;31m \u001b[0mresult\u001b[0m\u001b[0;34m.\u001b[0m\u001b[0mn_match\u001b[0m\u001b[0;34m\u001b[0m\u001b[0;34m\u001b[0m\u001b[0m\n\u001b[0m",
            "\u001b[0;31mNameError\u001b[0m: name 'result' is not defined"
          ]
        }
      ],
      "source": [
        "result.n_match"
      ]
    },
    {
      "cell_type": "code",
      "execution_count": null,
      "metadata": {
        "id": "7oFRs8gEwuSw",
        "outputId": "e08ad0e4-db32-4725-8e29-3aeabce3c410"
      },
      "outputs": [
        {
          "ename": "NameError",
          "evalue": "name 'result' is not defined",
          "output_type": "error",
          "traceback": [
            "\u001b[0;31m---------------------------------------------------------------------------\u001b[0m",
            "\u001b[0;31mNameError\u001b[0m                                 Traceback (most recent call last)",
            "\u001b[0;32m<ipython-input-54-2c43f6f8ed53>\u001b[0m in \u001b[0;36m<module>\u001b[0;34m\u001b[0m\n\u001b[0;32m----> 1\u001b[0;31m \u001b[0mresult\u001b[0m\u001b[0;34m[\u001b[0m\u001b[0;36m0\u001b[0m\u001b[0;34m]\u001b[0m\u001b[0;34m\u001b[0m\u001b[0;34m\u001b[0m\u001b[0m\n\u001b[0m",
            "\u001b[0;31mNameError\u001b[0m: name 'result' is not defined"
          ]
        }
      ],
      "source": [
        "result[0]"
      ]
    },
    {
      "cell_type": "markdown",
      "metadata": {
        "id": "NZuyq_R9wuSw"
      },
      "source": [
        "------------------------------------------------------"
      ]
    },
    {
      "cell_type": "markdown",
      "metadata": {
        "id": "ODTAexfiwuSw"
      },
      "source": [
        "# 5. KEGG"
      ]
    },
    {
      "cell_type": "markdown",
      "metadata": {
        "id": "vBt8ktUuwuSx"
      },
      "source": [
        "### Import Modules"
      ]
    },
    {
      "cell_type": "code",
      "execution_count": null,
      "metadata": {
        "id": "sgPsveNVwuSx"
      },
      "outputs": [],
      "source": [
        "from Bio.KEGG import REST, Enzyme"
      ]
    },
    {
      "cell_type": "code",
      "execution_count": null,
      "metadata": {
        "id": "RaHnnbJ0wuSx",
        "outputId": "3335ef7d-e47e-4dc0-bf3f-0caf1e1c0d2b"
      },
      "outputs": [
        {
          "name": "stdout",
          "output_type": "stream",
          "text": [
            "Help on package Bio.KEGG.Enzyme in Bio.KEGG:\n",
            "\n",
            "NAME\n",
            "    Bio.KEGG.Enzyme - Code to work with the KEGG Enzyme database.\n",
            "\n",
            "DESCRIPTION\n",
            "    Functions:\n",
            "     - parse - Returns an iterator giving Record objects.\n",
            "    \n",
            "    Classes:\n",
            "     - Record - Holds the information from a KEGG Enzyme record.\n",
            "\n",
            "PACKAGE CONTENTS\n",
            "\n",
            "\n",
            "CLASSES\n",
            "    builtins.object\n",
            "        Record\n",
            "    \n",
            "    class Record(builtins.object)\n",
            "     |  Holds info from a KEGG Enzyme record.\n",
            "     |  \n",
            "     |  Attributes:\n",
            "     |   - entry       The EC number (withou the 'EC ').\n",
            "     |   - name        A list of the enzyme names.\n",
            "     |   - classname   A list of the classification terms.\n",
            "     |   - sysname     The systematic name of the enzyme.\n",
            "     |   - reaction    A list of the reaction description strings.\n",
            "     |   - substrate   A list of the substrates.\n",
            "     |   - product     A list of the products.\n",
            "     |   - inhibitor   A list of the inhibitors.\n",
            "     |   - cofactor    A list of the cofactors.\n",
            "     |   - effector    A list of the effectors.\n",
            "     |   - comment     A list of the comment strings.\n",
            "     |   - pathway     A list of 3-tuples: (database, id, pathway)\n",
            "     |   - genes       A list of 2-tuples: (organism, list of gene ids)\n",
            "     |   - disease     A list of 3-tuples: (database, id, disease)\n",
            "     |   - structures  A list of 2-tuples: (database, list of struct ids)\n",
            "     |   - dblinks     A list of 2-tuples: (database, list of db ids)\n",
            "     |  \n",
            "     |  Methods defined here:\n",
            "     |  \n",
            "     |  __init__(self)\n",
            "     |      Initialize a new Record.\n",
            "     |  \n",
            "     |  __str__(self)\n",
            "     |      Return a string representation of this Record.\n",
            "     |  \n",
            "     |  ----------------------------------------------------------------------\n",
            "     |  Data descriptors defined here:\n",
            "     |  \n",
            "     |  __dict__\n",
            "     |      dictionary for instance variables (if defined)\n",
            "     |  \n",
            "     |  __weakref__\n",
            "     |      list of weak references to the object (if defined)\n",
            "\n",
            "FUNCTIONS\n",
            "    parse(handle)\n",
            "        Parse a KEGG Enzyme file, returning Record objects.\n",
            "        \n",
            "        This is an iterator function, typically used in a for loop.  For\n",
            "        example, using one of the example KEGG files in the Biopython\n",
            "        test suite,\n",
            "        \n",
            "        >>> with open(\"KEGG/enzyme.sample\") as handle:\n",
            "        ...     for record in parse(handle):\n",
            "        ...         print(\"%s %s\" % (record.entry, record.name[0]))\n",
            "        ...\n",
            "        1.1.1.1 alcohol dehydrogenase\n",
            "        1.1.1.62 17beta-estradiol 17-dehydrogenase\n",
            "        1.1.1.68 Transferred to 1.5.1.20\n",
            "        1.6.5.3 NADH:ubiquinone reductase (H+-translocating)\n",
            "        1.14.13.28 3,9-dihydroxypterocarpan 6a-monooxygenase\n",
            "        2.4.1.68 glycoprotein 6-alpha-L-fucosyltransferase\n",
            "        3.1.1.6 acetylesterase\n",
            "        2.7.2.1 acetate kinase\n",
            "    \n",
            "    read(handle)\n",
            "        Parse a KEGG Enzyme file with exactly one entry.\n",
            "        \n",
            "        If the handle contains no records, or more than one record,\n",
            "        an exception is raised.  For example:\n",
            "        \n",
            "        >>> with open(\"KEGG/enzyme.new\") as handle:\n",
            "        ...     record = read(handle)\n",
            "        ...     print(\"%s %s\" % (record.entry, record.name[0]))\n",
            "        ...\n",
            "        6.2.1.25 benzoate---CoA ligase\n",
            "\n",
            "DATA\n",
            "    name_wrap = [0, '', (' ', '$', 1, 1), ('-', '$', 1, 1)]\n",
            "    rxn_wrap = [0, '', (' + ', '', 1, 1), (' = ', '', 1, 1), (' ', '$', 1,...\n",
            "\n",
            "FILE\n",
            "    /home/rhyme/.local/lib/python3.6/site-packages/Bio/KEGG/Enzyme/__init__.py\n",
            "\n",
            "\n"
          ]
        }
      ],
      "source": [
        "help(Enzyme)"
      ]
    },
    {
      "cell_type": "code",
      "execution_count": null,
      "metadata": {
        "id": "Gb2_wXTNwuSx",
        "outputId": "0eb5f087-60b2-4c73-c30e-b6f2a3138aec"
      },
      "outputs": [
        {
          "data": {
            "text/plain": [
              "273337"
            ]
          },
          "execution_count": 57,
          "metadata": {},
          "output_type": "execute_result"
        }
      ],
      "source": [
        "request = REST.kegg_get(\"ec:5.4.2.2\")\n",
        "open(\"ec_5.4.2.2.txt\", \"w\").write(request.read())"
      ]
    },
    {
      "cell_type": "code",
      "execution_count": null,
      "metadata": {
        "id": "Pc7_Eu72wuSx",
        "outputId": "21a18a1e-3495-4038-e1cd-b689a10cc63f"
      },
      "outputs": [
        {
          "data": {
            "text/plain": [
              "['Isomerases;',\n",
              " 'Intramolecular transferases;',\n",
              " 'Phosphotransferases (phosphomutases)']"
            ]
          },
          "execution_count": 58,
          "metadata": {},
          "output_type": "execute_result"
        }
      ],
      "source": [
        "records = Enzyme.parse(open(\"ec_5.4.2.2.txt\"))\n",
        "record = list(records)[0]\n",
        "record.classname"
      ]
    },
    {
      "cell_type": "code",
      "execution_count": null,
      "metadata": {
        "id": "9BOct6jIwuSx",
        "outputId": "deca6e60-a6d2-4f57-b435-76d489d89665"
      },
      "outputs": [
        {
          "data": {
            "text/plain": [
              "[('PATH', 'ec00010', 'Glycolysis / Gluconeogenesis'),\n",
              " ('PATH', 'ec00030', 'Pentose phosphate pathway'),\n",
              " ('PATH', 'ec00052', 'Galactose metabolism'),\n",
              " ('PATH', 'ec00230', 'Purine metabolism'),\n",
              " ('PATH', 'ec00500', 'Starch and sucrose metabolism'),\n",
              " ('PATH', 'ec00520', 'Amino sugar and nucleotide sugar metabolism'),\n",
              " ('PATH', 'ec00521', 'Streptomycin biosynthesis'),\n",
              " ('PATH', 'ec01100', 'Metabolic pathways'),\n",
              " ('PATH', 'ec01110', 'Biosynthesis of secondary metabolites'),\n",
              " ('PATH', 'ec01120', 'Microbial metabolism in diverse environments')]"
            ]
          },
          "execution_count": 59,
          "metadata": {},
          "output_type": "execute_result"
        }
      ],
      "source": [
        "record.pathway"
      ]
    },
    {
      "cell_type": "code",
      "execution_count": null,
      "metadata": {
        "id": "rotvlofXwuSy",
        "outputId": "891d43f6-288f-4985-ead1-43d3232a1b8c"
      },
      "outputs": [
        {
          "data": {
            "text/plain": [
              "[('HSA', ['5236', '55276']),\n",
              " ('PTR', ['456908', '461162']),\n",
              " ('PPS', ['100977295', '100993927']),\n",
              " ('GGO', ['101128874', '101131551']),\n",
              " ('PON', ['100190836', '100438793']),\n",
              " ('NLE', ['100596081', '100600656']),\n",
              " ('HMH', ['116456694', '116457795']),\n",
              " ('MCC', ['100424648', '699401']),\n",
              " ('MCF', ['101925921', '102130622']),\n",
              " ('MTHB', ['126935012', '126954887'])]"
            ]
          },
          "execution_count": 60,
          "metadata": {},
          "output_type": "execute_result"
        }
      ],
      "source": [
        "record.genes[:10]"
      ]
    },
    {
      "cell_type": "code",
      "execution_count": null,
      "metadata": {
        "id": "tOVvJpNTwuSy",
        "outputId": "f0de3e3f-ee3c-4e3e-a82c-ebd5c2f3762f"
      },
      "outputs": [
        {
          "name": "stdout",
          "output_type": "stream",
          "text": [
            "['HSA', 'PTR', 'PPS', 'GGO', 'PON', 'NLE', 'HMH', 'MCC', 'MCF', 'MTHB']\n"
          ]
        }
      ],
      "source": [
        "list_genes = []\n",
        "for x,y in record.genes:\n",
        "    list_genes += x.split(\"\\n\")\n",
        "\n",
        "print(list_genes[:10])"
      ]
    },
    {
      "cell_type": "markdown",
      "metadata": {
        "id": "uTVgi90lwuSy"
      },
      "source": [
        "------------------------------------------------------"
      ]
    }
  ],
  "metadata": {
    "kernelspec": {
      "display_name": "Python 3",
      "language": "python",
      "name": "python3"
    },
    "language_info": {
      "codemirror_mode": {
        "name": "ipython",
        "version": 3
      },
      "file_extension": ".py",
      "mimetype": "text/x-python",
      "name": "python",
      "nbconvert_exporter": "python",
      "pygments_lexer": "ipython3",
      "version": "3.6.9"
    },
    "colab": {
      "provenance": []
    }
  },
  "nbformat": 4,
  "nbformat_minor": 0
}